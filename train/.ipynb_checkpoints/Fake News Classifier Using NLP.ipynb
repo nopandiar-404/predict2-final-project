{
  "nbformat": 4,
  "nbformat_minor": 0,
  "metadata": {
    "colab": {
      "provenance": [],
      "collapsed_sections": [
        "PxfWU_6xBbJX"
      ]
    },
    "kernelspec": {
      "name": "python3",
      "display_name": "Python 3"
    },
    "language_info": {
      "name": "python"
    }
  },
  "cells": [
    {
      "cell_type": "code",
      "execution_count": 3,
      "metadata": {
        "id": "ZQfZE2ajCSha"
      },
      "outputs": [],
      "source": [
        "import functools\n",
        "import sys\n",
        "import random\n",
        "import numpy as np \n",
        "import pandas as pd\n",
        "import seaborn as sns \n",
        "\n",
        "import matplotlib.pyplot as plt\n",
        "%matplotlib inline"
      ]
    },
    {
      "cell_type": "code",
      "source": [
        "df = pd.read_csv(\"train.csv\",encoding=\"ISO-8859-1\") \n",
        "df.head()"
      ],
      "metadata": {
        "colab": {
          "base_uri": "https://localhost:8080/",
          "height": 206
        },
        "id": "h8Ayd6QHCu4f",
        "outputId": "c2298ab1-7e9e-418c-9075-9667a229c47a"
      },
      "execution_count": 9,
      "outputs": [
        {
          "output_type": "execute_result",
          "data": {
            "text/plain": [
              "   id                                              title  \\\n",
              "0   1  Ancelotti: Timnas Spanyol Harus Bawa Ramos ke ...   \n",
              "1   2  MONKEYPOX is 'very contagious' four days befor...   \n",
              "2   3  VIRTUALLY REAL : Meta Quest Pro review: Ive b...   \n",
              "3   4  Russia resumes its participation in Ukraine gr...   \n",
              "4   5  Nikola cuts production guidance, sending stock...   \n",
              "\n",
              "                                                text  label  \n",
              "0  Madrid - Pelatih Real Madrid Carlo Ancelotti m...      1  \n",
              "1  Cases of the illness were first detected in th...      1  \n",
              "2  After a week with the Meta Quest Pro, I've nev...      1  \n",
              "3  Russia said Wednesday that it will resume its ...      1  \n",
              "4  Electric heavy truck maker Nikola said that it...      1  "
            ],
            "text/html": [
              "\n",
              "  <div id=\"df-e5269966-b665-449a-a984-7cd9a38b03cc\">\n",
              "    <div class=\"colab-df-container\">\n",
              "      <div>\n",
              "<style scoped>\n",
              "    .dataframe tbody tr th:only-of-type {\n",
              "        vertical-align: middle;\n",
              "    }\n",
              "\n",
              "    .dataframe tbody tr th {\n",
              "        vertical-align: top;\n",
              "    }\n",
              "\n",
              "    .dataframe thead th {\n",
              "        text-align: right;\n",
              "    }\n",
              "</style>\n",
              "<table border=\"1\" class=\"dataframe\">\n",
              "  <thead>\n",
              "    <tr style=\"text-align: right;\">\n",
              "      <th></th>\n",
              "      <th>id</th>\n",
              "      <th>title</th>\n",
              "      <th>text</th>\n",
              "      <th>label</th>\n",
              "    </tr>\n",
              "  </thead>\n",
              "  <tbody>\n",
              "    <tr>\n",
              "      <th>0</th>\n",
              "      <td>1</td>\n",
              "      <td>Ancelotti: Timnas Spanyol Harus Bawa Ramos ke ...</td>\n",
              "      <td>Madrid - Pelatih Real Madrid Carlo Ancelotti m...</td>\n",
              "      <td>1</td>\n",
              "    </tr>\n",
              "    <tr>\n",
              "      <th>1</th>\n",
              "      <td>2</td>\n",
              "      <td>MONKEYPOX is 'very contagious' four days befor...</td>\n",
              "      <td>Cases of the illness were first detected in th...</td>\n",
              "      <td>1</td>\n",
              "    </tr>\n",
              "    <tr>\n",
              "      <th>2</th>\n",
              "      <td>3</td>\n",
              "      <td>VIRTUALLY REAL : Meta Quest Pro review: Ive b...</td>\n",
              "      <td>After a week with the Meta Quest Pro, I've nev...</td>\n",
              "      <td>1</td>\n",
              "    </tr>\n",
              "    <tr>\n",
              "      <th>3</th>\n",
              "      <td>4</td>\n",
              "      <td>Russia resumes its participation in Ukraine gr...</td>\n",
              "      <td>Russia said Wednesday that it will resume its ...</td>\n",
              "      <td>1</td>\n",
              "    </tr>\n",
              "    <tr>\n",
              "      <th>4</th>\n",
              "      <td>5</td>\n",
              "      <td>Nikola cuts production guidance, sending stock...</td>\n",
              "      <td>Electric heavy truck maker Nikola said that it...</td>\n",
              "      <td>1</td>\n",
              "    </tr>\n",
              "  </tbody>\n",
              "</table>\n",
              "</div>\n",
              "      <button class=\"colab-df-convert\" onclick=\"convertToInteractive('df-e5269966-b665-449a-a984-7cd9a38b03cc')\"\n",
              "              title=\"Convert this dataframe to an interactive table.\"\n",
              "              style=\"display:none;\">\n",
              "        \n",
              "  <svg xmlns=\"http://www.w3.org/2000/svg\" height=\"24px\"viewBox=\"0 0 24 24\"\n",
              "       width=\"24px\">\n",
              "    <path d=\"M0 0h24v24H0V0z\" fill=\"none\"/>\n",
              "    <path d=\"M18.56 5.44l.94 2.06.94-2.06 2.06-.94-2.06-.94-.94-2.06-.94 2.06-2.06.94zm-11 1L8.5 8.5l.94-2.06 2.06-.94-2.06-.94L8.5 2.5l-.94 2.06-2.06.94zm10 10l.94 2.06.94-2.06 2.06-.94-2.06-.94-.94-2.06-.94 2.06-2.06.94z\"/><path d=\"M17.41 7.96l-1.37-1.37c-.4-.4-.92-.59-1.43-.59-.52 0-1.04.2-1.43.59L10.3 9.45l-7.72 7.72c-.78.78-.78 2.05 0 2.83L4 21.41c.39.39.9.59 1.41.59.51 0 1.02-.2 1.41-.59l7.78-7.78 2.81-2.81c.8-.78.8-2.07 0-2.86zM5.41 20L4 18.59l7.72-7.72 1.47 1.35L5.41 20z\"/>\n",
              "  </svg>\n",
              "      </button>\n",
              "      \n",
              "  <style>\n",
              "    .colab-df-container {\n",
              "      display:flex;\n",
              "      flex-wrap:wrap;\n",
              "      gap: 12px;\n",
              "    }\n",
              "\n",
              "    .colab-df-convert {\n",
              "      background-color: #E8F0FE;\n",
              "      border: none;\n",
              "      border-radius: 50%;\n",
              "      cursor: pointer;\n",
              "      display: none;\n",
              "      fill: #1967D2;\n",
              "      height: 32px;\n",
              "      padding: 0 0 0 0;\n",
              "      width: 32px;\n",
              "    }\n",
              "\n",
              "    .colab-df-convert:hover {\n",
              "      background-color: #E2EBFA;\n",
              "      box-shadow: 0px 1px 2px rgba(60, 64, 67, 0.3), 0px 1px 3px 1px rgba(60, 64, 67, 0.15);\n",
              "      fill: #174EA6;\n",
              "    }\n",
              "\n",
              "    [theme=dark] .colab-df-convert {\n",
              "      background-color: #3B4455;\n",
              "      fill: #D2E3FC;\n",
              "    }\n",
              "\n",
              "    [theme=dark] .colab-df-convert:hover {\n",
              "      background-color: #434B5C;\n",
              "      box-shadow: 0px 1px 3px 1px rgba(0, 0, 0, 0.15);\n",
              "      filter: drop-shadow(0px 1px 2px rgba(0, 0, 0, 0.3));\n",
              "      fill: #FFFFFF;\n",
              "    }\n",
              "  </style>\n",
              "\n",
              "      <script>\n",
              "        const buttonEl =\n",
              "          document.querySelector('#df-e5269966-b665-449a-a984-7cd9a38b03cc button.colab-df-convert');\n",
              "        buttonEl.style.display =\n",
              "          google.colab.kernel.accessAllowed ? 'block' : 'none';\n",
              "\n",
              "        async function convertToInteractive(key) {\n",
              "          const element = document.querySelector('#df-e5269966-b665-449a-a984-7cd9a38b03cc');\n",
              "          const dataTable =\n",
              "            await google.colab.kernel.invokeFunction('convertToInteractive',\n",
              "                                                     [key], {});\n",
              "          if (!dataTable) return;\n",
              "\n",
              "          const docLinkHtml = 'Like what you see? Visit the ' +\n",
              "            '<a target=\"_blank\" href=https://colab.research.google.com/notebooks/data_table.ipynb>data table notebook</a>'\n",
              "            + ' to learn more about interactive tables.';\n",
              "          element.innerHTML = '';\n",
              "          dataTable['output_type'] = 'display_data';\n",
              "          await google.colab.output.renderOutput(dataTable, element);\n",
              "          const docLink = document.createElement('div');\n",
              "          docLink.innerHTML = docLinkHtml;\n",
              "          element.appendChild(docLink);\n",
              "        }\n",
              "      </script>\n",
              "    </div>\n",
              "  </div>\n",
              "  "
            ]
          },
          "metadata": {},
          "execution_count": 9
        }
      ]
    },
    {
      "cell_type": "code",
      "source": [
        "df.columns"
      ],
      "metadata": {
        "colab": {
          "base_uri": "https://localhost:8080/"
        },
        "id": "bzI1oA_QDbyT",
        "outputId": "ec281c2a-f89f-4baa-8648-0624b7fcde70"
      },
      "execution_count": 10,
      "outputs": [
        {
          "output_type": "execute_result",
          "data": {
            "text/plain": [
              "Index(['id', 'title', 'text', 'label'], dtype='object')"
            ]
          },
          "metadata": {},
          "execution_count": 10
        }
      ]
    },
    {
      "cell_type": "code",
      "source": [
        "df.describe()"
      ],
      "metadata": {
        "colab": {
          "base_uri": "https://localhost:8080/",
          "height": 300
        },
        "id": "VIuYZ9pBDdPQ",
        "outputId": "cd601644-afc8-4416-99db-387193285f8b"
      },
      "execution_count": 11,
      "outputs": [
        {
          "output_type": "execute_result",
          "data": {
            "text/plain": [
              "                id        label\n",
              "count  1137.000000  1137.000000\n",
              "mean    569.000000     0.551451\n",
              "std     328.367934     0.497565\n",
              "min       1.000000     0.000000\n",
              "25%     285.000000     0.000000\n",
              "50%     569.000000     1.000000\n",
              "75%     853.000000     1.000000\n",
              "max    1137.000000     1.000000"
            ],
            "text/html": [
              "\n",
              "  <div id=\"df-238df176-60ed-46e8-b72c-dde044e43d31\">\n",
              "    <div class=\"colab-df-container\">\n",
              "      <div>\n",
              "<style scoped>\n",
              "    .dataframe tbody tr th:only-of-type {\n",
              "        vertical-align: middle;\n",
              "    }\n",
              "\n",
              "    .dataframe tbody tr th {\n",
              "        vertical-align: top;\n",
              "    }\n",
              "\n",
              "    .dataframe thead th {\n",
              "        text-align: right;\n",
              "    }\n",
              "</style>\n",
              "<table border=\"1\" class=\"dataframe\">\n",
              "  <thead>\n",
              "    <tr style=\"text-align: right;\">\n",
              "      <th></th>\n",
              "      <th>id</th>\n",
              "      <th>label</th>\n",
              "    </tr>\n",
              "  </thead>\n",
              "  <tbody>\n",
              "    <tr>\n",
              "      <th>count</th>\n",
              "      <td>1137.000000</td>\n",
              "      <td>1137.000000</td>\n",
              "    </tr>\n",
              "    <tr>\n",
              "      <th>mean</th>\n",
              "      <td>569.000000</td>\n",
              "      <td>0.551451</td>\n",
              "    </tr>\n",
              "    <tr>\n",
              "      <th>std</th>\n",
              "      <td>328.367934</td>\n",
              "      <td>0.497565</td>\n",
              "    </tr>\n",
              "    <tr>\n",
              "      <th>min</th>\n",
              "      <td>1.000000</td>\n",
              "      <td>0.000000</td>\n",
              "    </tr>\n",
              "    <tr>\n",
              "      <th>25%</th>\n",
              "      <td>285.000000</td>\n",
              "      <td>0.000000</td>\n",
              "    </tr>\n",
              "    <tr>\n",
              "      <th>50%</th>\n",
              "      <td>569.000000</td>\n",
              "      <td>1.000000</td>\n",
              "    </tr>\n",
              "    <tr>\n",
              "      <th>75%</th>\n",
              "      <td>853.000000</td>\n",
              "      <td>1.000000</td>\n",
              "    </tr>\n",
              "    <tr>\n",
              "      <th>max</th>\n",
              "      <td>1137.000000</td>\n",
              "      <td>1.000000</td>\n",
              "    </tr>\n",
              "  </tbody>\n",
              "</table>\n",
              "</div>\n",
              "      <button class=\"colab-df-convert\" onclick=\"convertToInteractive('df-238df176-60ed-46e8-b72c-dde044e43d31')\"\n",
              "              title=\"Convert this dataframe to an interactive table.\"\n",
              "              style=\"display:none;\">\n",
              "        \n",
              "  <svg xmlns=\"http://www.w3.org/2000/svg\" height=\"24px\"viewBox=\"0 0 24 24\"\n",
              "       width=\"24px\">\n",
              "    <path d=\"M0 0h24v24H0V0z\" fill=\"none\"/>\n",
              "    <path d=\"M18.56 5.44l.94 2.06.94-2.06 2.06-.94-2.06-.94-.94-2.06-.94 2.06-2.06.94zm-11 1L8.5 8.5l.94-2.06 2.06-.94-2.06-.94L8.5 2.5l-.94 2.06-2.06.94zm10 10l.94 2.06.94-2.06 2.06-.94-2.06-.94-.94-2.06-.94 2.06-2.06.94z\"/><path d=\"M17.41 7.96l-1.37-1.37c-.4-.4-.92-.59-1.43-.59-.52 0-1.04.2-1.43.59L10.3 9.45l-7.72 7.72c-.78.78-.78 2.05 0 2.83L4 21.41c.39.39.9.59 1.41.59.51 0 1.02-.2 1.41-.59l7.78-7.78 2.81-2.81c.8-.78.8-2.07 0-2.86zM5.41 20L4 18.59l7.72-7.72 1.47 1.35L5.41 20z\"/>\n",
              "  </svg>\n",
              "      </button>\n",
              "      \n",
              "  <style>\n",
              "    .colab-df-container {\n",
              "      display:flex;\n",
              "      flex-wrap:wrap;\n",
              "      gap: 12px;\n",
              "    }\n",
              "\n",
              "    .colab-df-convert {\n",
              "      background-color: #E8F0FE;\n",
              "      border: none;\n",
              "      border-radius: 50%;\n",
              "      cursor: pointer;\n",
              "      display: none;\n",
              "      fill: #1967D2;\n",
              "      height: 32px;\n",
              "      padding: 0 0 0 0;\n",
              "      width: 32px;\n",
              "    }\n",
              "\n",
              "    .colab-df-convert:hover {\n",
              "      background-color: #E2EBFA;\n",
              "      box-shadow: 0px 1px 2px rgba(60, 64, 67, 0.3), 0px 1px 3px 1px rgba(60, 64, 67, 0.15);\n",
              "      fill: #174EA6;\n",
              "    }\n",
              "\n",
              "    [theme=dark] .colab-df-convert {\n",
              "      background-color: #3B4455;\n",
              "      fill: #D2E3FC;\n",
              "    }\n",
              "\n",
              "    [theme=dark] .colab-df-convert:hover {\n",
              "      background-color: #434B5C;\n",
              "      box-shadow: 0px 1px 3px 1px rgba(0, 0, 0, 0.15);\n",
              "      filter: drop-shadow(0px 1px 2px rgba(0, 0, 0, 0.3));\n",
              "      fill: #FFFFFF;\n",
              "    }\n",
              "  </style>\n",
              "\n",
              "      <script>\n",
              "        const buttonEl =\n",
              "          document.querySelector('#df-238df176-60ed-46e8-b72c-dde044e43d31 button.colab-df-convert');\n",
              "        buttonEl.style.display =\n",
              "          google.colab.kernel.accessAllowed ? 'block' : 'none';\n",
              "\n",
              "        async function convertToInteractive(key) {\n",
              "          const element = document.querySelector('#df-238df176-60ed-46e8-b72c-dde044e43d31');\n",
              "          const dataTable =\n",
              "            await google.colab.kernel.invokeFunction('convertToInteractive',\n",
              "                                                     [key], {});\n",
              "          if (!dataTable) return;\n",
              "\n",
              "          const docLinkHtml = 'Like what you see? Visit the ' +\n",
              "            '<a target=\"_blank\" href=https://colab.research.google.com/notebooks/data_table.ipynb>data table notebook</a>'\n",
              "            + ' to learn more about interactive tables.';\n",
              "          element.innerHTML = '';\n",
              "          dataTable['output_type'] = 'display_data';\n",
              "          await google.colab.output.renderOutput(dataTable, element);\n",
              "          const docLink = document.createElement('div');\n",
              "          docLink.innerHTML = docLinkHtml;\n",
              "          element.appendChild(docLink);\n",
              "        }\n",
              "      </script>\n",
              "    </div>\n",
              "  </div>\n",
              "  "
            ]
          },
          "metadata": {},
          "execution_count": 11
        }
      ]
    },
    {
      "cell_type": "code",
      "source": [
        "df.info()"
      ],
      "metadata": {
        "colab": {
          "base_uri": "https://localhost:8080/"
        },
        "id": "NxfTjacCDfDp",
        "outputId": "a46434b8-3b92-4a59-a1e0-8296792c714d"
      },
      "execution_count": 12,
      "outputs": [
        {
          "output_type": "stream",
          "name": "stdout",
          "text": [
            "<class 'pandas.core.frame.DataFrame'>\n",
            "RangeIndex: 1137 entries, 0 to 1136\n",
            "Data columns (total 4 columns):\n",
            " #   Column  Non-Null Count  Dtype \n",
            "---  ------  --------------  ----- \n",
            " 0   id      1137 non-null   int64 \n",
            " 1   title   1137 non-null   object\n",
            " 2   text    1134 non-null   object\n",
            " 3   label   1137 non-null   int64 \n",
            "dtypes: int64(2), object(2)\n",
            "memory usage: 35.7+ KB\n"
          ]
        }
      ]
    },
    {
      "cell_type": "markdown",
      "metadata": {
        "id": "RKAJpm4sBbJS"
      },
      "source": [
        "## Some Exploratory Data Analysis :"
      ]
    },
    {
      "cell_type": "code",
      "execution_count": 13,
      "metadata": {
        "id": "KvuDVcCyBbJS",
        "outputId": "eaa998ae-a8a7-4405-f5ce-80b1edbcd73c",
        "colab": {
          "base_uri": "https://localhost:8080/"
        }
      },
      "outputs": [
        {
          "output_type": "execute_result",
          "data": {
            "text/plain": [
              "id       0\n",
              "title    0\n",
              "text     3\n",
              "label    0\n",
              "dtype: int64"
            ]
          },
          "metadata": {},
          "execution_count": 13
        }
      ],
      "source": [
        "df.isnull().sum()"
      ]
    },
    {
      "cell_type": "code",
      "execution_count": 14,
      "metadata": {
        "id": "Z8Vq5JV-BbJS",
        "outputId": "2465bd9a-1622-4029-f2e4-7914430f4c6e",
        "colab": {
          "base_uri": "https://localhost:8080/",
          "height": 296
        }
      },
      "outputs": [
        {
          "output_type": "execute_result",
          "data": {
            "text/plain": [
              "<matplotlib.axes._subplots.AxesSubplot at 0x7f8eb9ae2790>"
            ]
          },
          "metadata": {},
          "execution_count": 14
        },
        {
          "output_type": "display_data",
          "data": {
            "text/plain": [
              "<Figure size 432x288 with 1 Axes>"
            ],
            "image/png": "[encoded data removed]"
          },
          "metadata": {}
        }
      ],
      "source": [
        "sns.set_style('darkgrid')\n",
        "sns.countplot(x='label',data=df)"
      ]
    },
    {
      "cell_type": "code",
      "execution_count": 15,
      "metadata": {
        "id": "l3xW61duBbJS",
        "outputId": "50fce863-c027-4d19-c863-2360cd2776a8",
        "colab": {
          "base_uri": "https://localhost:8080/",
          "height": 143
        }
      },
      "outputs": [
        {
          "output_type": "execute_result",
          "data": {
            "text/plain": [
              "        id  title  text\n",
              "label                  \n",
              "0      510    510   510\n",
              "1      627    627   624"
            ],
            "text/html": [
              "\n",
              "  <div id=\"df-70ed8198-36c4-48d2-a9a3-c94736cb611d\">\n",
              "    <div class=\"colab-df-container\">\n",
              "      <div>\n",
              "<style scoped>\n",
              "    .dataframe tbody tr th:only-of-type {\n",
              "        vertical-align: middle;\n",
              "    }\n",
              "\n",
              "    .dataframe tbody tr th {\n",
              "        vertical-align: top;\n",
              "    }\n",
              "\n",
              "    .dataframe thead th {\n",
              "        text-align: right;\n",
              "    }\n",
              "</style>\n",
              "<table border=\"1\" class=\"dataframe\">\n",
              "  <thead>\n",
              "    <tr style=\"text-align: right;\">\n",
              "      <th></th>\n",
              "      <th>id</th>\n",
              "      <th>title</th>\n",
              "      <th>text</th>\n",
              "    </tr>\n",
              "    <tr>\n",
              "      <th>label</th>\n",
              "      <th></th>\n",
              "      <th></th>\n",
              "      <th></th>\n",
              "    </tr>\n",
              "  </thead>\n",
              "  <tbody>\n",
              "    <tr>\n",
              "      <th>0</th>\n",
              "      <td>510</td>\n",
              "      <td>510</td>\n",
              "      <td>510</td>\n",
              "    </tr>\n",
              "    <tr>\n",
              "      <th>1</th>\n",
              "      <td>627</td>\n",
              "      <td>627</td>\n",
              "      <td>624</td>\n",
              "    </tr>\n",
              "  </tbody>\n",
              "</table>\n",
              "</div>\n",
              "      <button class=\"colab-df-convert\" onclick=\"convertToInteractive('df-70ed8198-36c4-48d2-a9a3-c94736cb611d')\"\n",
              "              title=\"Convert this dataframe to an interactive table.\"\n",
              "              style=\"display:none;\">\n",
              "        \n",
              "  <svg xmlns=\"http://www.w3.org/2000/svg\" height=\"24px\"viewBox=\"0 0 24 24\"\n",
              "       width=\"24px\">\n",
              "    <path d=\"M0 0h24v24H0V0z\" fill=\"none\"/>\n",
              "    <path d=\"M18.56 5.44l.94 2.06.94-2.06 2.06-.94-2.06-.94-.94-2.06-.94 2.06-2.06.94zm-11 1L8.5 8.5l.94-2.06 2.06-.94-2.06-.94L8.5 2.5l-.94 2.06-2.06.94zm10 10l.94 2.06.94-2.06 2.06-.94-2.06-.94-.94-2.06-.94 2.06-2.06.94z\"/><path d=\"M17.41 7.96l-1.37-1.37c-.4-.4-.92-.59-1.43-.59-.52 0-1.04.2-1.43.59L10.3 9.45l-7.72 7.72c-.78.78-.78 2.05 0 2.83L4 21.41c.39.39.9.59 1.41.59.51 0 1.02-.2 1.41-.59l7.78-7.78 2.81-2.81c.8-.78.8-2.07 0-2.86zM5.41 20L4 18.59l7.72-7.72 1.47 1.35L5.41 20z\"/>\n",
              "  </svg>\n",
              "      </button>\n",
              "      \n",
              "  <style>\n",
              "    .colab-df-container {\n",
              "      display:flex;\n",
              "      flex-wrap:wrap;\n",
              "      gap: 12px;\n",
              "    }\n",
              "\n",
              "    .colab-df-convert {\n",
              "      background-color: #E8F0FE;\n",
              "      border: none;\n",
              "      border-radius: 50%;\n",
              "      cursor: pointer;\n",
              "      display: none;\n",
              "      fill: #1967D2;\n",
              "      height: 32px;\n",
              "      padding: 0 0 0 0;\n",
              "      width: 32px;\n",
              "    }\n",
              "\n",
              "    .colab-df-convert:hover {\n",
              "      background-color: #E2EBFA;\n",
              "      box-shadow: 0px 1px 2px rgba(60, 64, 67, 0.3), 0px 1px 3px 1px rgba(60, 64, 67, 0.15);\n",
              "      fill: #174EA6;\n",
              "    }\n",
              "\n",
              "    [theme=dark] .colab-df-convert {\n",
              "      background-color: #3B4455;\n",
              "      fill: #D2E3FC;\n",
              "    }\n",
              "\n",
              "    [theme=dark] .colab-df-convert:hover {\n",
              "      background-color: #434B5C;\n",
              "      box-shadow: 0px 1px 3px 1px rgba(0, 0, 0, 0.15);\n",
              "      filter: drop-shadow(0px 1px 2px rgba(0, 0, 0, 0.3));\n",
              "      fill: #FFFFFF;\n",
              "    }\n",
              "  </style>\n",
              "\n",
              "      <script>\n",
              "        const buttonEl =\n",
              "          document.querySelector('#df-70ed8198-36c4-48d2-a9a3-c94736cb611d button.colab-df-convert');\n",
              "        buttonEl.style.display =\n",
              "          google.colab.kernel.accessAllowed ? 'block' : 'none';\n",
              "\n",
              "        async function convertToInteractive(key) {\n",
              "          const element = document.querySelector('#df-70ed8198-36c4-48d2-a9a3-c94736cb611d');\n",
              "          const dataTable =\n",
              "            await google.colab.kernel.invokeFunction('convertToInteractive',\n",
              "                                                     [key], {});\n",
              "          if (!dataTable) return;\n",
              "\n",
              "          const docLinkHtml = 'Like what you see? Visit the ' +\n",
              "            '<a target=\"_blank\" href=https://colab.research.google.com/notebooks/data_table.ipynb>data table notebook</a>'\n",
              "            + ' to learn more about interactive tables.';\n",
              "          element.innerHTML = '';\n",
              "          dataTable['output_type'] = 'display_data';\n",
              "          await google.colab.output.renderOutput(dataTable, element);\n",
              "          const docLink = document.createElement('div');\n",
              "          docLink.innerHTML = docLinkHtml;\n",
              "          element.appendChild(docLink);\n",
              "        }\n",
              "      </script>\n",
              "    </div>\n",
              "  </div>\n",
              "  "
            ]
          },
          "metadata": {},
          "execution_count": 15
        }
      ],
      "source": [
        "df.groupby('label').count()"
      ]
    },
    {
      "cell_type": "code",
      "execution_count": 16,
      "metadata": {
        "id": "nfCNg5oRBbJT"
      },
      "outputs": [],
      "source": [
        "df['length']=df['title'].astype(str).apply(len)"
      ]
    },
    {
      "cell_type": "code",
      "execution_count": 17,
      "metadata": {
        "id": "OXgJQ9fMBbJT",
        "outputId": "1cc1fca1-0b9c-4b14-e0f2-07225047183e",
        "colab": {
          "base_uri": "https://localhost:8080/",
          "height": 282
        }
      },
      "outputs": [
        {
          "output_type": "execute_result",
          "data": {
            "text/plain": [
              "<matplotlib.axes._subplots.AxesSubplot at 0x7f8eb94b3610>"
            ]
          },
          "metadata": {},
          "execution_count": 17
        },
        {
          "output_type": "display_data",
          "data": {
            "text/plain": [
              "<Figure size 432x288 with 1 Axes>"
            ],
            "image/png": "[encoded data removed]"
          },
          "metadata": {}
        }
      ],
      "source": [
        "df['length'].hist()"
      ]
    },
    {
      "cell_type": "code",
      "execution_count": 18,
      "metadata": {
        "id": "pMm2bXt_BbJT"
      },
      "outputs": [],
      "source": [
        "df=df.dropna()\n",
        "messages=df.copy()\n",
        "\n",
        "\n"
      ]
    },
    {
      "cell_type": "code",
      "execution_count": 19,
      "metadata": {
        "id": "UPw7NFC-BbJT"
      },
      "outputs": [],
      "source": [
        "messages.reset_index(inplace=True)"
      ]
    },
    {
      "cell_type": "code",
      "execution_count": 20,
      "metadata": {
        "id": "ZEstkLS5BbJT",
        "outputId": "4def9ffa-ce30-4137-a1fb-1acbd285c7d0",
        "colab": {
          "base_uri": "https://localhost:8080/",
          "height": 363
        }
      },
      "outputs": [
        {
          "output_type": "execute_result",
          "data": {
            "text/plain": [
              "   index  id                                              title  \\\n",
              "0      0   1  Ancelotti: Timnas Spanyol Harus Bawa Ramos ke ...   \n",
              "1      1   2  MONKEYPOX is 'very contagious' four days befor...   \n",
              "2      2   3  VIRTUALLY REAL : Meta Quest Pro review: Ive b...   \n",
              "3      3   4  Russia resumes its participation in Ukraine gr...   \n",
              "4      4   5  Nikola cuts production guidance, sending stock...   \n",
              "5      5   6  Zelenskyy hails UN nuclear investigation resul...   \n",
              "6      6   7  Chelseas rivalry with Arsenal suddenly looks ...   \n",
              "7      7   8  TV Analog Dimatikan, Hary Tanoe Sebut MNC Grou...   \n",
              "8      8   9  Halalan Thayyiban dalam Al-Qur'an, Seperti Apa...   \n",
              "9      9  10  Presidents fight for every vote in Pennsylvani...   \n",
              "\n",
              "                                                text  label  length  \n",
              "0  Madrid - Pelatih Real Madrid Carlo Ancelotti m...      1      57  \n",
              "1  Cases of the illness were first detected in th...      1      88  \n",
              "2  After a week with the Meta Quest Pro, I've nev...      1     114  \n",
              "3  Russia said Wednesday that it will resume its ...      1     114  \n",
              "4  Electric heavy truck maker Nikola said that it...      1      82  \n",
              "5  Ukrainian President Volodymyr Zelenskyy praise...      1     103  \n",
              "6  For the first time in several years, Arsenal s...      1      60  \n",
              "7  Jakarta - Stasiun TV yang di bawah naungan MNC...      1      56  \n",
              "8  Jakarta - Mengutip buku Kebijakan Produk Hukum...      1      56  \n",
              "9  President Biden, Donald Trump and Barack Obama...      1      84  "
            ],
            "text/html": [
              "\n",
              "  <div id=\"df-1b286804-7cf6-4738-af9b-c28576452904\">\n",
              "    <div class=\"colab-df-container\">\n",
              "      <div>\n",
              "<style scoped>\n",
              "    .dataframe tbody tr th:only-of-type {\n",
              "        vertical-align: middle;\n",
              "    }\n",
              "\n",
              "    .dataframe tbody tr th {\n",
              "        vertical-align: top;\n",
              "    }\n",
              "\n",
              "    .dataframe thead th {\n",
              "        text-align: right;\n",
              "    }\n",
              "</style>\n",
              "<table border=\"1\" class=\"dataframe\">\n",
              "  <thead>\n",
              "    <tr style=\"text-align: right;\">\n",
              "      <th></th>\n",
              "      <th>index</th>\n",
              "      <th>id</th>\n",
              "      <th>title</th>\n",
              "      <th>text</th>\n",
              "      <th>label</th>\n",
              "      <th>length</th>\n",
              "    </tr>\n",
              "  </thead>\n",
              "  <tbody>\n",
              "    <tr>\n",
              "      <th>0</th>\n",
              "      <td>0</td>\n",
              "      <td>1</td>\n",
              "      <td>Ancelotti: Timnas Spanyol Harus Bawa Ramos ke ...</td>\n",
              "      <td>Madrid - Pelatih Real Madrid Carlo Ancelotti m...</td>\n",
              "      <td>1</td>\n",
              "      <td>57</td>\n",
              "    </tr>\n",
              "    <tr>\n",
              "      <th>1</th>\n",
              "      <td>1</td>\n",
              "      <td>2</td>\n",
              "      <td>MONKEYPOX is 'very contagious' four days befor...</td>\n",
              "      <td>Cases of the illness were first detected in th...</td>\n",
              "      <td>1</td>\n",
              "      <td>88</td>\n",
              "    </tr>\n",
              "    <tr>\n",
              "      <th>2</th>\n",
              "      <td>2</td>\n",
              "      <td>3</td>\n",
              "      <td>VIRTUALLY REAL : Meta Quest Pro review: Ive b...</td>\n",
              "      <td>After a week with the Meta Quest Pro, I've nev...</td>\n",
              "      <td>1</td>\n",
              "      <td>114</td>\n",
              "    </tr>\n",
              "    <tr>\n",
              "      <th>3</th>\n",
              "      <td>3</td>\n",
              "      <td>4</td>\n",
              "      <td>Russia resumes its participation in Ukraine gr...</td>\n",
              "      <td>Russia said Wednesday that it will resume its ...</td>\n",
              "      <td>1</td>\n",
              "      <td>114</td>\n",
              "    </tr>\n",
              "    <tr>\n",
              "      <th>4</th>\n",
              "      <td>4</td>\n",
              "      <td>5</td>\n",
              "      <td>Nikola cuts production guidance, sending stock...</td>\n",
              "      <td>Electric heavy truck maker Nikola said that it...</td>\n",
              "      <td>1</td>\n",
              "      <td>82</td>\n",
              "    </tr>\n",
              "    <tr>\n",
              "      <th>5</th>\n",
              "      <td>5</td>\n",
              "      <td>6</td>\n",
              "      <td>Zelenskyy hails UN nuclear investigation resul...</td>\n",
              "      <td>Ukrainian President Volodymyr Zelenskyy praise...</td>\n",
              "      <td>1</td>\n",
              "      <td>103</td>\n",
              "    </tr>\n",
              "    <tr>\n",
              "      <th>6</th>\n",
              "      <td>6</td>\n",
              "      <td>7</td>\n",
              "      <td>Chelseas rivalry with Arsenal suddenly looks ...</td>\n",
              "      <td>For the first time in several years, Arsenal s...</td>\n",
              "      <td>1</td>\n",
              "      <td>60</td>\n",
              "    </tr>\n",
              "    <tr>\n",
              "      <th>7</th>\n",
              "      <td>7</td>\n",
              "      <td>8</td>\n",
              "      <td>TV Analog Dimatikan, Hary Tanoe Sebut MNC Grou...</td>\n",
              "      <td>Jakarta - Stasiun TV yang di bawah naungan MNC...</td>\n",
              "      <td>1</td>\n",
              "      <td>56</td>\n",
              "    </tr>\n",
              "    <tr>\n",
              "      <th>8</th>\n",
              "      <td>8</td>\n",
              "      <td>9</td>\n",
              "      <td>Halalan Thayyiban dalam Al-Qur'an, Seperti Apa...</td>\n",
              "      <td>Jakarta - Mengutip buku Kebijakan Produk Hukum...</td>\n",
              "      <td>1</td>\n",
              "      <td>56</td>\n",
              "    </tr>\n",
              "    <tr>\n",
              "      <th>9</th>\n",
              "      <td>9</td>\n",
              "      <td>10</td>\n",
              "      <td>Presidents fight for every vote in Pennsylvani...</td>\n",
              "      <td>President Biden, Donald Trump and Barack Obama...</td>\n",
              "      <td>1</td>\n",
              "      <td>84</td>\n",
              "    </tr>\n",
              "  </tbody>\n",
              "</table>\n",
              "</div>\n",
              "      <button class=\"colab-df-convert\" onclick=\"convertToInteractive('df-1b286804-7cf6-4738-af9b-c28576452904')\"\n",
              "              title=\"Convert this dataframe to an interactive table.\"\n",
              "              style=\"display:none;\">\n",
              "        \n",
              "  <svg xmlns=\"http://www.w3.org/2000/svg\" height=\"24px\"viewBox=\"0 0 24 24\"\n",
              "       width=\"24px\">\n",
              "    <path d=\"M0 0h24v24H0V0z\" fill=\"none\"/>\n",
              "    <path d=\"M18.56 5.44l.94 2.06.94-2.06 2.06-.94-2.06-.94-.94-2.06-.94 2.06-2.06.94zm-11 1L8.5 8.5l.94-2.06 2.06-.94-2.06-.94L8.5 2.5l-.94 2.06-2.06.94zm10 10l.94 2.06.94-2.06 2.06-.94-2.06-.94-.94-2.06-.94 2.06-2.06.94z\"/><path d=\"M17.41 7.96l-1.37-1.37c-.4-.4-.92-.59-1.43-.59-.52 0-1.04.2-1.43.59L10.3 9.45l-7.72 7.72c-.78.78-.78 2.05 0 2.83L4 21.41c.39.39.9.59 1.41.59.51 0 1.02-.2 1.41-.59l7.78-7.78 2.81-2.81c.8-.78.8-2.07 0-2.86zM5.41 20L4 18.59l7.72-7.72 1.47 1.35L5.41 20z\"/>\n",
              "  </svg>\n",
              "      </button>\n",
              "      \n",
              "  <style>\n",
              "    .colab-df-container {\n",
              "      display:flex;\n",
              "      flex-wrap:wrap;\n",
              "      gap: 12px;\n",
              "    }\n",
              "\n",
              "    .colab-df-convert {\n",
              "      background-color: #E8F0FE;\n",
              "      border: none;\n",
              "      border-radius: 50%;\n",
              "      cursor: pointer;\n",
              "      display: none;\n",
              "      fill: #1967D2;\n",
              "      height: 32px;\n",
              "      padding: 0 0 0 0;\n",
              "      width: 32px;\n",
              "    }\n",
              "\n",
              "    .colab-df-convert:hover {\n",
              "      background-color: #E2EBFA;\n",
              "      box-shadow: 0px 1px 2px rgba(60, 64, 67, 0.3), 0px 1px 3px 1px rgba(60, 64, 67, 0.15);\n",
              "      fill: #174EA6;\n",
              "    }\n",
              "\n",
              "    [theme=dark] .colab-df-convert {\n",
              "      background-color: #3B4455;\n",
              "      fill: #D2E3FC;\n",
              "    }\n",
              "\n",
              "    [theme=dark] .colab-df-convert:hover {\n",
              "      background-color: #434B5C;\n",
              "      box-shadow: 0px 1px 3px 1px rgba(0, 0, 0, 0.15);\n",
              "      filter: drop-shadow(0px 1px 2px rgba(0, 0, 0, 0.3));\n",
              "      fill: #FFFFFF;\n",
              "    }\n",
              "  </style>\n",
              "\n",
              "      <script>\n",
              "        const buttonEl =\n",
              "          document.querySelector('#df-1b286804-7cf6-4738-af9b-c28576452904 button.colab-df-convert');\n",
              "        buttonEl.style.display =\n",
              "          google.colab.kernel.accessAllowed ? 'block' : 'none';\n",
              "\n",
              "        async function convertToInteractive(key) {\n",
              "          const element = document.querySelector('#df-1b286804-7cf6-4738-af9b-c28576452904');\n",
              "          const dataTable =\n",
              "            await google.colab.kernel.invokeFunction('convertToInteractive',\n",
              "                                                     [key], {});\n",
              "          if (!dataTable) return;\n",
              "\n",
              "          const docLinkHtml = 'Like what you see? Visit the ' +\n",
              "            '<a target=\"_blank\" href=https://colab.research.google.com/notebooks/data_table.ipynb>data table notebook</a>'\n",
              "            + ' to learn more about interactive tables.';\n",
              "          element.innerHTML = '';\n",
              "          dataTable['output_type'] = 'display_data';\n",
              "          await google.colab.output.renderOutput(dataTable, element);\n",
              "          const docLink = document.createElement('div');\n",
              "          docLink.innerHTML = docLinkHtml;\n",
              "          element.appendChild(docLink);\n",
              "        }\n",
              "      </script>\n",
              "    </div>\n",
              "  </div>\n",
              "  "
            ]
          },
          "metadata": {},
          "execution_count": 20
        }
      ],
      "source": [
        "messages.head(10)"
      ]
    },
    {
      "cell_type": "code",
      "execution_count": 22,
      "metadata": {
        "id": "zmWrl0FkBbJT",
        "outputId": "e013ea93-d53e-44b6-e30e-88808578f23a",
        "colab": {
          "base_uri": "https://localhost:8080/",
          "height": 1000
        }
      },
      "outputs": [
        {
          "output_type": "execute_result",
          "data": {
            "text/plain": [
              "text    \"The Best Mix Of Hard-Hitting REAL News & Cutting-Edge Alternative News On The Web\" \"All Original Stories All The Time\" Share This November 12, 2016 Readers Enraged By MSM Election Reporting - 'You Misled Your Readers, Blinded By Journalistic Bigotry' - Boycott All Mainstream Media And Their Lies In Their Efforts To Initiate The Overthrow Of Our Republic And Their Continuing Provocations In Stirring Up Civil Strife - Let The New Battle Cry For Truth Be \"Turn Them Off And Tune Them Out!\" By Susan Duclos - All News PipeLine Progressive liberals, George Soros and his merry band of paid protesters, and the mainstream media are certainly giving new meaning to William Shakespeare's \" Fight to the last gasp ,\" quote, but what none of them seem to realize yet as they cry, scream, riot and offer their mea culpa's is that the fight is over, the election is finished, their opponents have gone home to celebrate and they are doing nothing but flailing in the wind while grunting incoherently.While anyone can see the headlines about the third day of protests and riots, and how those that are incapable of understanding quite how elections work and are holding out for a pipe-dream that maybe they can make electors of the electoral college change their vote, what many are missing is how the mainstream media is attempting to suck more air out oxygen tanks that have gone empty.... and they have no one to blame but themselves. THE ULTIMATE LOSERS IN THE 2016 ELECTION - THE MSM For the last year and a half we have witnessed and reported on the mainstream media's unrelenting and unapologetic campaign against Donald Trump, where 91 percent of the reporting since the party's convention, where he was named the GOP nominee, has been studied and found to have been negative, but even before that they treated Trump as if he didn't stand a chance to win that nomination.We have noted and reported via Wikileaks releases how that very same MSM had colluded with the DNC and the Clinton campaign in order to influence the public to elect Hillary Clinton.We have also observed and reported how Trump supporters were constantly labeled and portrayed as racist, sexist, xenophobic, Islamophobic, uneducated, uninformed, white nationalist deplorables, just to name a few of the colorful descriptors.How did that work out for them?Despite their biased reporting and throwing everything, including the kitchen sink, at Trump, we now have President-Elect Donald Trump headed for the White House, to be sworn in on January 20, 2017. While Hillary Clinton will fade into obscurity and the protesters will eventually go home just to criticize everything Trump does for the next four (maybe 8?) years, and progressives will get over their sworn \"revolution\" within the party between liberals and moderate Democrats, the ultimate losers are not Clinton supporters, celebrities that swore to leave the country if Trump won, nor Democrats as a party.... it is the mainstream media that was rendered irrelevant, crushed by a wave of \"deplorables\" and alternative media bypassing their once-influential status to communicate without their fasle prism of 'truth.' MSM'S LAST GASP Now they are offering their mea culpas, dedicating countless hours and ink to explaining and justifying how they were so wrong in their predictions that they knew ahead of time were based on a false premise, and taking their \"last gasp\" by swearing to \"rededicate\" themselves to reporting honestly, while at the same time claiming they reported on \"both candidates fairly.\"I kid you not.Below is a letter by Arthur O. Sulzberger Jr. and Dean Baquet, the publisher and editor of the New York Times:First point is that if they had been reporting \"fairly\" as claimed in the letter above, they would not need to \"rededicate\" themselves to honesty. Secondly, they did not strive \"to understand and reflect all political perspectives and life experiences,\" of Trump supporters, rather they maligned, criticized, belittled and mocked anybody that did not agree with their superior and smug political opinion.While it is to be expected that Trump supporters, verbally abused on a regular basis will not forget nor forgive media outlets such as the Times, the Public Editor Liz Spayd, who works independently, with the job of examining The Times with an eye to protecting journalistic integrity and good practices, describes the reaction from other members of the public to their reporting. Readers are sending letters of complaint at a rapid rate. Heres one that summed up the feelings succinctly, from Kathleen Casey of Houston: \"Now, that the world has been upended and you are all, to a person, in a state of surprise and shock, you may want to consider whether you should change your focus from telling the reader what and how to think, and instead devote yourselves to finding out what the reader (and nonreaders) actually think.\" Another letter, from Nick Crawford of Plymouth, Mich., made a similar point. \"Perhaps the election result would not be such a surprise if your reporting had acknowledged what ordinary Americans care about, rather than pushing the limited agenda of your editors,\" he wrote. \"Please come down from your New York City skyscraper and join the rest of us.\" What Ms. Spayd does not acknowledge is that their reporting will not and cannot change as long as their publisher and editor, the ones that wrote the letter in the image above, continue to insist their reporting during the campaign season was in any way fair, or to even pretend they attempted to \"understand and reflect all political perspectives.\" What Ms. Spayd also does not address is the fact that five different New York Times' reporters accepted the invitations for the off-the-record gatherings to \"frame the HRC message\" with the Clinton campaign staff before her campaign launched, including, Gail Collins, Jonathan Martin, Maggie Haberman, Patrick Healy, and Amy Chozick, all of which consistently penned hit pieces against Trump.It is heartening to see that outlets like the New York Times are being called to the carpet by their own readers, as well as admitting they are losing subscribers, because while Trump supporters were maligned and lied about, their readers were misinformed and lied to . The countrys major news organizations, as surprised as anybody by Donald J. Trumps ascension to the presidency, faced a question from their audiences on Wednesday that was laced with a sense of betrayal and anger: How did you get it so wrong? The question came in letters. (\"To editors and writers of The NYT,\" one reader wrote, \"you were so wrong for so long. You misled your readers and were blinded by your own journalistic bigotry.\") It came in Facebook posts. (\"You were in a bubble and werent paying attention to your fellow Americans,\" the filmmaker Michael Moore wrote in a post shared more than 100,000 times.) Most ominously, it came in the form of canceled subscriptions, something that will surely be monitored. Former Times' reporter Michael Goodwin offers the Times some free advice : Using an outside law firm or even in-house reporters, he must assess how and why Baquet made the decision to sever the paper from its roots. He must assess the impact on reporters and editors, and whether they felt pressure to conform their stories to Baquets political bias. Whatever the findings, the publisher must insist that the standards of fairness again become a fundamental tenet in the news room. As an added guarantee, he must insist that the paper enlarge its thinking about diversity to include journalists who disagree with the Times embedded liberal slant. There has to be a difference of perspective to judge where fairness lies. Readers, and former readers, should be part of the process. Many already know that the paper must get its head out of parochial New York and into the hearts and minds of Americans everywhere. This is about survival. If it doesnt change now, the Gray Ladys days surely are numbered. BOTTOM LINE Frankly I believe traditional media's days are numbered whatever they do, and they are on their last gasp. There are too many Independent journalists and alternative news sites from both sides of the political aisle that are rendering them irrelevant. While alternative media has its own set of biases, the majority always provide links, documents when available, video clips and other methods for readers to verify, research and come to their own conclusions, something mainstream media doesn't want readers to do because they feel they have the right to lead the public where the MSM wants them to go, rather than inform the public and trust them to make their own determinations.  \\\n",
              "id                                                      1                                                                                                                                                                                                                                                                                                                                                                                                                                                                                                                                                                                                                                                                                                                                                                                                                                                                                                                                                                                                                                                                                                                                                                                                                                                                                                                                                                                                                                                                                                                                                                                                                                                                                                                                                                                                                                                                                                                                                                                                                                                                                                                                                                                                                                                                                                                                                                                                                                                                                                                                                                                                                                                                                                                                                                                                                                                                                                                                                                                                                                                                                                                                                                                                                                                                                                                                                                                                                                                                                                                                                                                                                                                                                                                                                                                                                                                                                                                                                                                                                                                                                                                                                                                                                                                                                                                                                                                                                                                                                                                                                                                                                                                                                                                                                                                                                                                                                                                                                                                                                                                                                                                                                                                                                                                                                                                                                                                                                                                                                                                                                                                                                                                                                                                                                                                                                                                                                                                                                                                                                                                                                                                                                                                                                                                                                                                                                                                                                                                                                                                                                                                                                                                                                                                                                                                                                                                                                                                                                                                                                                                                                                                                                                                                                                                                                                                                                                                                                                                                                                                                                                                                                                                                                                                                                                                                                                                                                                                                                                                                                                                                                                                                                                                                                                                                                                                                                                                                                                                                                                                                                                                                                                                                                                                                                                                                                                                                                                                                                                                            \n",
              "title                                                   1                                                                                                                                                                                                                                                                                                                                                                                                                                                                                                                                                                                                                                                                                                                                                                                                                                                                                                                                                                                                                                                                                                                                                                                                                                                                                                                                                                                                                                                                                                                                                                                                                                                                                                                                                                                                                                                                                                                                                                                                                                                                                                                                                                                                                                                                                                                                                                                                                                                                                                                                                                                                                                                                                                                                                                                                                                                                                                                                                                                                                                                                                                                                                                                                                                                                                                                                                                                                                                                                                                                                                                                                                                                                                                                                                                                                                                                                                                                                                                                                                                                                                                                                                                                                                                                                                                                                                                                                                                                                                                                                                                                                                                                                                                                                                                                                                                                                                                                                                                                                                                                                                                                                                                                                                                                                                                                                                                                                                                                                                                                                                                                                                                                                                                                                                                                                                                                                                                                                                                                                                                                                                                                                                                                                                                                                                                                                                                                                                                                                                                                                                                                                                                                                                                                                                                                                                                                                                                                                                                                                                                                                                                                                                                                                                                                                                                                                                                                                                                                                                                                                                                                                                                                                                                                                                                                                                                                                                                                                                                                                                                                                                                                                                                                                                                                                                                                                                                                                                                                                                                                                                                                                                                                                                                                                                                                                                                                                                                                                                                                            \n",
              "label                                                   1                                                                                                                                                                                                                                                                                                                                                                                                                                                                                                                                                                                                                                                                                                                                                                                                                                                                                                                                                                                                                                                                                                                                                                                                                                                                                                                                                                                                                                                                                                                                                                                                                                                                                                                                                                                                                                                                                                                                                                                                                                                                                                                                                                                                                                                                                                                                                                                                                                                                                                                                                                                                                                                                                                                                                                                                                                                                                                                                                                                                                                                                                                                                                                                                                                                                                                                                                                                                                                                                                                                                                                                                                                                                                                                                                                                                                                                                                                                                                                                                                                                                                                                                                                                                                                                                                                                                                                                                                                                                                                                                                                                                                                                                                                                                                                                                                                                                                                                                                                                                                                                                                                                                                                                                                                                                                                                                                                                                                                                                                                                                                                                                                                                                                                                                                                                                                                                                                                                                                                                                                                                                                                                                                                                                                                                                                                                                                                                                                                                                                                                                                                                                                                                                                                                                                                                                                                                                                                                                                                                                                                                                                                                                                                                                                                                                                                                                                                                                                                                                                                                                                                                                                                                                                                                                                                                                                                                                                                                                                                                                                                                                                                                                                                                                                                                                                                                                                                                                                                                                                                                                                                                                                                                                                                                                                                                                                                                                                                                                                                                            \n",
              "length                                                  1                                                                                                                                                                                                                                                                                                                                                                                                                                                                                                                                                                                                                                                                                                                                                                                                                                                                                                                                                                                                                                                                                                                                                                                                                                                                                                                                                                                                                                                                                                                                                                                                                                                                                                                                                                                                                                                                                                                                                                                                                                                                                                                                                                                                                                                                                                                                                                                                                                                                                                                                                                                                                                                                                                                                                                                                                                                                                                                                                                                                                                                                                                                                                                                                                                                                                                                                                                                                                                                                                                                                                                                                                                                                                                                                                                                                                                                                                                                                                                                                                                                                                                                                                                                                                                                                                                                                                                                                                                                                                                                                                                                                                                                                                                                                                                                                                                                                                                                                                                                                                                                                                                                                                                                                                                                                                                                                                                                                                                                                                                                                                                                                                                                                                                                                                                                                                                                                                                                                                                                                                                                                                                                                                                                                                                                                                                                                                                                                                                                                                                                                                                                                                                                                                                                                                                                                                                                                                                                                                                                                                                                                                                                                                                                                                                                                                                                                                                                                                                                                                                                                                                                                                                                                                                                                                                                                                                                                                                                                                                                                                                                                                                                                                                                                                                                                                                                                                                                                                                                                                                                                                                                                                                                                                                                                                                                                                                                                                                                                                                                            \n",
              "\n",
              "text    (Adult Language Warning) Liberal comedian Samantha Bee roasted the news media, past presidents, and President Donald Trump during a taped mock White House Correspondent s Dinner Saturday afternoon in Washington, D. C. From the Hollywood Reporter: As much as I might love poking fun at the media and as much as you kind of deserve it sometimes, your job has never been harder, she said. You re basically get paid to stand in a cage while a geriatric orangutan screams at you. ¦ You expose injustice against the weak and you continue to the president as if he might someday get embarrassed! Tonight is for you. ¦ The special s commercial breaks were led with taped sketches of Bee roasting a handful of previous presidents like Woodrow Wilson and Bill Clinton, complete with garb. This story has more wrinkles than the president s nutsack, she said of Ronald Reagan and the affair, while Richard Nixon achieved John F. Kennedy s two goals: landing a man on the moon and getting f  ed by a deep throat. The final sketch of this series had Bee roasting Mike Pence, who became president after Trump died after getting his head stuck in a jar of honey. She was shown wearing a chastity belt and a turtleneck: I attempted to cover my pillows but the slut shines through. ¦ One segment skewered Jeff Zucker and CNN. Zucker s greatest success besides The Apprentice  which, by the way, thanks for that  is filling airtime between car crashes with a reality show loosely based on the news where hacks make us measurably dumber by spewing mendacious nonsense while a hologram of Anderson Cooper stand by, said Bee, pleading for the network to free its journalists. Anderson is a smart reporter! Give him his black back and put him in front of a natural disaster! She added, CNN gives you news like your shitty boyfriend gives you orgasms: in the end, you wind up lying in the wet spot and he s snoring. For the rest of the article, click here. The TBS program Full Frontal with Samantha Bee s Not the White House Correspondents Dinner is set to air Saturday at 10 p. m. eastern.  \\\n",
              "id                                                      1                                                                                                                                                                                                                                                                                                                                                                                                                                                                                                                                                                                                                                                                                                                                                                                                                                                                                                                                                                                                                                                                                                                                                                                                                                                                                                                                                                                                                                                                                                                                                                                                                                                                                                                                                                                                                                                                                                                                                                                                                                                                                                        \n",
              "title                                                   1                                                                                                                                                                                                                                                                                                                                                                                                                                                                                                                                                                                                                                                                                                                                                                                                                                                                                                                                                                                                                                                                                                                                                                                                                                                                                                                                                                                                                                                                                                                                                                                                                                                                                                                                                                                                                                                                                                                                                                                                                                                                                                        \n",
              "label                                                   1                                                                                                                                                                                                                                                                                                                                                                                                                                                                                                                                                                                                                                                                                                                                                                                                                                                                                                                                                                                                                                                                                                                                                                                                                                                                                                                                                                                                                                                                                                                                                                                                                                                                                                                                                                                                                                                                                                                                                                                                                                                                                                        \n",
              "length                                                  1                                                                                                                                                                                                                                                                                                                                                                                                                                                                                                                                                                                                                                                                                                                                                                                                                                                                                                                                                                                                                                                                                                                                                                                                                                                                                                                                                                                                                                                                                                                                                                                                                                                                                                                                                                                                                                                                                                                                                                                                                                                                                                        \n",
              "\n",
              "text    (Before It's News)\\nWhat the video is about (emphasis added) In the effort to prove the credibility of the undercover donor featured in the videos and to keep the investigation going, Project Veritas Action made the decision to donate twenty thousand dollars to Robert Creamer s effort. Project Veritas Action had determined that the benefit of this investigation outweighed [ ¦]  \\\n",
              "id                                                      1                                                                                                                                                                                                                                                                                                                                             \n",
              "title                                                   1                                                                                                                                                                                                                                                                                                                                             \n",
              "label                                                   1                                                                                                                                                                                                                                                                                                                                             \n",
              "length                                                  1                                                                                                                                                                                                                                                                                                                                             \n",
              "\n",
              "text    (CNN) For many Americans across the country, Donald Trump's victory is an outcome they simply refuse to accept.\\n\\n\"Not my president,\" protesters chanted in rallies coast to coast.\\n\\nTens of thousands filled the streets in at least 25 US cities overnight -- with demonstrations outside Trump's properties.\\n\\nWhile most protesters were peaceful, dozens were arrested. At least three officers were wounded. And about 40 fires were set in one California city.\\n\\nHere's a snapshot of the rallies across the nation:\\n\\nOn Thursday afternoon, more than 200 anti-Trump protesters marched from the Union Square area to Washington Square Park in Manhattan.\\n\\nSome carried signs with messages such as, \"White men stop ruining everything.\" They chanted, \"Trump and Pence make no sense.\"\\n\\nOvernight, about 5,000 people protested the real estate mogul's victory outside Trump Tower, authorities estimated. They included pop star Lady Gaga, a staunch Hillary Clinton supporter.\\n\\nTheir concerns ranged from policies, such as Trump's proposed plan to build a wall along the US-Mexican border, to the polarizing tenor of his campaign that they say stoked xenophobic fears.\\n\\n\"I came out here to let go of a lot of fear that was sparked as soon as I saw the results,\" protester Nick Powers said in New York. He said he feared Trump will support stronger stop-and-frisk policies that would put many people in prison. Powers said he was also worried that Trump's victory would embolden sexist views.\\n\\nAt least 15 protesters at Trump Tower were arrested Wednesday night for disorderly conduct, New York police said.\\n\\nAbout 7,000 demonstrators filled streets in Oakland on Wednesday night -- and some turned violent.\\n\\nProtesters hurled Molotov cocktails, rocks and fireworks at police. Three officers were injured, police spokeswoman Johnna Watson said.\\n\\nTrash fires smoldered on a highway, and a downtown business was set ablaze. By Thursday morning, emergency workers extinguished about 40 fires.\\n\\n\"Throughout the evening, the large group splintered into smaller groups that began vandalizing numerous businesses in the downtown area,\" Oakland police said.\\n\\nAt least 30 people were arrested and 11 citations were issued for vandalism, assaulting officers, unlawful assembly, failure to disperse and possession of a firearm.\\n\\nThree police cars from nearby Pleasanton were damaged, officials said.\\n\\nA few miles away at Berkeley High School, about 1,500 students walked out of classes Wednesday. In San Francisco, more than 1,000 students across the city walked out of the school and headed to the Civic Center to engage in a peaceful protest, according to a tweet from the San Francisco Unified School District.\\n\\n\"People are furious, not just at the results of the election but the rhetoric of Donald Trump,\" said Ahmed Kanna, an organizer for Social Alternative at Berkeley.\\n\\nIn Chicago, activists marched down Lake Shore Drive -- an eight-lane expressway along Lake Michigan -- toward the Windy City's Trump Tower.\\n\\n\"I still can't believe I have to protest for civil rights,\" one sign read.\\n\\nCNN's Ryan Young, who saw a few thousand people there, said many chanted vulgarities toward the President-elect.\\n\\n\"As a nation we thought we had come so far, but it seems like we're taking many steps back,\" one woman said. \"We want to come together to change that.\"\\n\\nIn Omaha, Nebraska, authorities deployed pepper balls on a crowd of more than 200 people protesting Trump's election after they defied police orders to stay out of the streets.\\n\\nDozens of high school and college students staged rallies near the USC and UCLA campuses.\\n\\nOvernight, more than 1,000 protesters rallied outside Los Angeles City Hall, including many young Latinos.\\n\\nThey chanted, \"I will not live in fear,\" \"Fight back, stand up\" and \"¡Si se puede!\" (Spanish for \"Yes, it can be done\").\\n\\nProtesters also set on fire a piÃ±ata depicting the head of the President-elect.\\n\\nSeveral protesters said they feared that family or friends might be deported once Trump takes office.\\n\\nBrooklyn White, an 18-year-old who voted for Clinton, held a sign that said, \"Hate won't win.\"\\n\\n\"We can't let it stop us,\" she said. \"If he's the president, then fine. But if Donald Trump is going to be it, then he has to listen.\"\\n\\nAs many as 3,000 people joined Wednesday's demonstrations in the city, and 28 people were arrested for running into the 101 Freeway, said Los Angeles police spokeswoman Liliana Preciado. There was some property damage, but it's too early to know the exact extent, she said.\\n\\nMayor Eric Garcetti said in a statement, \"I understand that the results of Tuesday's election are painful for many of us, and this kind of engagement can be a meaningful part of the healing we need after such a long and divisive campaign.\\n\\n\"But walking and throwing objects onto freeways is dangerous for pedestrians and drivers -- and it puts a heavy burden on people just trying make it home to their families or get to work safely.\"\\n\\nGarcetti emphasized that the protests were largely peaceful, but said police would take quick action against those blocking traffic on interstates or vandalizing property, including news media vans.\\n\\n\"There is no place for the destruction of property, for the dangerous stopping of traffic,\" he said at a press conference Thursday. \"Don't lose the message here. The message is that Los Angeles stands as the great hope.\"\\n\\nGarcetti said 28 protesters have been arrested.\\n\\nMeanwhile, protesters in Washington chanted, \"No Trump, no KKK, no fascist USA,\" as they marched downtown to the Trump International Hotel.\\n\\nElsewhere in the nation's capital, an illuminated sign proclaimed that the US is \"Better Than Bigotry.\"\\n\\nTrump supporters also rallied, showing their elation outside his current and future homes -- New York's Trump Tower and the White House.\\n\\nNicholas Elliot, a Georgetown University student, compared Trump's victory to the United Kingdom's Brexit vote to leave the European Union.\\n\\nJ.D. Vance, author of the book \"Hillbilly Elegy,\" said Trump supporters in middle America voted for him because so few people -- including Clinton or her supporters -- had paid attention to their plight.\\n\\n\"They see Trump as an agent of change and (an) agent of protest against folks who they feel have really failed in government,\" Vance said.\\n\\nNow comes the hard part: finding middle ground, CNN's Marc Preston said.\\n\\n\"All that anger that has been contained outside of Washington, D.C., and New York that we don't see in middle America ... everyone's starting to see it,\" Preston said. \"There is a lot of healing that has got to happen.\"  \\\n",
              "id                                                      1                                                                                                                                                                                                                                                                                                                                                                                                                                                                                                                                                                                                                                                                                                                                                                                                                                                                                                                                                                                                                                                                                                                                                                                                                                                                                                                                                                                                                                                                                                                                                                                                                                                                                                                                                                                                                                                                                                                                                                                                                                                                                                                                                                                                                                                                                                                                                                                                                                                                                                                                                                                                                                                                                                                                                                                                                                                                                                                                                                                                                                                                                                                                                                                                                                                                                                                                                                                                                                                                                                                                                                                                                                                                                                                                                                                                                                                                                                                                                                                                                                                                                                                                                                                                                                                                                                                                                                                                                                                                                                                                                                                                                                                                                                                                                                                                                                                                                                                                                                                                                                                                                                                                                                                                                                                                                                                                                                                                                                                                                                                                                                                                                                                                                                                                                                                                                                                                                                                                                                                                                                                                                                                                                                                                                                                                                                                                                                                                                                                                                                                                                                                                                                                                                                                                                                                                                                                                                                          \n",
              "title                                                   1                                                                                                                                                                                                                                                                                                                                                                                                                                                                                                                                                                                                                                                                                                                                                                                                                                                                                                                                                                                                                                                                                                                                                                                                                                                                                                                                                                                                                                                                                                                                                                                                                                                                                                                                                                                                                                                                                                                                                                                                                                                                                                                                                                                                                                                                                                                                                                                                                                                                                                                                                                                                                                                                                                                                                                                                                                                                                                                                                                                                                                                                                                                                                                                                                                                                                                                                                                                                                                                                                                                                                                                                                                                                                                                                                                                                                                                                                                                                                                                                                                                                                                                                                                                                                                                                                                                                                                                                                                                                                                                                                                                                                                                                                                                                                                                                                                                                                                                                                                                                                                                                                                                                                                                                                                                                                                                                                                                                                                                                                                                                                                                                                                                                                                                                                                                                                                                                                                                                                                                                                                                                                                                                                                                                                                                                                                                                                                                                                                                                                                                                                                                                                                                                                                                                                                                                                                                                                                          \n",
              "label                                                   1                                                                                                                                                                                                                                                                                                                                                                                                                                                                                                                                                                                                                                                                                                                                                                                                                                                                                                                                                                                                                                                                                                                                                                                                                                                                                                                                                                                                                                                                                                                                                                                                                                                                                                                                                                                                                                                                                                                                                                                                                                                                                                                                                                                                                                                                                                                                                                                                                                                                                                                                                                                                                                                                                                                                                                                                                                                                                                                                                                                                                                                                                                                                                                                                                                                                                                                                                                                                                                                                                                                                                                                                                                                                                                                                                                                                                                                                                                                                                                                                                                                                                                                                                                                                                                                                                                                                                                                                                                                                                                                                                                                                                                                                                                                                                                                                                                                                                                                                                                                                                                                                                                                                                                                                                                                                                                                                                                                                                                                                                                                                                                                                                                                                                                                                                                                                                                                                                                                                                                                                                                                                                                                                                                                                                                                                                                                                                                                                                                                                                                                                                                                                                                                                                                                                                                                                                                                                                                          \n",
              "length                                                  1                                                                                                                                                                                                                                                                                                                                                                                                                                                                                                                                                                                                                                                                                                                                                                                                                                                                                                                                                                                                                                                                                                                                                                                                                                                                                                                                                                                                                                                                                                                                                                                                                                                                                                                                                                                                                                                                                                                                                                                                                                                                                                                                                                                                                                                                                                                                                                                                                                                                                                                                                                                                                                                                                                                                                                                                                                                                                                                                                                                                                                                                                                                                                                                                                                                                                                                                                                                                                                                                                                                                                                                                                                                                                                                                                                                                                                                                                                                                                                                                                                                                                                                                                                                                                                                                                                                                                                                                                                                                                                                                                                                                                                                                                                                                                                                                                                                                                                                                                                                                                                                                                                                                                                                                                                                                                                                                                                                                                                                                                                                                                                                                                                                                                                                                                                                                                                                                                                                                                                                                                                                                                                                                                                                                                                                                                                                                                                                                                                                                                                                                                                                                                                                                                                                                                                                                                                                                                                          \n",
              "\n",
              "text    (Editors Note: Attention language that may be offensive to some readers in paragraphs 22, 23, 24) By Emily Stephenson and Ginger Gibson NEW YORK/WASHINGTON (Reuters) - With his campaign in crisis, U.S. presidential candidate Donald Trump vowed on Saturday to stay in the race despite calls from more than two dozen prominent Republicans for him to drop out following the release of a recording of him making lewd comments about women. Both Trump s wife and his running mate criticized his words, saying they were insulting and indefensible. The media and establishment want me out of the race so badly - I WILL NEVER DROP OUT OF THE RACE, WILL NEVER LET MY SUPPORTERS DOWN! Trump wrote on Saturday afternoon on the social media website Twitter. The video was the latest calamity for Trump, who had hoped to revive his flagging campaign in the face of a recent drop in polls with less than a month until Election Day. Trump is due to appear alongside Democrat Hillary Clinton on Sunday in their second debate in the run-up to the general election. Clinton is not expected to address Trump s video before then. The 2005 video of Trump talking on an open microphone showed the then-reality TV star speaking about groping women and trying to seduce a married woman. The video was taped only months after Trump married his third wife, Melania. In a statement, Melania Trump called her husband s words unacceptable and offensive to me. This does not represent the man that I know, she said. He has the heart and mind of a leader. I hope people will accept his apology, as I have, and focus on the important issues facing our nation and the world. The backlash over the video was swift and widespread. More than 60 prominent Republican current and former officeholders issued statements condemning Trump s remarks about women, including House Speaker Paul Ryan and John McCain, the party s standard bearer in 2008. More than 20 called for Trump to end his presidential bid. In an unusual move, his vice presidential running mate Mike Pence issued a critical statement of Trump s words, saying on Twitter that he cannot defend them. As a husband and father, I was offended by the words and actions described by Donald Trump, said Pence, who is governor of Indiana. Pence indicated he would continue to support Trump, despite calls from several Republicans for Trump to step aside and let Pence be the nominee. There is no precedent for a major party to replace its nominee this late in the campaign and it was unclear if there was an avenue to force him out. Voting has begun in several states, including swing states Virginia and North Carolina. A recorded apology by Trump early on Saturday did not stymie an avalanche of calls from members of his party to quit. Trump huddled on Saturday in Trump Tower with senior advisers, including New Jersey Governor Chris Christie and former New York City Mayor Rudy Giuliani. Despite previous scheduling, Giuliani will appear on five major Sunday morning news programs, a rare round robin reserved for major news events - replacing Republican Chairman Reince Priebus on CBS s Face the Nation and campaign manager Kellyanne Conway on Fox News Sunday, a last-minute switch. No reason was given for the bump of Conway. A CBS news release said the RNC asked to replace Priebus because Trump s operation wanted a campaign person to appear on the program. Trump left the building briefly to greet a small crowd of supporters, saying 100 percent he would remain in the race. Before returning to a bank of elevators, he told reporters, Tremendous support. He quickly moved to do damage control in Saturday s video in which he declared himself a changed man and attempted to shift the focus to his opponent Clinton and her husband, former President Bill Clinton. On Twitter, Trump posted critical statements from Juanita Broaddrick, a woman who has accused Bill Clinton of sexually assaulting her. Anyone who knows me knows these words don t reflect who I am. I said it, I was wrong, and I apologize, Trump said in his video statement, posted on his Facebook page. Trump has struggled to win over women voters, and the video was expected to further feed Democratic criticism about his past behavior toward women. Trump s support has suffered among suburban women and white, college-educated women, groups that Republicans have traditionally won. In the recording that triggered the firestorm, Trump said of one woman, I did try and fuck her. She was married. He went on to discuss his attraction to others. I just start kissing them, he said. And when you re a star they let you do it. Grab them by the pussy. You can do anything, Trump said. On Saturday afternoon, CNN published a separate report detailing remarks Trump made over the course of several years while appearing on Howard Stern s radio program. The remarks included discussing the size of his daughter s breasts and that he once had sex with three women at the same time. Trump was asked if he would have sex with a black woman and responded, It depends on what your definition of black is. The remarks were the last straw for some Republicans who have stuck with him through a series of controversial remarks, including calling Mexican immigrants rapists and criminals, calling for a ban on Muslim immigrants, attacking a judge of Mexican descent, attacking the Gold Star family of a Muslim soldier killed at war and saying Senator John McCain was not a war hero because he had been a prisoner of war. House Speaker Paul Ryan disinvited Trump to a scheduled appearance on Saturday in Wisconsin. Pence declined to speak in his place. The list of Republicans announcing they would not vote for Trump or calling on him to step aside grew on Saturday: Senators Kelly Ayotte, Lisa Murkowsi, Dan Sullivan, Mark Kirk, Jeff Flake, John Thune, Mike Crapo, Shelley Moore Capito and Mike Lee; House members Jason Chaffetz, Mia Love, Joe Heck, Bradley Byrne, Martha Roby and Barbara Comstock; and Governors John Kasich, Dennis Daugaard and Gary Herbert. Additionally, former presidential candidates Mitt Romney and Carly Fiorina and former Secretary of State Condoleezza Rice called on Trump to quit. Donald Trump s behavior this week, concluding with the disclosure of his demeaning comments about women and his boasts about sexual assaults, make it impossible to continue to offer even conditional support for his candidacy, McCain said in a statement. While Democrats largely remained silent, opting to let Republicans attack one of their own, Vice President Joe Biden wrote on Twitter, The words are demeaning. Such behavior is an abuse of power. It s not lewd. It s sexual assault. Some prominent Republicans indicated they would stick with Trump. Ralph Reed, head of the Faith and Freedom Coalition, and Tony Perkins, head of the conservative Family Research Council, said they would continue to support him. I think 10 years ago he was a different man, said Representative Jack Kingston, a Republican from Georgia. I am very glad that he quickly apologized.  \\\n",
              "id                                                      1                                                                                                                                                                                                                                                                                                                                                                                                                                                                                                                                                                                                                                                                                                                                                                                                                                                                                                                                                                                                                                                                                                                                                                                                                                                                                                                                                                                                                                                                                                                                                                                                                                                                                                                                                                                                                                                                                                                                                                                                                                                                                                                                                                                                                                                                                                                                                                                                                                                                                                                                                                                                                                                                                                                                                                                                                                                                                                                                                                                                                                                                                                                                                                                                                                                                                                                                                                                                                                                                                                                                                                                                                                                                                                                                                                                                                                                                                                                                                                                                                                                                                                                                                                                                                                                                                                                                                                                                                                                                                                                                                                                                                                                                                                                                                                                                                                                                                                                                                                                                                                                                                                                                                                                                                                                                                                                                                                                                                                                                                                                                                                                                                                                                                                                                                                                                                                                                                                                                                                                                                                                                                                                                                                                                                                                                                                                                                                                                                                                                                                                                                                                                                                                                                                                                                                                                                                                                                                                                                                                                                                                                                                                                                                                                                                                                                     \n",
              "title                                                   1                                                                                                                                                                                                                                                                                                                                                                                                                                                                                                                                                                                                                                                                                                                                                                                                                                                                                                                                                                                                                                                                                                                                                                                                                                                                                                                                                                                                                                                                                                                                                                                                                                                                                                                                                                                                                                                                                                                                                                                                                                                                                                                                                                                                                                                                                                                                                                                                                                                                                                                                                                                                                                                                                                                                                                                                                                                                                                                                                                                                                                                                                                                                                                                                                                                                                                                                                                                                                                                                                                                                                                                                                                                                                                                                                                                                                                                                                                                                                                                                                                                                                                                                                                                                                                                                                                                                                                                                                                                                                                                                                                                                                                                                                                                                                                                                                                                                                                                                                                                                                                                                                                                                                                                                                                                                                                                                                                                                                                                                                                                                                                                                                                                                                                                                                                                                                                                                                                                                                                                                                                                                                                                                                                                                                                                                                                                                                                                                                                                                                                                                                                                                                                                                                                                                                                                                                                                                                                                                                                                                                                                                                                                                                                                                                                                                                     \n",
              "label                                                   1                                                                                                                                                                                                                                                                                                                                                                                                                                                                                                                                                                                                                                                                                                                                                                                                                                                                                                                                                                                                                                                                                                                                                                                                                                                                                                                                                                                                                                                                                                                                                                                                                                                                                                                                                                                                                                                                                                                                                                                                                                                                                                                                                                                                                                                                                                                                                                                                                                                                                                                                                                                                                                                                                                                                                                                                                                                                                                                                                                                                                                                                                                                                                                                                                                                                                                                                                                                                                                                                                                                                                                                                                                                                                                                                                                                                                                                                                                                                                                                                                                                                                                                                                                                                                                                                                                                                                                                                                                                                                                                                                                                                                                                                                                                                                                                                                                                                                                                                                                                                                                                                                                                                                                                                                                                                                                                                                                                                                                                                                                                                                                                                                                                                                                                                                                                                                                                                                                                                                                                                                                                                                                                                                                                                                                                                                                                                                                                                                                                                                                                                                                                                                                                                                                                                                                                                                                                                                                                                                                                                                                                                                                                                                                                                                                                                                     \n",
              "length                                                  1                                                                                                                                                                                                                                                                                                                                                                                                                                                                                                                                                                                                                                                                                                                                                                                                                                                                                                                                                                                                                                                                                                                                                                                                                                                                                                                                                                                                                                                                                                                                                                                                                                                                                                                                                                                                                                                                                                                                                                                                                                                                                                                                                                                                                                                                                                                                                                                                                                                                                                                                                                                                                                                                                                                                                                                                                                                                                                                                                                                                                                                                                                                                                                                                                                                                                                                                                                                                                                                                                                                                                                                                                                                                                                                                                                                                                                                                                                                                                                                                                                                                                                                                                                                                                                                                                                                                                                                                                                                                                                                                                                                                                                                                                                                                                                                                                                                                                                                                                                                                                                                                                                                                                                                                                                                                                                                                                                                                                                                                                                                                                                                                                                                                                                                                                                                                                                                                                                                                                                                                                                                                                                                                                                                                                                                                                                                                                                                                                                                                                                                                                                                                                                                                                                                                                                                                                                                                                                                                                                                                                                                                                                                                                                                                                                                                                     \n",
              "\n",
              "text    (In this Dec. 13 story, corrects third paragraph to say Dourson is a former professor at the University of Cincinnati) WASHINGTON (Reuters) - A former chemical industry consultant nominated by the Trump administration to head the Environmental Protection Agency s chemical safety and pollution prevention office has withdrawn his nomination, Bloomberg reported on Wednesday. Michael Dourson notified the administration of his decision on Wednesday after Republican senators raised concerns about his past work and possible conflicts of interest, said Bloomberg, which cited an unnamed official for the report. Dourson, a former professor at the University of Cincinnati who has worked as a consultant for chemical companies, was one of several people whose nominations for top EPA positions were approved by the Senate environment panel in October in a 11-10 vote along party lines. Bloomberg said several Republican senators refused to support Dourson, including Richard Burr and Thom Tillis, both of North Carolina, who raised concerns about contaminated water at the Camp Lejeune military base in their state. The White House did not immediately respond to a Reuters request for comment. A spokeswoman for Burr said she could not confirm that Dourson had withdrawn. Tom Carper, the top Democrat on the Senate environment panel, said in a statement, Dourson, an individual who has spent most of his career promoting less protective chemical safety standards, had no business overseeing our nation s chemical safety laws. Environmental group Earthjustice hailed the news as a victory for all children, workers and communities who deserve the strongest protections from exposure to toxic chemicals and pesticides. Dourson, while a consultant, had assessed some chemicals, including PFOA, used to make Teflon non-stick surfaces, to be safe at levels far higher than considered acceptable by the EPA.  \\\n",
              "id                                                      1                                                                                                                                                                                                                                                                                                                                                                                                                                                                                                                                                                                                                                                                                                                                                                                                                                                                                                                                                                                                                                                                                                                                                                                                                                                                                                                                                                                                                                                                                                                                                                                                                                                                                                                                                                                                                                                                                                                            \n",
              "title                                                   1                                                                                                                                                                                                                                                                                                                                                                                                                                                                                                                                                                                                                                                                                                                                                                                                                                                                                                                                                                                                                                                                                                                                                                                                                                                                                                                                                                                                                                                                                                                                                                                                                                                                                                                                                                                                                                                                                                                            \n",
              "label                                                   1                                                                                                                                                                                                                                                                                                                                                                                                                                                                                                                                                                                                                                                                                                                                                                                                                                                                                                                                                                                                                                                                                                                                                                                                                                                                                                                                                                                                                                                                                                                                                                                                                                                                                                                                                                                                                                                                                                                            \n",
              "length                                                  1                                                                                                                                                                                                                                                                                                                                                                                                                                                                                                                                                                                                                                                                                                                                                                                                                                                                                                                                                                                                                                                                                                                                                                                                                                                                                                                                                                                                                                                                                                                                                                                                                                                                                                                                                                                                                                                                                                                            \n",
              "\n",
              "text    (In this Jan. 31 story, in 11th paragraph corrects to show two Iranian plaintiffs are a man and a woman, not two men) By Scott Malone and Dan Levine BOSTON/SAN FRANCISCO (Reuters) - Legal challenges to President Donald Trump s first moves on immigration spread on Tuesday, with three states suing over his executive order banning travel into the United States by citizens of seven majority-Muslim countries. Massachusetts, New York, Virginia and Washington state joined the legal battle against the travel ban, which the White House deems necessary to improve national security. The challenges contend the order violated the U.S. Constitution s guarantees of religious freedom. San Francisco became the first U.S. city to sue to challenge a Trump directive to withhold federal money from U.S. cities that have adopted sanctuary policies toward undocumented immigrants, which local officials argue help local police by making those immigrants more willing to report crimes. The legal maneuvers were the latest acts of defiance against executive orders signed by Trump last week that sparked a wave of protests in major U.S. cities, where thousands of people decried the new president s actions as discriminatory. Both policies are in line with campaign promises by Republican businessman-turned-politician Trump, who vowed to build a wall on the Mexican border to stop illegal immigration and to take hard-line steps to prevent terrorist attacks in the United States. The restrictions on the seven Muslim-majority countries and new limits on refugees have won the support of many Americans, with 49 percent of respondents to a Reuters poll conducted Monday and Tuesday saying they agreed with the order, while 41 percent disagreed. Massachusetts contended the restrictions run afoul of the establishment clause of the 1st Amendment of the U.S. Constitution, which prohibits religious preference. At bottom, what this is about is a violation of the Constitution, Massachusetts Attorney General Maura Healey said of the order halting travel by people with passports from Iran, Iraq, Libya, Somalia, Sudan, Syria and Yemen for 90 days. The order also barred resettlement of refugees for 120 days and indefinitely banned Syrian refugees. It discriminates against people because of their religion, it discriminates against people because of their country of origin, Healey said at a Boston press conference, flanked by leaders from the tech, healthcare and education sectors who said that the order could limit their ability to attract and retain highly educated workers. Massachusetts will be backing a lawsuit filed over the weekend in Boston federal court by two Iranian men who teach at the University of Massachusetts at Dartmouth. A federal judge blocked the government from expelling those men from the country and halted enforcement of the order for seven days, following similar but more limited moves in four other states. The attorneys general of New York and Virginia also said their states were joining similar lawsuits filed in their respective federal courts challenging the ban. As we speak, there are students at our colleges and universities who are unable to return to Virginia, Virginia Attorney General Mark Herring told reporters. This is not an action I take lightly, but it is one I take with confidence in our legal analysis. On Monday, liberal-leaning Washington state became the first U.S. state to have its attorney general initiate a lawsuit against Trump to challenge the travel ban. Multiple foreign nationals have also filed lawsuits challenging the ban. They included one filed in Colorado on Tuesday by a Libyan college student and two filed in Chicago, including one on behalf of an Iranian father of three children all living in Illinois. Protests against Trump s executive action continued on Tuesday in several cities. A crowd of several thousand demonstrators gathered at the federal courthouse in Minneapolis, chanting Hey, hey, ho, ho Muslim ban has got to go! Dozens of protesters chanted the same slogan at Los Angeles International Airport, and more than 400 demonstrators gathered in downtown Miami to protest both the travel ban and Trump s crackdown on sanctuary cities. San Francisco City Attorney Dennis Herrera filed suit over Trump s order threatening to cut funds to cities with sanctuary policies, a move that could stop the flow of billions of dollars to major U.S. population centers including New York, Los Angeles and Chicago. If allowed to be implemented, this executive order would make our communities less safe. It would make our residents less prosperous, and it would split families apart, Herrera said. Sanctuary cities adopt policies that limit cooperation, such as refusing to comply with U.S. Immigration and Customs Enforcement detainer requests. Advocates of the policies say that, beyond helping police with crime reporting, they make undocumented immigrants more willing to serve as witnesses if they do not fear that contact with law enforcement will lead to their deportation. Both the San Francisco and Massachusetts actions contend that Trump s orders in question violate the 10th Amendment of the U.S. Constitution, which states that powers not granted to the federal government should fall to the states. Michael Hethmon, senior counsel with the conservative Immigration Reform Law Institute in Washington, called the San Francisco lawsuit a silly political gesture, noting that prior federal court decisions make clear that the U.S. government can prohibit a policy that essentially impedes legitimate federal programs.  \\\n",
              "id                                                      1                                                                                                                                                                                                                                                                                                                                                                                                                                                                                                                                                                                                                                                                                                                                                                                                                                                                                                                                                                                                                                                                                                                                                                                                                                                                                                                                                                                                                                                                                                                                                                                                                                                                                                                                                                                                                                                                                                                                                                                                                                                                                                                                                                                                                                                                                                                                                                                                                                                                                                                                                                                                                                                                                                                                                                                                                                                                                                                                                                                                                                                                                                                                                                                                                                                                                                                                                                                                                                                                                                                                                                                                                                                                                                                                                                                                                                                                                                                                                                                                                                                                                                                                                                                                                                                                                                                                                                                                                                                                                                                                                                                                                                                                                                                                                                                                                                                                                                                                                                                                                                                                                                                                                                                                                                                                                                                                                                                                                                                                                                                                                                                                                                                                                                                                                                         \n",
              "title                                                   1                                                                                                                                                                                                                                                                                                                                                                                                                                                                                                                                                                                                                                                                                                                                                                                                                                                                                                                                                                                                                                                                                                                                                                                                                                                                                                                                                                                                                                                                                                                                                                                                                                                                                                                                                                                                                                                                                                                                                                                                                                                                                                                                                                                                                                                                                                                                                                                                                                                                                                                                                                                                                                                                                                                                                                                                                                                                                                                                                                                                                                                                                                                                                                                                                                                                                                                                                                                                                                                                                                                                                                                                                                                                                                                                                                                                                                                                                                                                                                                                                                                                                                                                                                                                                                                                                                                                                                                                                                                                                                                                                                                                                                                                                                                                                                                                                                                                                                                                                                                                                                                                                                                                                                                                                                                                                                                                                                                                                                                                                                                                                                                                                                                                                                                                                                         \n",
              "label                                                   1                                                                                                                                                                                                                                                                                                                                                                                                                                                                                                                                                                                                                                                                                                                                                                                                                                                                                                                                                                                                                                                                                                                                                                                                                                                                                                                                                                                                                                                                                                                                                                                                                                                                                                                                                                                                                                                                                                                                                                                                                                                                                                                                                                                                                                                                                                                                                                                                                                                                                                                                                                                                                                                                                                                                                                                                                                                                                                                                                                                                                                                                                                                                                                                                                                                                                                                                                                                                                                                                                                                                                                                                                                                                                                                                                                                                                                                                                                                                                                                                                                                                                                                                                                                                                                                                                                                                                                                                                                                                                                                                                                                                                                                                                                                                                                                                                                                                                                                                                                                                                                                                                                                                                                                                                                                                                                                                                                                                                                                                                                                                                                                                                                                                                                                                                                         \n",
              "length                                                  1                                                                                                                                                                                                                                                                                                                                                                                                                                                                                                                                                                                                                                                                                                                                                                                                                                                                                                                                                                                                                                                                                                                                                                                                                                                                                                                                                                                                                                                                                                                                                                                                                                                                                                                                                                                                                                                                                                                                                                                                                                                                                                                                                                                                                                                                                                                                                                                                                                                                                                                                                                                                                                                                                                                                                                                                                                                                                                                                                                                                                                                                                                                                                                                                                                                                                                                                                                                                                                                                                                                                                                                                                                                                                                                                                                                                                                                                                                                                                                                                                                                                                                                                                                                                                                                                                                                                                                                                                                                                                                                                                                                                                                                                                                                                                                                                                                                                                                                                                                                                                                                                                                                                                                                                                                                                                                                                                                                                                                                                                                                                                                                                                                                                                                                                                                         \n",
              "\n",
              "text    (King World News) From Jason Goepfert at SentimenTrader: \\nInvestors are starting to thaw Individuals in the AAII survey come roaring back to the bullish camp, a mixed blessing It takes a while for rapid changes in prices to be reflected in longer-term indicators, so some of the weekly series are just now reflecting the moves from the past 1-2 weeks. \\nAmong them, the weekly survey from the American Association of Individual Investors showed one of the largest two-week jumps in bullish opinion in the survey s history. \\nKing World News note: Although the overall bullish opinion is still muted, the public is definitely increasing their appetite for stocks as the indexes hit new all-time highs. Of course this is the opposite of what we saw at the bottom of the stock markets in 2009. \\nThe chart and commentary above are from SentimenTrader. To try a free 14-day trial of the internationally acclaimed work that Jason Goepfert produces at SentimenTrader simply CLICK HERE. \\nLook At These Markets Seeing Massive Waterfall Declines As Chaotic Global Trading Continues  \\\n",
              "id                                                      1                                                                                                                                                                                                                                                                                                                                                                                                                                                                                                                                                                                                                                                                                                                                                                                                                                                                                                                                                                                                                                                                    \n",
              "title                                                   1                                                                                                                                                                                                                                                                                                                                                                                                                                                                                                                                                                                                                                                                                                                                                                                                                                                                                                                                                                                                                                                                    \n",
              "label                                                   1                                                                                                                                                                                                                                                                                                                                                                                                                                                                                                                                                                                                                                                                                                                                                                                                                                                                                                                                                                                                                                                                    \n",
              "length                                                  1                                                                                                                                                                                                                                                                                                                                                                                                                                                                                                                                                                                                                                                                                                                                                                                                                                                                                                                                                                                                                                                                    \n",
              "\n",
              "text    (Reuters) - A Donald Trump presidency would be bad for corporate dealmaking, according to a global survey of people who advise companies on mergers and acquisitions, or M&A. Nearly two-thirds of 1,500 respondents - including investment bankers, lawyers and people who work for private equity firms - said a Trump presidency would create uncertainty that would deter executives from launching bids. The survey was conducted in April by Intralinks Holdings Inc IL.N, which provides confidential meeting rooms used by companies when they allow would-be bidders to look through their accounts. The real story is that dealmakers crave less disruption, and Trump has been a polarizing figure on a global scale, Matt Porzio, vice president of strategy at Intralinks, said in a phone interview on Wednesday. Trump is the front-runner for the Republican nomination for the Nov. 8 election. His unpredictable style and fiery rhetoric have some investors worried that as president he could trigger trade wars, hurt the economy and add a lot of volatility to financial markets. The New York real estate developer prides himself on his ability to make good deals, and M&A professionals in the United States were less concerned about his impact on business than their peers elsewhere. According to the survey, 46 percent of U.S. dealmakers said they believed Trump would have a negative impact on M&A activity, compared with 83 percent of dealmakers in Latin America. Trump has sparked controversy with his call for building a wall along the Mexican border and for deporting 11 million illegal immigrants from the United States. Some 71 percent of dealmakers based in Europe and 75 percent in Asia thought Trump would be bad for business. Globally, only 45 percent of respondents thought that U.S. Senator Bernie Sanders of Vermont, a self-described socialist who is competing with Hillary Clinton for the Democratic nomination, would be bad for M&A activity. But the same proportion - 45 percent - thought Clinton would have a positive impact on mergers and acquisitions, making her the candidate viewed to have the highest positive impact on corporate tie-ups.  \\\n",
              "id                                                      1                                                                                                                                                                                                                                                                                                                                                                                                                                                                                                                                                                                                                                                                                                                                                                                                                                                                                                                                                                                                                                                                                                                                                                                                                                                                                                                                                                                                                                                                                                                                                                                                                                                                                                                                                                                                                                                                                                                                                                                                                                                                                                                                                                                      \n",
              "title                                                   1                                                                                                                                                                                                                                                                                                                                                                                                                                                                                                                                                                                                                                                                                                                                                                                                                                                                                                                                                                                                                                                                                                                                                                                                                                                                                                                                                                                                                                                                                                                                                                                                                                                                                                                                                                                                                                                                                                                                                                                                                                                                                                                                                                                      \n",
              "label                                                   1                                                                                                                                                                                                                                                                                                                                                                                                                                                                                                                                                                                                                                                                                                                                                                                                                                                                                                                                                                                                                                                                                                                                                                                                                                                                                                                                                                                                                                                                                                                                                                                                                                                                                                                                                                                                                                                                                                                                                                                                                                                                                                                                                                                      \n",
              "length                                                  1                                                                                                                                                                                                                                                                                                                                                                                                                                                                                                                                                                                                                                                                                                                                                                                                                                                                                                                                                                                                                                                                                                                                                                                                                                                                                                                                                                                                                                                                                                                                                                                                                                                                                                                                                                                                                                                                                                                                                                                                                                                                                                                                                                                      \n",
              "\n",
              "text    (Reuters) - A Florida man pleaded guilty on Monday to working with another man to illegally funnel $80,000 in foreign contributions to U.S. President Barack Obama s joint fundraising committee in 2012 so that a foreign national could attend a campaign event. William Argeros, 57, pleaded guilty in federal court in Newark, New Jersey, to charges that he knowingly and willfully made foreign contributions and donations and made a false declaration to a federal grand jury, prosecutors said. U.S. law prohibits contributions from foreign nationals to candidates or fundraising committees in federal elections. A lawyer for Argeros did not respond to a request for comment. The Tampa, Florida, resident is scheduled to be sentenced on Nov. 9. The proceedings came a month after an earlier guilty plea in the case by Bilal Shehu, a New Jersey limousine driver to whom prosecutors said Argeros facilitated the transferring of $80,000 from a foreign source. Prosecutors said Shehu, a Paramus, New Jersey resident, then provided the money to Obama s joint fundraising committee so that a foreign national could attend a campaign event on Oct. 8, 2012, in San Francisco. In announcing both guilty pleas, prosecutors have not specifically identified the foreign source of the money or the foreign national. But the cases came after a Republican congressman in 2013 called for investigations into the purchases by Shehu s family of two $40,000 tickets for a San Francisco fundraiser, one of which was used by now-Albanian Prime Minister Edi Rama. At the October 2012 event, Rama, the Albanian Socialist Party leader, was photographed with Obama. U.S. Representative Dana Rohrabacher of California at the time contended the photo was then used for deceitful purposes by Rama to imply a relationship with Obama during Albania s own election, which brought him into leadership. Prosecutors have said that the foreign national in the case was denied entry to the campaign event but was allowed to be photographed with Obama. Prosecutors said no one on the joint election committee has been accused of any wrongdoing and that it had cooperated fully in the investigation.  \\\n",
              "id                                                      1                                                                                                                                                                                                                                                                                                                                                                                                                                                                                                                                                                                                                                                                                                                                                                                                                                                                                                                                                                                                                                                                                                                                                                                                                                                                                                                                                                                                                                                                                                                                                                                                                                                                                                                                                                                                                                                                                                                                                                                                                                                                                                                                                                                               \n",
              "title                                                   1                                                                                                                                                                                                                                                                                                                                                                                                                                                                                                                                                                                                                                                                                                                                                                                                                                                                                                                                                                                                                                                                                                                                                                                                                                                                                                                                                                                                                                                                                                                                                                                                                                                                                                                                                                                                                                                                                                                                                                                                                                                                                                                                                                                               \n",
              "label                                                   1                                                                                                                                                                                                                                                                                                                                                                                                                                                                                                                                                                                                                                                                                                                                                                                                                                                                                                                                                                                                                                                                                                                                                                                                                                                                                                                                                                                                                                                                                                                                                                                                                                                                                                                                                                                                                                                                                                                                                                                                                                                                                                                                                                                               \n",
              "length                                                  1                                                                                                                                                                                                                                                                                                                                                                                                                                                                                                                                                                                                                                                                                                                                                                                                                                                                                                                                                                                                                                                                                                                                                                                                                                                                                                                                                                                                                                                                                                                                                                                                                                                                                                                                                                                                                                                                                                                                                                                                                                                                                                                                                                                               \n",
              "\n",
              "text    ...  \\\n",
              "id      ...   \n",
              "title   ...   \n",
              "label   ...   \n",
              "length  ...   \n",
              "\n",
              "text    posted by Eddie Ever wonder how cellphones went from being a point of wealth to household commodity? Well, there s reason to believe that the accessibility of cellphones isn t purely coincidental. The thought originated with metadata and the possibilities made possible through the documentation of information that cellphones provide, through both backdoor access and the location data each phone provides. FISA, the Foreign Intelligence Surveillance Court, is an incredibly secret court that answers to no one and, has autonomy in not only their proceeding and rulings, but, is also highly-classified. Through this system, President s George Bush and Barrack Obama have enabled their own domestic surveillance practices. Although, The NSA is heavily involved as well. In doing so, the government has created programs and jobs that are specific to collecting and translating meta-data. The government would have you believe that meta-data is not as invasive as specific data, but, let s consider it this way. Imagine your coordinates being reported by the second, from the time you wake in the morning, during your commute to work, and whichever plans you have afterwards. This data system gives insight into each particular location, phone call, and the duration of said phone calls to these data collectors. Imagine being able to see each and every step your better half or child has throughout the day, and you notice they stops at location that seem unusual or speak/communicate with numbers/people unfamiliar to you while having access to the duration of those calls. Although, this leaves an opportunity for misconception, but, it also brings us to an objective truth, how revealing metadata can be. Edward Snowden, a former NSA employer who specialized in technology in the cyber division, released classified documents involving both government programs that enacted policies, and, FISA court rulings on said programs. These revelations brought his need to flee for asylum in China, and then and currently, Russia. Snowden s attempt of transparency let Americans learn just how much census data has changed and the contracts deployed between the government and the major communications companies, such as AT&T. These companies have made millions by granting backdoor access and data to the government. Yet, this isn t all bad. Local officials have occasionally solicited access, through communication companies, to find criminals and perpetrators of crime. For example, in 2013 California officials used the data and cellphone accessibility to find the murderer that slaughtered a man, his wife, and their two children. Until the solicitation, the local officials weren t close to right suspect. After collaboration, the local officials were able to find, through metadata collection, analysis, and cellphone GPS, the exact location of the murderer. So, you tell me, do you think your phone is as private as you think? Written by Anthony A Fabrikant. From Around the Web Founder of WorldTruth.Tv and WomansVibe.com Eddie ( 8889 Posts ) \\nEddie L. is the founder and owner of WorldTruth.TV. and Womansvibe.com. Both website are dedicated to educating and informing people with articles on powerful and concealed information from around the world. I have spent the last 36+ years researching Bible, History, Alternative Health, Secret Societies, Symbolism and many other topics that are not reported by mainstream media.  \\\n",
              "id                                                      1                                                                                                                                                                                                                                                                                                                                                                                                                                                                                                                                                                                                                                                                                                                                                                                                                                                                                                                                                                                                                                                                                                                                                                                                                                                                                                                                                                                                                                                                                                                                                                                                                                                                                                                                                                                                                                                                                                                                                                                                                                                                                                                                                                                                                                                                                                                                                                                                                                                                                                                                                                                                                                                                                                                                                                                                                                                                                                                                                                                                                                                                                                                                                                                                                                                                                                                                                                                                                                                                                                                     \n",
              "title                                                   1                                                                                                                                                                                                                                                                                                                                                                                                                                                                                                                                                                                                                                                                                                                                                                                                                                                                                                                                                                                                                                                                                                                                                                                                                                                                                                                                                                                                                                                                                                                                                                                                                                                                                                                                                                                                                                                                                                                                                                                                                                                                                                                                                                                                                                                                                                                                                                                                                                                                                                                                                                                                                                                                                                                                                                                                                                                                                                                                                                                                                                                                                                                                                                                                                                                                                                                                                                                                                                                                                                                     \n",
              "label                                                   1                                                                                                                                                                                                                                                                                                                                                                                                                                                                                                                                                                                                                                                                                                                                                                                                                                                                                                                                                                                                                                                                                                                                                                                                                                                                                                                                                                                                                                                                                                                                                                                                                                                                                                                                                                                                                                                                                                                                                                                                                                                                                                                                                                                                                                                                                                                                                                                                                                                                                                                                                                                                                                                                                                                                                                                                                                                                                                                                                                                                                                                                                                                                                                                                                                                                                                                                                                                                                                                                                                                     \n",
              "length                                                  1                                                                                                                                                                                                                                                                                                                                                                                                                                                                                                                                                                                                                                                                                                                                                                                                                                                                                                                                                                                                                                                                                                                                                                                                                                                                                                                                                                                                                                                                                                                                                                                                                                                                                                                                                                                                                                                                                                                                                                                                                                                                                                                                                                                                                                                                                                                                                                                                                                                                                                                                                                                                                                                                                                                                                                                                                                                                                                                                                                                                                                                                                                                                                                                                                                                                                                                                                                                                                                                                                                                     \n",
              "\n",
              "text    posted by Eddie I m the kind of person who notices every little thing on my face. Now, I may not act on everything little thing that pops up, so-to-speak, but I definitely notice! A stray eyebrow hair? Yeah, I see you there. A little pimple: how could I miss it? But none of these things compare to the feeling of finding a little patch of nasty blackheads popping up. I get them around my chin and nose. And, honestly, I really don t know how to effectively deal with them at home. So, I end up popping them. Anyone who has ever done this knows that nine times out of ten, popped blackhead will turn into something way worse! I got sick of the whole process. Get rid of a blackhead to get a pimple instead? No thanks. So that s why I got really excited to see a natural remedy I could try at home. If you re anything like me, you ll definitely want to check this out, too. When you try it, make sure to snap a pic and upload it in the comments so everyone can see how awesome this blackhead mask is in action! Here is how you transform your face for the better naturally! 1. Get the ingredients: milk and gelatin. \\nSince you ll be putting these things directly on your face, I highly recommend choosing high-quality options here. Also, make sure the gelatin is unflavored. 2. Measure, then mix. \\nPut the gelatin (1 Tablespoon) in a container first, then add the milk (1-2 Tablespoons). Mix. 3. Rinse your face while microwaving the mix for 15 seconds. \\nThe heat makes this mix so soft. You ll want to put it on straight away to ensure the desired smoothness. 4. Apply the warm mixture to your face. \\nYou can spread this mix all over or do some spot treatments  your choice. Just remember to use it quickly! 5. Let it soak in! \\nGrab your smartphone; you ve got about 15 minutes to spare here. Better yet, take note and make some funny faces in the mirror. 6. Start peeling away those nasties! \\nOnce it s dry, grab a corner and start slowing peeling. Get ready to be amazed! 7. Pull! Make sure to get them all! \\nThis is the most satisfying part  seeing all those disgusting blackheads meet their fate. \\nSource:  \\\n",
              "id                                                      1                                                                                                                                                                                                                                                                                                                                                                                                                                                                                                                                                                                                                                                                                                                                                                                                                                                                                                                                                                                                                                                                                                                                                                                                                                                                                                                                                                                                                                                                                                                                                                                                                                                                                                                                                                                                                                                                                                                                                                                                                                                                                                                                                          \n",
              "title                                                   1                                                                                                                                                                                                                                                                                                                                                                                                                                                                                                                                                                                                                                                                                                                                                                                                                                                                                                                                                                                                                                                                                                                                                                                                                                                                                                                                                                                                                                                                                                                                                                                                                                                                                                                                                                                                                                                                                                                                                                                                                                                                                                                                                          \n",
              "label                                                   1                                                                                                                                                                                                                                                                                                                                                                                                                                                                                                                                                                                                                                                                                                                                                                                                                                                                                                                                                                                                                                                                                                                                                                                                                                                                                                                                                                                                                                                                                                                                                                                                                                                                                                                                                                                                                                                                                                                                                                                                                                                                                                                                                          \n",
              "length                                                  1                                                                                                                                                                                                                                                                                                                                                                                                                                                                                                                                                                                                                                                                                                                                                                                                                                                                                                                                                                                                                                                                                                                                                                                                                                                                                                                                                                                                                                                                                                                                                                                                                                                                                                                                                                                                                                                                                                                                                                                                                                                                                                                                                          \n",
              "\n",
              "text    posted by Eddie You know the Dakota Access Pipeline protests are working when oil interests start resorting to underhanded tricks to paint water protectors in a negative light. As the fight against the pipeline grows in North Dakota and around the country, dirty tricks are being deployed in an apparent attempt to delegitimize the opposition. Dakota Access Employee Tries to Incite Violence, Sheriff s Department Makes False Report That He Was Shot by Protesters Mother Jones journalist Wes Enzinna, who was at the protests, says he witnessed a Dakota Access LLC employee try to infiltrate the Dakota Access Pipeline protests: An armed security agent employed by the company behind the controversial Dakota Access Pipeline was arrested Thursday after he was caught entering the camp of activists protesting near the Standing Rock Indian Reservation in southern North Dakota. After a car chase and a standoff during which he allegedly pointed his assault rifle at a local Sioux teenager, the man, whose ID indicated he was an employee of Dakota Access LLC, was arrested and handed over to the FBI. According to an official statement from the tribe, the man fired several shots from his gun before being peacefully apprehended by tribal police. Witnesses at the scene say he pointed his gun at several protesters. The man was clearly trying to provoke violence that could later be used to demonize protesters who have so far remained peaceful. The Morton County Sheriff s Department circulated a false report claiming the man was shot, presumably by protesters. As you can see in the images above, the man was not harmed. The Sheriff s Department has since retracted that report. Anti-Media s attempts to obtain clarifying comments from Morton County Sheriff s were ignored. \\nFake Internet Trolls Slam Dakota Access Pipeline Protests, Promote Pipeline on Twitter \\nWith very little organic support for the Dakota Access Pipeline remaining, groups allied with the pipeline builders now seem to be creating paid Internet trolls or bots to slam protesters while praising the pipeline. DESMOG , an environmental blog, conducted an investigation and found what it says are sock puppet accounts tied to an oil industry lobby operating on Twitter: A DeSmog investigation has revealed the possibility that a front group supporting the controversial Dakota Access Pipeline (DAPL)  the Midwest Alliance for Infrastructure Now (MAIN)  may have created fake Twitter profiles, known by some as sock puppets, to convey a pro-pipeline message over social media. And MAIN may be employing the PR services of the firm DCI Group, which has connections to the Republican Party, in order to do so. DeSmog tracked down at least 16 different questionable Twitter accounts which used the #NoDAPL hashtag employed by protesters, in order to claim that opposition to the pipeline kills jobs, that those protesting the pipeline at the Standing Rock Sioux Tribe s encampment use violence, and that the pipeline does not pose a risk to water sources or cross over tribal land. On September 13, people began to suspect these accounts were fake, calling them out on Twitter , and by September 14, most of the accounts no longer existed. \\nWith the Dakota Access Pipeline builders resorting to backhanded trickery, it s clear the tide is turning against the pipeline following law enforcement s overwhelming militarized crackdown of the protests. source:  \\\n",
              "id                                                      1                                                                                                                                                                                                                                                                                                                                                                                                                                                                                                                                                                                                                                                                                                                                                                                                                                                                                                                                                                                                                                                                                                                                                                                                                                                                                                                                                                                                                                                                                                                                                                                                                                                                                                                                                                                                                                                                                                                                                                                                                                                                                                                                                                                                                                                                                                                                                                                                                                                                                                                                                                                                                                                                                                                                                                                                                                                                                                                                                                                                                                                                                                                                                                                                                                                                                                                                                                                                                                                                                                                    \n",
              "title                                                   1                                                                                                                                                                                                                                                                                                                                                                                                                                                                                                                                                                                                                                                                                                                                                                                                                                                                                                                                                                                                                                                                                                                                                                                                                                                                                                                                                                                                                                                                                                                                                                                                                                                                                                                                                                                                                                                                                                                                                                                                                                                                                                                                                                                                                                                                                                                                                                                                                                                                                                                                                                                                                                                                                                                                                                                                                                                                                                                                                                                                                                                                                                                                                                                                                                                                                                                                                                                                                                                                                                                    \n",
              "label                                                   1                                                                                                                                                                                                                                                                                                                                                                                                                                                                                                                                                                                                                                                                                                                                                                                                                                                                                                                                                                                                                                                                                                                                                                                                                                                                                                                                                                                                                                                                                                                                                                                                                                                                                                                                                                                                                                                                                                                                                                                                                                                                                                                                                                                                                                                                                                                                                                                                                                                                                                                                                                                                                                                                                                                                                                                                                                                                                                                                                                                                                                                                                                                                                                                                                                                                                                                                                                                                                                                                                                                    \n",
              "length                                                  1                                                                                                                                                                                                                                                                                                                                                                                                                                                                                                                                                                                                                                                                                                                                                                                                                                                                                                                                                                                                                                                                                                                                                                                                                                                                                                                                                                                                                                                                                                                                                                                                                                                                                                                                                                                                                                                                                                                                                                                                                                                                                                                                                                                                                                                                                                                                                                                                                                                                                                                                                                                                                                                                                                                                                                                                                                                                                                                                                                                                                                                                                                                                                                                                                                                                                                                                                                                                                                                                                                                    \n",
              "\n",
              "text    shorty BY PETER LEE I ve written a couple pieces of the smoking hot issue in Pivotland, Philippine president Duterte s swerve toward a pro-PRC foreign policy, and what the U.S. and pro-American sector of the Manila elite are going to do about it. The first piece, Reports of death of US-Philippine alliance may be exaggerated, addresses the fact that Duterte s freedom of movement is constrained by the need to keep the Philippine military happy, and notes that ex-prez and retired general Fidel Ramos, who facilitated Duterte s entrance on the national political stage, is signaling dissatisfaction with Duterte. The second piece, Duterte Plays the Mamasapano Card, covers a Duterte counter-attack: a threat to relitigate the death of 44 Philippine National Police commandos at Mamasapano in Mindanao, a 2014 special ops fiasco conducted under the aegis of the United States which a) exposes ex-president Aquino to serious legal jeopardy b) posits that the US alliance is doing a better job of killing Filipinos than the PRC can ever hope to do. The US seems to be embedded in a colonial mindset when it comes to the Philippines, something along the lines of we ve been selflessly looking after the Philippines for a century, and that thug Duterte won t be allowed to screw that up during his brief (maybe curtailed) presidency. It takes a pretty superficial view of Philippine history, one that accepts the US self-definition as the Philippines security savior while ignoring the distortions and shortcomings of the colonial and neo-colonial relationship. For me this tunnel vision was typified by the US media crowing over the formal delivery of a refurbished C-130 transport to the Philippine government by outgoing ambo Philip Goldberg. Message: here s the US making provisions for Philippine defense at the same time Duterte s selling out the country to China. To me, the inadvertent message was 1) here s the US blindly stroking the pivot fetish while Duterte tries to solve the Mindanao insurgency that has cost at least 400,000 lives over the last century, win his drug war, and find a place for the Philippines in Asia that doesn t give primacy to the US preoccupation confronting the PRC and 2) the U.S., in my opinion, pretty much has a policy of keeping the Philippines flat on its behind as an independent military force by trickling out second-hand gear to the Philippine military while the sweet stuff is dangled in front of it during US joint military maneuvers and port calls. But the United States is trying to find political leverage wherever it can and the Western media will, I m sure, put its shoulder to the wheel to help out. Feelings of nationalism are pervasive in the US, but Americans have difficulty understanding why people in other nations may harbor animosity toward them on account of their colonialist and imperialist experiences. P hilip Goldberg sat down for a 45-minute exit interview with Rappler. As befitting Rappler s origins in the Soros/Omidyar network of pro-US globalization advocacy, the interview was a stream of softballs about what to do about Duterte s disregard of the awesomeness of the American relationship, an awesomeness that is acknowledged by virtually all Filipinos who inexplicably (and, if the US has anything to do about it, temporarily) at the same time give Duterte approval ratings of over 80%. It s worth watching if you have the patience. Goldberg is a smooth cat, and the Rappler tonguebath gives you no inkling of the fact that he intimately familiar with the wet work of end-arounding national governments to cultivate secessionist movements, you know, like what he did in Bolivia (declared persona non grata as a result) and Kosovo, and like that thing in Duterte s home province of Mindanao, which in my opinion probably the main reason why Duterte wanted him out of the Philippines. Goldberg also discretely plays the economic threat card, concern-trolling that anti-US attitudes will dismay foreign investors . It will be interesting to see how this plays out in subsequent weeks. As far as I can tell, the biggest U.S. factor in the domestic Philippine economy is the call-center industry. I doubt US corporations are interested in actually pulling their operations out and subjecting them to the English-language mercies of India, but certainly a call from the State Department or White House would convince them of the wisdom of at least making the threat. And I also wonder if expected President Hillary Clinton will find it necessary to drop the hammer on Duterte, in order to demonstrate to a rather dubious Asia that there is no alternative to loyalty to the pivot. I expect the next few months, in other words, to be very interesting. NOTE: ALL IMAGE CAPTIONS, PULL QUOTES AND COMMENTARY BY THE EDITORS, NOT THE AUTHORS  \\\n",
              "id                                                      1                                                                                                                                                                                                                                                                                                                                                                                                                                                                                                                                                                                                                                                                                                                                                                                                                                                                                                                                                                                                                                                                                                                                                                                                                                                                                                                                                                                                                                                                                                                                                                                                                                                                                                                                                                                                                                                                                                                                                                                                                                                                                                                                                                                                                                                                                                                                                                                                                                                                                                                                                                                                                                                                                                                                                                                                                                                                                                                                                                                                                                                                                                                                                                                                                                                                                                                                                                                                                                                                                                                                                                                                                                                                                                                                                                                                                                                                                                                                                                                                                                                                                                                                                                                                                                                                                                                                                                                                                                                                                                                                                                                                                                                                                                                                                                                                                                                                                                                                                     \n",
              "title                                                   1                                                                                                                                                                                                                                                                                                                                                                                                                                                                                                                                                                                                                                                                                                                                                                                                                                                                                                                                                                                                                                                                                                                                                                                                                                                                                                                                                                                                                                                                                                                                                                                                                                                                                                                                                                                                                                                                                                                                                                                                                                                                                                                                                                                                                                                                                                                                                                                                                                                                                                                                                                                                                                                                                                                                                                                                                                                                                                                                                                                                                                                                                                                                                                                                                                                                                                                                                                                                                                                                                                                                                                                                                                                                                                                                                                                                                                                                                                                                                                                                                                                                                                                                                                                                                                                                                                                                                                                                                                                                                                                                                                                                                                                                                                                                                                                                                                                                                                                                                     \n",
              "label                                                   1                                                                                                                                                                                                                                                                                                                                                                                                                                                                                                                                                                                                                                                                                                                                                                                                                                                                                                                                                                                                                                                                                                                                                                                                                                                                                                                                                                                                                                                                                                                                                                                                                                                                                                                                                                                                                                                                                                                                                                                                                                                                                                                                                                                                                                                                                                                                                                                                                                                                                                                                                                                                                                                                                                                                                                                                                                                                                                                                                                                                                                                                                                                                                                                                                                                                                                                                                                                                                                                                                                                                                                                                                                                                                                                                                                                                                                                                                                                                                                                                                                                                                                                                                                                                                                                                                                                                                                                                                                                                                                                                                                                                                                                                                                                                                                                                                                                                                                                                                     \n",
              "length                                                  1                                                                                                                                                                                                                                                                                                                                                                                                                                                                                                                                                                                                                                                                                                                                                                                                                                                                                                                                                                                                                                                                                                                                                                                                                                                                                                                                                                                                                                                                                                                                                                                                                                                                                                                                                                                                                                                                                                                                                                                                                                                                                                                                                                                                                                                                                                                                                                                                                                                                                                                                                                                                                                                                                                                                                                                                                                                                                                                                                                                                                                                                                                                                                                                                                                                                                                                                                                                                                                                                                                                                                                                                                                                                                                                                                                                                                                                                                                                                                                                                                                                                                                                                                                                                                                                                                                                                                                                                                                                                                                                                                                                                                                                                                                                                                                                                                                                                                                                                                     \n",
              "\n",
              "text    source Add To The Conversation Using Facebook Comments  \\\n",
              "id                                                      1        \n",
              "title                                                   1        \n",
              "label                                                   1        \n",
              "length                                                  1        \n",
              "\n",
              "text    usapoliticsnow admin 2016 Election , US News \\nBroward County is one of the largest swing counties in Florida. It would not take much voter fraud there to flip it. \\nThe voter fraud whistle-blower is a former Secretary of Elections Department employee and she has filled out a sworn affidavit: \\nYou can read the affidavit here. The affidavit by Chelsey Marie Smith accuses Broward County officials of filling out blank absentee ballots to officials who she saw filling the ballots out at the Supervisor of Elections headquarters. Smith said she was asked to deliver numerous ballots to a secret locked room where employees were filling out the absentee ballots. At first she was not clear as to what was happening. When she finally clearly saw what was up and reported it, she was terminated and told to never come back! \\nAfter being caught red-handed engaging in voter fraud, Broward Country FL Sec of Elections Brenda Snipes claimed staff were replicating damaged ballots in the locked secret room without official monitors present. Yeah, that was a good one Brenda! \\nAccording to the whistle-blower, the massive voter fraud went on day after day and included what had to be thousands of ballots. Brenda Snipes is already under lawsuit for deliberately misprinting absentee ballots! Why is she still around? \\nDonald Trump is currently preparing a lawsuit against Snipes and the FL State Attorney investigators are actively reviewing the voter fraud case. Secretary of Election employees in Broward County, FL caught filling out absentee ballots! #FloridaFraud pic.twitter.com/MqjmFtDXHX \\n Mike Cernovich ðºð¸ (@Cernovich) November 4, 2016 \\nRecently, numerous Florida voters have complained that they have not been receiving their absentee ballots. It seems we have found where some are going! How many other counties have a secret locked room!! \\nDemocrats live by an ends justify the means mentality. Cheating and stealing is of no issue to them as long as the outcome is the one that they want! Voter Fraud is entirely legitimate to them. \\nUPDATE: \\nFox News reported that the Florida GOP has also filed a voter fraud lawsuit for illegally opening absentee ballots! \\nThe state GOP alleges that officials in Broward County, which includes Fort Lauderdale, have been opening tens of thousands of vote-by-mail ballots prior to them being cleared for counting. \\nChairman Blaise Ingoglia told Shapiro that Florida law prescribes that when the supervisor of elections takes in all these ballots, they have to be approved by the canvassing board. \\nTherefore, the officials have no legal authority to open the ballot envelopes. \\nIngoglia said none of the ballots had been approved, so the party will be filing a lawsuit at 9 a.m. ET Thursday if county officials do not respond to his complaint by close-of-business on Wednesday. \\nSource: www.ihavethetruth.com  \\\n",
              "id                                                      1                                                                                                                                                                                                                                                                                                                                                                                                                                                                                                                                                                                                                                                                                                                                                                                                                                                                                                                                                                                                                                                                                                                                                                                                                                                                                                                                                                                                                                                                                                                                                                                                                                                                                                                                                                                                                                                                                                                                                                                                                                                                                                                                                                                                                                                                                                                                                                                                                                                                                                                                                                                                                                                                                                                                                                                                                                                                                                                                          \n",
              "title                                                   1                                                                                                                                                                                                                                                                                                                                                                                                                                                                                                                                                                                                                                                                                                                                                                                                                                                                                                                                                                                                                                                                                                                                                                                                                                                                                                                                                                                                                                                                                                                                                                                                                                                                                                                                                                                                                                                                                                                                                                                                                                                                                                                                                                                                                                                                                                                                                                                                                                                                                                                                                                                                                                                                                                                                                                                                                                                                                                                                          \n",
              "label                                                   1                                                                                                                                                                                                                                                                                                                                                                                                                                                                                                                                                                                                                                                                                                                                                                                                                                                                                                                                                                                                                                                                                                                                                                                                                                                                                                                                                                                                                                                                                                                                                                                                                                                                                                                                                                                                                                                                                                                                                                                                                                                                                                                                                                                                                                                                                                                                                                                                                                                                                                                                                                                                                                                                                                                                                                                                                                                                                                                                          \n",
              "length                                                  1                                                                                                                                                                                                                                                                                                                                                                                                                                                                                                                                                                                                                                                                                                                                                                                                                                                                                                                                                                                                                                                                                                                                                                                                                                                                                                                                                                                                                                                                                                                                                                                                                                                                                                                                                                                                                                                                                                                                                                                                                                                                                                                                                                                                                                                                                                                                                                                                                                                                                                                                                                                                                                                                                                                                                                                                                                                                                                                                          \n",
              "\n",
              "text     Phil Kerpen (@kerpen) October 31, 2016 \\nRemington Research's summary of the polling data asserted that the race has become \"increasingly competitive\": \\nLast week, we found a presidential race where Hillary Clinton held a clear advantage. This week, we find an increasingly competitive race with just eight days to go. Trump appears to be holding strong in his must-win states and Colorado remains within the margin of error. The data also show that Pennsylvania has moved into the margin of error category. \\nThe presidential race remains very competitive as we move into the final stretch. Hillary maintains an advantage leading in Colorado and Pennsylvania, but at this point anything can happen, said Titus Bond, Director of Remington Research Group \\nOther state polling data came out on Sunday that also showed a close-race between Trump and Clinton, although the polls were surveyed before FBI director James Comey's announcement that they were re-opening their investigation against Clinton . Via RealClearPolitics : Florida: New York Times/Siena: Trump 46 percent, Clinton 42 percent. NBC/Wall Street Journal/Marist: Clinton 45 percent, Trump 44 percent. Gravis: Clinton 48 percent, Trump 47 percent. Colorado: CBS News/YouGov: Clinton 42 percent, Trump 39 percent. Arizona: CBS/YouGov: Trump 44 percent, Clinton 42 percent. North Carolina: NBC/Wall Street Journal/Marist: Clinton 47 percent, Trump 41 percent. Gravis: Clinton 49 percent, Trump 47 percent. CBS News/YouGov: Clinton 48 percent, Trump 45 percent. Pennsylvania: CBS News/YouGov: Clinton 48 percent, Trump 40 percent. \\nThe fact that some of these polls were close even before the Comey announcement led to this observation from FiveThirtyEight's Nate Silver: Both things can be true: 1) Comey impact overblown  Nate Silver (@NateSilver538) October 31, 2016 \\nRadio host Steve Deace writes at Conservative Review that while early voting has been overwhelmingly in favor of Clinton, the renewed FBI investigation could \"have a potentially huge impact\" on Election Day: \\nTrump was on defense on the election map as he had to defend states like Arizona, Georgia, Utah, Indiana, and Alaska that rarely go blue on Election Day. It s quite conceivable that yet another reminder of the stench of corruption that has long surrounded the Clintons could sway the bulk of Republican-leaning undecideds Trump s way. But that s provided, of course, that he can withstand his compulsion to negatively influence a favorable news cycle as he s been prone to do. Then there s the matter of Trump s emerging Evan McMullin headache in Utah. \\nIf Trump can be disciplined this final week, his campaign may have the freedom to focus its efforts on Iowa, Nevada, Florida, Ohio, and North Carolina. Those five states would get him within striking distance to 265 Electoral College votes, and then you hope you can pull an upset in Colorado, Pennsylvania, or New Mexico where Trump is visiting during the campaign s final week. The hope is that there s enough voters in those states wearier of Clinton s corruption than worried about whether Trump s fit for office. \\nFiveThirtyEight currently has Trump's odds of winning the presidency at 23.6 percent in their polls-plus forecast. This week will be crucial for Trump in increasing those odds, and maybe the FBI's re-opened investigation into Clinton will help improve those odds as it becomes closer to Election Day. Tags  \\\n",
              "id                                                      1                                                                                                                                                                                                                                                                                                                                                                                                                                                                                                                                                                                                                                                                                                                                                                                                                                                                                                                                                                                                                                                                                                                                                                                                                                                                                                                                                                                                                                                                                                                                                                                                                                                                                                                                                                                                                                                                                                                                                                                                                                                                                                                                                                                                                                                                                                                                                                                                                                                                                                                                                                                                                                                                                                                                                                                                                                                                                                                                                                                                                                                                                                                                                                                                                                                                                                                                                                                                                                                                                                                    \n",
              "title                                                   1                                                                                                                                                                                                                                                                                                                                                                                                                                                                                                                                                                                                                                                                                                                                                                                                                                                                                                                                                                                                                                                                                                                                                                                                                                                                                                                                                                                                                                                                                                                                                                                                                                                                                                                                                                                                                                                                                                                                                                                                                                                                                                                                                                                                                                                                                                                                                                                                                                                                                                                                                                                                                                                                                                                                                                                                                                                                                                                                                                                                                                                                                                                                                                                                                                                                                                                                                                                                                                                                                                                    \n",
              "label                                                   1                                                                                                                                                                                                                                                                                                                                                                                                                                                                                                                                                                                                                                                                                                                                                                                                                                                                                                                                                                                                                                                                                                                                                                                                                                                                                                                                                                                                                                                                                                                                                                                                                                                                                                                                                                                                                                                                                                                                                                                                                                                                                                                                                                                                                                                                                                                                                                                                                                                                                                                                                                                                                                                                                                                                                                                                                                                                                                                                                                                                                                                                                                                                                                                                                                                                                                                                                                                                                                                                                                                    \n",
              "length                                                  1                                                                                                                                                                                                                                                                                                                                                                                                                                                                                                                                                                                                                                                                                                                                                                                                                                                                                                                                                                                                                                                                                                                                                                                                                                                                                                                                                                                                                                                                                                                                                                                                                                                                                                                                                                                                                                                                                                                                                                                                                                                                                                                                                                                                                                                                                                                                                                                                                                                                                                                                                                                                                                                                                                                                                                                                                                                                                                                                                                                                                                                                                                                                                                                                                                                                                                                                                                                                                                                                                                                    \n",
              "\n",
              "text    I today. I wrote in Arabic  The republic will never be down . \\nCOURTESY: RT s RUPTLY video agency, NO RE-UPLOAD, NO REUSE  FOR LICENSING, PLEASE, CONTACT http://ruptly.tv \\nRT LIVE http://rt.com/on-air \\nSubscribe to RT! http://www.youtube.com/subscription_center?add_user=RussiaToday \\nLike \\nShare the joy  \\\n",
              "id                                                      1                                                                                                                                                                                                                                                                           \n",
              "title                                                   1                                                                                                                                                                                                                                                                           \n",
              "label                                                   1                                                                                                                                                                                                                                                                           \n",
              "length                                                  1                                                                                                                                                                                                                                                                           \n",
              "\n",
              "text    ¦ Is because he has a very powerful bullshit detector. We know this thanks to a fascinating and unwittingly revelatory article in the German newspaper Der Spiegel.[ The paper reveals how, in the days running up to President Trump s decision to quit the UN Paris accord, he received a series of deputations from EU leaders urging him to change his mind. For me it s easier to stay in than step out, Trump told them. This is perfectly true. Since his momentous Rose Garden speech announcing his plans to pull out of Paris, Trump has taken more flak than a raid over Berlin in 44. He has upset his daughter Ivanka, his Secretary of State Rex Tillerson, his financial advisor Gary Cohn. On top of that, he has given the entire liberal half of the planet, plus sundry conservative squishes, the perfect excuse they needed to dismiss him as a loon in thrall to Big Oil, Big Coal, Big Evil, etc ¦ If Trump pulls the US out of the #ParisAgreement he will be committing a traitorous act of war against the American people. My statement: pic. twitter.  Tom Steyer (@TomSteyer) May 29, 2017, USA to Earth: FUCK YOU,  Michael Moore (@MMFlint) June 1, 2017, Am departing presidential councils. Climate change is real. Leaving Paris is not good for America or the world.  Elon Musk (@elonmusk) June 1, 2017, So what was it that tipped Trump over the edge? Well sure, as he made clear in his brilliant White House speech, it was about American jobs. But while I ve no doubt that that fact provided the rational basis for his bold, principled decision, I think we can look elsewhere for the tipping point. And here it is, in black and white, in Der Spiegel s account of how the G7 leaders tried to badger Trump at the summit in Taormina, Sicily. Leaders of the world s seven most powerful economies were gathered around the table and the issues under discussion were the global economy and sustainable development. The newly elected French president, Emmanuel Macron, went first. It makes sense that the Frenchman would defend the international treaty that bears the name of France s capital: The Paris Agreement. Climate change is real and it affects the poorest countries, Macron said. Then, Canadian Prime Minister Justin Trudeau reminded the U. S. president how successful the fight against the ozone hole had been and how it had been possible to convince industry leaders to reduce emissions of the harmful gas. Finally, it was Merkel s turn. Renewable energies, said the chancellor, present significant economic opportunities. If the world s largest economic power were to pull out, the field would be left to the Chinese, she warned. Xi Jinping is clever, she added, and would take advantage of the vacuum it created. Even the Saudis were preparing for the era, she continued, and saving energy is also a worthwhile goal for the economy for many other reasons, not just because of climate change. At which point, Trump s bullshit detector must have been bleeping off the scale. Let s examine those arguments, one by one. First, Mummy s Boy Macron s line that Climate change is real and it affects the poorest countries. The first half is trivially true: climate has indeed been changing for the 4. 5 billion years of the planet s existence. But the notion that recent climate change is catastrophic, unprecedented and significantly is a shaky theory, not a proven fact. And in any case it is beside the point. Even supposing that climate change is all those things, it doesn t alter the fact that Paris is a pointless waste of money, especially for countries like the U. S. which are expected to bear the burden of the cost. As Bjorn Lomborg has calculated, using the alarmists own models and data, if every signatory nation sticks to Paris then the effect will be to reduce global warming by 0. 17 degrees C by 2100. At a cost in excess of $100 trillion. As for the affects the poorest countries part  even if this is true, there are better ways of helping poor countries than bombing the U. S. economy to the dark ages. Like, promoting a flourishing economy which yields more to spend on foreign aid. Next, Canadian Prime Minister Bieber on the Ozone Layer. As Matt Ridley shows in some detail here, the vanishing ozone layer is more or less an urban myth trotted out by environmentalists mainly to justify their insatiable advocacy of . For reasons I will explain, this news deserves to be taken with a large pinch of salt. You do not have to dig far to find evidence that the ozone hole was never nearly as dangerous as some people said, that it is not necessarily healing yet and that it might not have been caused mainly by CFCs anyway. The timing of the announcement was plainly political: it came on the 25th anniversary of the treaty, and just before a big United Nations climate conference in New York, the aim of which is to push for a climate treaty modelled on the ozone one. See how these memes get repeated, over and over again, as memes are? That piece was from 2014. You can lay money that it won t be the last time some environmentalist or politician brings it up to prove that concerted intergovernmental legislation works because it healed the ozone layer. Finally, the Mutti of all Globalists herself, Mrs Merkel. Renewable energies, said the chancellor, present significant economic opportunities. Yes, I suppose they do, if like Elon Musk you ve got your snout buried deep in the subsidies trough, or like Warren Buffett you like to profit off the tax credits or like wind and solar developers everywhere you just don t care about the bats and birds sliced and diced, the countryside spoiled and the people who have their sleep disturbed and their property values trashed. But strip away the subsidies and the green lies and renewables make no economic or environmental sense at all. As for the green Chinese. The green Chinese are laughing at us. As, by the way, are the Indians. And here s why ¦ Now do you see what I mean? President Trump pulled out of Paris for a lot of sensible reasons. But the one that tipped him over the edge was quite simply this: when you ve got your fellow leaders of the free world insulting you with arguments you know to be bullshit and treating you like you re some kind of an idiot, well suddenly it all becomes crystal clear what you ve gotta do ¦ You call those charlatans bluff and remember why it was that people voted you to be President of the U. S. A: because they wanted someone real doing the job, for a change, and not yet another of those charlatans ¦  \\\n",
              "id                                                      1                                                                                                                                                                                                                                                                                                                                                                                                                                                                                                                                                                                                                                                                                                                                                                                                                                                                                                                                                                                                                                                                                                                                                                                                                                                                                                                                                                                                                                                                                                                                                                                                                                                                                                                                                                                                                                                                                                                                                                                                                                                                                                                                                                                                                                                                                                                                                                                                                                                                                                                                                                                                                                                                                                                                                                                                                                                                                                                                                                                                                                                                                                                                                                                                                                                                                                                                                                                                                                                                                                                                                                                                                                                                                                                                                                                                                                                                                                                                                                                                                                                                                                                                                                                                                                                                                                                                                                                                                                                                                                                                                                                                                                                                                                                                                                                                                                                                                                                                                                                                                                                                                                                                                                                                                                                                                                                                                                                                                                                                                                                                                                                                                                                                                                                                                                                                                                                                                                                                                                                                                                                                                                                                                                                                                                                                                                                                                                                                                                                                                                                                                                                                                                                                                                                                      \n",
              "title                                                   1                                                                                                                                                                                                                                                                                                                                                                                                                                                                                                                                                                                                                                                                                                                                                                                                                                                                                                                                                                                                                                                                                                                                                                                                                                                                                                                                                                                                                                                                                                                                                                                                                                                                                                                                                                                                                                                                                                                                                                                                                                                                                                                                                                                                                                                                                                                                                                                                                                                                                                                                                                                                                                                                                                                                                                                                                                                                                                                                                                                                                                                                                                                                                                                                                                                                                                                                                                                                                                                                                                                                                                                                                                                                                                                                                                                                                                                                                                                                                                                                                                                                                                                                                                                                                                                                                                                                                                                                                                                                                                                                                                                                                                                                                                                                                                                                                                                                                                                                                                                                                                                                                                                                                                                                                                                                                                                                                                                                                                                                                                                                                                                                                                                                                                                                                                                                                                                                                                                                                                                                                                                                                                                                                                                                                                                                                                                                                                                                                                                                                                                                                                                                                                                                                                                                      \n",
              "label                                                   1                                                                                                                                                                                                                                                                                                                                                                                                                                                                                                                                                                                                                                                                                                                                                                                                                                                                                                                                                                                                                                                                                                                                                                                                                                                                                                                                                                                                                                                                                                                                                                                                                                                                                                                                                                                                                                                                                                                                                                                                                                                                                                                                                                                                                                                                                                                                                                                                                                                                                                                                                                                                                                                                                                                                                                                                                                                                                                                                                                                                                                                                                                                                                                                                                                                                                                                                                                                                                                                                                                                                                                                                                                                                                                                                                                                                                                                                                                                                                                                                                                                                                                                                                                                                                                                                                                                                                                                                                                                                                                                                                                                                                                                                                                                                                                                                                                                                                                                                                                                                                                                                                                                                                                                                                                                                                                                                                                                                                                                                                                                                                                                                                                                                                                                                                                                                                                                                                                                                                                                                                                                                                                                                                                                                                                                                                                                                                                                                                                                                                                                                                                                                                                                                                                                                      \n",
              "length                                                  1                                                                                                                                                                                                                                                                                                                                                                                                                                                                                                                                                                                                                                                                                                                                                                                                                                                                                                                                                                                                                                                                                                                                                                                                                                                                                                                                                                                                                                                                                                                                                                                                                                                                                                                                                                                                                                                                                                                                                                                                                                                                                                                                                                                                                                                                                                                                                                                                                                                                                                                                                                                                                                                                                                                                                                                                                                                                                                                                                                                                                                                                                                                                                                                                                                                                                                                                                                                                                                                                                                                                                                                                                                                                                                                                                                                                                                                                                                                                                                                                                                                                                                                                                                                                                                                                                                                                                                                                                                                                                                                                                                                                                                                                                                                                                                                                                                                                                                                                                                                                                                                                                                                                                                                                                                                                                                                                                                                                                                                                                                                                                                                                                                                                                                                                                                                                                                                                                                                                                                                                                                                                                                                                                                                                                                                                                                                                                                                                                                                                                                                                                                                                                                                                                                                                      \n",
              "\n",
              "text    ¦In 5 cities 8 kings; they ruled for 241,200 years. Then the flood swept over ¦ that is written on the first part of the Sumerian King List. But how is it possible for eight kings to rule for a period of 241,200 years? \\n\\n\\nIf we take a look at the Sumerian King list, we will find fascinating details that contradict everything we have been told about our history. This ancient text describes a time on Earth when Gods ruled humankind for tens of thousands of years. It explicitly says that before the Great Flood swept across Earth, eight ancient kings lived on Earth and ruled for a total period of 241,200 years. Today, this historical fact is dismissed as mythology.\\n\\nMany of us will agree that the most puzzling detail about the Sumerian King list is that it describes EIGHT kings who ruled over planet Earth for a total period of 241,200 years after the ORIGINAL kingship descended from heaven lasting all the way until the Great Flood which swept over mankind and once more the kingship was lowered from heaven after the Flood.\\n\\nSo how is this possible? What exactly are we missing here? How could eight kings have ruled over five cities for hundreds of thousands of years? Where they immortal? Were they otherworldly beings? Or is it possible that we misinterpreted years for days? Or, as many others believe, did these ancient kings really live through such lengthy reigns?\\n\\n\\nAccording to this ancient text its crystal clear: the first part of the Sumerian King List reads : \\nAfter the kingship descended from heaven, the kingship was in Eridug. In Eridug, Alulim became king; he ruled for 28800 years. Alaljar ruled for 36000 years. 2 kings; they ruled for 64800 years. Then Eridug fell and the kingship was taken to Bad-tibira. In Bad-tibira, En-men-lu-ana ruled for 43200 years. En-men-gal-ana ruled for 28800 years. Dumuzid, the shepherd, ruled for 36000 years. 3 kings; they ruled for 108000 years. Then Bad-tibira fell (?) and the kingship was taken to Larag. In Larag, En-sipad-zid-ana ruled for 28800 years. 1 king; he ruled for 28800 years. Then Larag fell (?) and the kingship was taken to Zimbir. In Zimbir, En-men-dur-ana became king; he ruled for 21000 years. 1 king; he ruled for 21000 years. Then Zimbir fell (?) and the kingship was taken to Curuppag. In Curuppag, Ubara-Tutu became king; he ruled for 18600 years. 1 king; he ruled for 18600 years. In 5 cities 8 kings; they ruled for 241200 years. Then the flood swept over. \\nThere are more than a dozen of copies of Sumerian King Lists, found in Babylon, Susa, and Assyria, and the Royal Library of Nineveh from the VII century BC. All of these are believed to originate from one original list believed to have been written during the Third Dynasty of Ur or even earlier. The best-preserved specimen of the Sumerian King List is called the Weld-Blundell Prism, which is a clay, cuneiform inscribed vertical prism housed in the Ashmolean Museum.\\n\\nAncient-Code \\nSOURCE  \n",
              "id                                                      1                                                                                                                                                                                                                                                                                                                                                                                                                                                                                                                                                                                                                                                                                                                                                                                                                                                                                                                                                                                                                                                                                                                                                                                                                                                                                                                                                                                                                                                                                                                                                                                                                                                                                                                                                                                                                                                                                                                                                                                                                                                                                                                                                                                                                                                                                                                                                                                                                                                                                                                                                                                                                                                                                                                                                                                                                                                                                                                                                                                                                                \n",
              "title                                                   1                                                                                                                                                                                                                                                                                                                                                                                                                                                                                                                                                                                                                                                                                                                                                                                                                                                                                                                                                                                                                                                                                                                                                                                                                                                                                                                                                                                                                                                                                                                                                                                                                                                                                                                                                                                                                                                                                                                                                                                                                                                                                                                                                                                                                                                                                                                                                                                                                                                                                                                                                                                                                                                                                                                                                                                                                                                                                                                                                                                                                                \n",
              "label                                                   1                                                                                                                                                                                                                                                                                                                                                                                                                                                                                                                                                                                                                                                                                                                                                                                                                                                                                                                                                                                                                                                                                                                                                                                                                                                                                                                                                                                                                                                                                                                                                                                                                                                                                                                                                                                                                                                                                                                                                                                                                                                                                                                                                                                                                                                                                                                                                                                                                                                                                                                                                                                                                                                                                                                                                                                                                                                                                                                                                                                                                                \n",
              "length                                                  1                                                                                                                                                                                                                                                                                                                                                                                                                                                                                                                                                                                                                                                                                                                                                                                                                                                                                                                                                                                                                                                                                                                                                                                                                                                                                                                                                                                                                                                                                                                                                                                                                                                                                                                                                                                                                                                                                                                                                                                                                                                                                                                                                                                                                                                                                                                                                                                                                                                                                                                                                                                                                                                                                                                                                                                                                                                                                                                                                                                                                                \n",
              "\n",
              "[4 rows x 1101 columns]"
            ],
            "text/html": [
              "\n",
              "  <div id=\"df-e04b514d-1172-449c-8f47-e0c8413b53ae\">\n",
              "    <div class=\"colab-df-container\">\n",
              "      <div>\n",
              "<style scoped>\n",
              "    .dataframe tbody tr th:only-of-type {\n",
              "        vertical-align: middle;\n",
              "    }\n",
              "\n",
              "    .dataframe tbody tr th {\n",
              "        vertical-align: top;\n",
              "    }\n",
              "\n",
              "    .dataframe thead th {\n",
              "        text-align: right;\n",
              "    }\n",
              "</style>\n",
              "<table border=\"1\" class=\"dataframe\">\n",
              "  <thead>\n",
              "    <tr style=\"text-align: right;\">\n",
              "      <th>text</th>\n",
              "      <th>\"The Best Mix Of Hard-Hitting REAL News &amp; Cutting-Edge Alternative News On The Web\" \"All Original Stories All The Time\" Share This November 12, 2016 Readers Enraged By MSM Election Reporting - 'You Misled Your Readers, Blinded By Journalistic Bigotry' - Boycott All Mainstream Media And Their Lies In Their Efforts To Initiate The Overthrow Of Our Republic And Their Continuing Provocations In Stirring Up Civil Strife - Let The New Battle Cry For Truth Be \"Turn Them Off And Tune Them Out!\" By Susan Duclos - All News PipeLine Progressive liberals, George Soros and his merry band of paid protesters, and the mainstream media are certainly giving new meaning to William Shakespeare's \" Fight to the last gasp ,\" quote, but what none of them seem to realize yet as they cry, scream, riot and offer their mea culpa's is that the fight is over, the election is finished, their opponents have gone home to celebrate and they are doing nothing but flailing in the wind while grunting incoherently.While anyone can see the headlines about the third day of protests and riots, and how those that are incapable of understanding quite how elections work and are holding out for a pipe-dream that maybe they can make electors of the electoral college change their vote, what many are missing is how the mainstream media is attempting to suck more air out oxygen tanks that have gone empty.... and they have no one to blame but themselves. THE ULTIMATE LOSERS IN THE 2016 ELECTION - THE MSM For the last year and a half we have witnessed and reported on the mainstream media's unrelenting and unapologetic campaign against Donald Trump, where 91 percent of the reporting since the party's convention, where he was named the GOP nominee, has been studied and found to have been negative, but even before that they treated Trump as if he didn't stand a chance to win that nomination.We have noted and reported via Wikileaks releases how that very same MSM had colluded with the DNC and the Clinton campaign in order to influence the public to elect Hillary Clinton.We have also observed and reported how Trump supporters were constantly labeled and portrayed as racist, sexist, xenophobic, Islamophobic, uneducated, uninformed, white nationalist deplorables, just to name a few of the colorful descriptors.How did that work out for them?Despite their biased reporting and throwing everything, including the kitchen sink, at Trump, we now have President-Elect Donald Trump headed for the White House, to be sworn in on January 20, 2017. While Hillary Clinton will fade into obscurity and the protesters will eventually go home just to criticize everything Trump does for the next four (maybe 8?) years, and progressives will get over their sworn \"revolution\" within the party between liberals and moderate Democrats, the ultimate losers are not Clinton supporters, celebrities that swore to leave the country if Trump won, nor Democrats as a party.... it is the mainstream media that was rendered irrelevant, crushed by a wave of \"deplorables\" and alternative media bypassing their once-influential status to communicate without their fasle prism of 'truth.' MSM'S LAST GASP Now they are offering their mea culpas, dedicating countless hours and ink to explaining and justifying how they were so wrong in their predictions that they knew ahead of time were based on a false premise, and taking their \"last gasp\" by swearing to \"rededicate\" themselves to reporting honestly, while at the same time claiming they reported on \"both candidates fairly.\"I kid you not.Below is a letter by Arthur O. Sulzberger Jr. and Dean Baquet, the publisher and editor of the New York Times:First point is that if they had been reporting \"fairly\" as claimed in the letter above, they would not need to \"rededicate\" themselves to honesty. Secondly, they did not strive \"to understand and reflect all political perspectives and life experiences,\" of Trump supporters, rather they maligned, criticized, belittled and mocked anybody that did not agree with their superior and smug political opinion.While it is to be expected that Trump supporters, verbally abused on a regular basis will not forget nor forgive media outlets such as the Times, the Public Editor Liz Spayd, who works independently, with the job of examining The Times with an eye to protecting journalistic integrity and good practices, describes the reaction from other members of the public to their reporting. Readers are sending letters of complaint at a rapid rate. Heres one that summed up the feelings succinctly, from Kathleen Casey of Houston: \"Now, that the world has been upended and you are all, to a person, in a state of surprise and shock, you may want to consider whether you should change your focus from telling the reader what and how to think, and instead devote yourselves to finding out what the reader (and nonreaders) actually think.\" Another letter, from Nick Crawford of Plymouth, Mich., made a similar point. \"Perhaps the election result would not be such a surprise if your reporting had acknowledged what ordinary Americans care about, rather than pushing the limited agenda of your editors,\" he wrote. \"Please come down from your New York City skyscraper and join the rest of us.\" What Ms. Spayd does not acknowledge is that their reporting will not and cannot change as long as their publisher and editor, the ones that wrote the letter in the image above, continue to insist their reporting during the campaign season was in any way fair, or to even pretend they attempted to \"understand and reflect all political perspectives.\" What Ms. Spayd also does not address is the fact that five different New York Times' reporters accepted the invitations for the off-the-record gatherings to \"frame the HRC message\" with the Clinton campaign staff before her campaign launched, including, Gail Collins, Jonathan Martin, Maggie Haberman, Patrick Healy, and Amy Chozick, all of which consistently penned hit pieces against Trump.It is heartening to see that outlets like the New York Times are being called to the carpet by their own readers, as well as admitting they are losing subscribers, because while Trump supporters were maligned and lied about, their readers were misinformed and lied to . The countrys major news organizations, as surprised as anybody by Donald J. Trumps ascension to the presidency, faced a question from their audiences on Wednesday that was laced with a sense of betrayal and anger: How did you get it so wrong? The question came in letters. (\"To editors and writers of The NYT,\" one reader wrote, \"you were so wrong for so long. You misled your readers and were blinded by your own journalistic bigotry.\") It came in Facebook posts. (\"You were in a bubble and werent paying attention to your fellow Americans,\" the filmmaker Michael Moore wrote in a post shared more than 100,000 times.) Most ominously, it came in the form of canceled subscriptions, something that will surely be monitored. Former Times' reporter Michael Goodwin offers the Times some free advice : Using an outside law firm or even in-house reporters, he must assess how and why Baquet made the decision to sever the paper from its roots. He must assess the impact on reporters and editors, and whether they felt pressure to conform their stories to Baquets political bias. Whatever the findings, the publisher must insist that the standards of fairness again become a fundamental tenet in the news room. As an added guarantee, he must insist that the paper enlarge its thinking about diversity to include journalists who disagree with the Times embedded liberal slant. There has to be a difference of perspective to judge where fairness lies. Readers, and former readers, should be part of the process. Many already know that the paper must get its head out of parochial New York and into the hearts and minds of Americans everywhere. This is about survival. If it doesnt change now, the Gray Ladys days surely are numbered. BOTTOM LINE Frankly I believe traditional media's days are numbered whatever they do, and they are on their last gasp. There are too many Independent journalists and alternative news sites from both sides of the political aisle that are rendering them irrelevant. While alternative media has its own set of biases, the majority always provide links, documents when available, video clips and other methods for readers to verify, research and come to their own conclusions, something mainstream media doesn't want readers to do because they feel they have the right to lead the public where the MSM wants them to go, rather than inform the public and trust them to make their own determinations.</th>\n",
              "      <th>(Adult Language Warning) Liberal comedian Samantha Bee roasted the news media, past presidents, and President Donald Trump during a taped mock White House Correspondent s Dinner Saturday afternoon in Washington, D. C. From the Hollywood Reporter: As much as I might love poking fun at the media and as much as you kind of deserve it sometimes, your job has never been harder, she said. You re basically get paid to stand in a cage while a geriatric orangutan screams at you. ¦ You expose injustice against the weak and you continue to the president as if he might someday get embarrassed! Tonight is for you. ¦ The special s commercial breaks were led with taped sketches of Bee roasting a handful of previous presidents like Woodrow Wilson and Bill Clinton, complete with garb. This story has more wrinkles than the president s nutsack, she said of Ronald Reagan and the affair, while Richard Nixon achieved John F. Kennedy s two goals: landing a man on the moon and getting f  ed by a deep throat. The final sketch of this series had Bee roasting Mike Pence, who became president after Trump died after getting his head stuck in a jar of honey. She was shown wearing a chastity belt and a turtleneck: I attempted to cover my pillows but the slut shines through. ¦ One segment skewered Jeff Zucker and CNN. Zucker s greatest success besides The Apprentice  which, by the way, thanks for that  is filling airtime between car crashes with a reality show loosely based on the news where hacks make us measurably dumber by spewing mendacious nonsense while a hologram of Anderson Cooper stand by, said Bee, pleading for the network to free its journalists. Anderson is a smart reporter! Give him his black back and put him in front of a natural disaster! She added, CNN gives you news like your shitty boyfriend gives you orgasms: in the end, you wind up lying in the wet spot and he s snoring. For the rest of the article, click here. The TBS program Full Frontal with Samantha Bee s Not the White House Correspondents Dinner is set to air Saturday at 10 p. m. eastern.</th>\n",
              "      <th>(Before It's News)\\nWhat the video is about (emphasis added) In the effort to prove the credibility of the undercover donor featured in the videos and to keep the investigation going, Project Veritas Action made the decision to donate twenty thousand dollars to Robert Creamer s effort. Project Veritas Action had determined that the benefit of this investigation outweighed [ ¦]</th>\n",
              "      <th>(CNN) For many Americans across the country, Donald Trump's victory is an outcome they simply refuse to accept.\\n\\n\"Not my president,\" protesters chanted in rallies coast to coast.\\n\\nTens of thousands filled the streets in at least 25 US cities overnight -- with demonstrations outside Trump's properties.\\n\\nWhile most protesters were peaceful, dozens were arrested. At least three officers were wounded. And about 40 fires were set in one California city.\\n\\nHere's a snapshot of the rallies across the nation:\\n\\nOn Thursday afternoon, more than 200 anti-Trump protesters marched from the Union Square area to Washington Square Park in Manhattan.\\n\\nSome carried signs with messages such as, \"White men stop ruining everything.\" They chanted, \"Trump and Pence make no sense.\"\\n\\nOvernight, about 5,000 people protested the real estate mogul's victory outside Trump Tower, authorities estimated. They included pop star Lady Gaga, a staunch Hillary Clinton supporter.\\n\\nTheir concerns ranged from policies, such as Trump's proposed plan to build a wall along the US-Mexican border, to the polarizing tenor of his campaign that they say stoked xenophobic fears.\\n\\n\"I came out here to let go of a lot of fear that was sparked as soon as I saw the results,\" protester Nick Powers said in New York. He said he feared Trump will support stronger stop-and-frisk policies that would put many people in prison. Powers said he was also worried that Trump's victory would embolden sexist views.\\n\\nAt least 15 protesters at Trump Tower were arrested Wednesday night for disorderly conduct, New York police said.\\n\\nAbout 7,000 demonstrators filled streets in Oakland on Wednesday night -- and some turned violent.\\n\\nProtesters hurled Molotov cocktails, rocks and fireworks at police. Three officers were injured, police spokeswoman Johnna Watson said.\\n\\nTrash fires smoldered on a highway, and a downtown business was set ablaze. By Thursday morning, emergency workers extinguished about 40 fires.\\n\\n\"Throughout the evening, the large group splintered into smaller groups that began vandalizing numerous businesses in the downtown area,\" Oakland police said.\\n\\nAt least 30 people were arrested and 11 citations were issued for vandalism, assaulting officers, unlawful assembly, failure to disperse and possession of a firearm.\\n\\nThree police cars from nearby Pleasanton were damaged, officials said.\\n\\nA few miles away at Berkeley High School, about 1,500 students walked out of classes Wednesday. In San Francisco, more than 1,000 students across the city walked out of the school and headed to the Civic Center to engage in a peaceful protest, according to a tweet from the San Francisco Unified School District.\\n\\n\"People are furious, not just at the results of the election but the rhetoric of Donald Trump,\" said Ahmed Kanna, an organizer for Social Alternative at Berkeley.\\n\\nIn Chicago, activists marched down Lake Shore Drive -- an eight-lane expressway along Lake Michigan -- toward the Windy City's Trump Tower.\\n\\n\"I still can't believe I have to protest for civil rights,\" one sign read.\\n\\nCNN's Ryan Young, who saw a few thousand people there, said many chanted vulgarities toward the President-elect.\\n\\n\"As a nation we thought we had come so far, but it seems like we're taking many steps back,\" one woman said. \"We want to come together to change that.\"\\n\\nIn Omaha, Nebraska, authorities deployed pepper balls on a crowd of more than 200 people protesting Trump's election after they defied police orders to stay out of the streets.\\n\\nDozens of high school and college students staged rallies near the USC and UCLA campuses.\\n\\nOvernight, more than 1,000 protesters rallied outside Los Angeles City Hall, including many young Latinos.\\n\\nThey chanted, \"I will not live in fear,\" \"Fight back, stand up\" and \"¡Si se puede!\" (Spanish for \"Yes, it can be done\").\\n\\nProtesters also set on fire a piÃ±ata depicting the head of the President-elect.\\n\\nSeveral protesters said they feared that family or friends might be deported once Trump takes office.\\n\\nBrooklyn White, an 18-year-old who voted for Clinton, held a sign that said, \"Hate won't win.\"\\n\\n\"We can't let it stop us,\" she said. \"If he's the president, then fine. But if Donald Trump is going to be it, then he has to listen.\"\\n\\nAs many as 3,000 people joined Wednesday's demonstrations in the city, and 28 people were arrested for running into the 101 Freeway, said Los Angeles police spokeswoman Liliana Preciado. There was some property damage, but it's too early to know the exact extent, she said.\\n\\nMayor Eric Garcetti said in a statement, \"I understand that the results of Tuesday's election are painful for many of us, and this kind of engagement can be a meaningful part of the healing we need after such a long and divisive campaign.\\n\\n\"But walking and throwing objects onto freeways is dangerous for pedestrians and drivers -- and it puts a heavy burden on people just trying make it home to their families or get to work safely.\"\\n\\nGarcetti emphasized that the protests were largely peaceful, but said police would take quick action against those blocking traffic on interstates or vandalizing property, including news media vans.\\n\\n\"There is no place for the destruction of property, for the dangerous stopping of traffic,\" he said at a press conference Thursday. \"Don't lose the message here. The message is that Los Angeles stands as the great hope.\"\\n\\nGarcetti said 28 protesters have been arrested.\\n\\nMeanwhile, protesters in Washington chanted, \"No Trump, no KKK, no fascist USA,\" as they marched downtown to the Trump International Hotel.\\n\\nElsewhere in the nation's capital, an illuminated sign proclaimed that the US is \"Better Than Bigotry.\"\\n\\nTrump supporters also rallied, showing their elation outside his current and future homes -- New York's Trump Tower and the White House.\\n\\nNicholas Elliot, a Georgetown University student, compared Trump's victory to the United Kingdom's Brexit vote to leave the European Union.\\n\\nJ.D. Vance, author of the book \"Hillbilly Elegy,\" said Trump supporters in middle America voted for him because so few people -- including Clinton or her supporters -- had paid attention to their plight.\\n\\n\"They see Trump as an agent of change and (an) agent of protest against folks who they feel have really failed in government,\" Vance said.\\n\\nNow comes the hard part: finding middle ground, CNN's Marc Preston said.\\n\\n\"All that anger that has been contained outside of Washington, D.C., and New York that we don't see in middle America ... everyone's starting to see it,\" Preston said. \"There is a lot of healing that has got to happen.\"</th>\n",
              "      <th>(Editors Note: Attention language that may be offensive to some readers in paragraphs 22, 23, 24) By Emily Stephenson and Ginger Gibson NEW YORK/WASHINGTON (Reuters) - With his campaign in crisis, U.S. presidential candidate Donald Trump vowed on Saturday to stay in the race despite calls from more than two dozen prominent Republicans for him to drop out following the release of a recording of him making lewd comments about women. Both Trump s wife and his running mate criticized his words, saying they were insulting and indefensible. The media and establishment want me out of the race so badly - I WILL NEVER DROP OUT OF THE RACE, WILL NEVER LET MY SUPPORTERS DOWN! Trump wrote on Saturday afternoon on the social media website Twitter. The video was the latest calamity for Trump, who had hoped to revive his flagging campaign in the face of a recent drop in polls with less than a month until Election Day. Trump is due to appear alongside Democrat Hillary Clinton on Sunday in their second debate in the run-up to the general election. Clinton is not expected to address Trump s video before then. The 2005 video of Trump talking on an open microphone showed the then-reality TV star speaking about groping women and trying to seduce a married woman. The video was taped only months after Trump married his third wife, Melania. In a statement, Melania Trump called her husband s words unacceptable and offensive to me. This does not represent the man that I know, she said. He has the heart and mind of a leader. I hope people will accept his apology, as I have, and focus on the important issues facing our nation and the world. The backlash over the video was swift and widespread. More than 60 prominent Republican current and former officeholders issued statements condemning Trump s remarks about women, including House Speaker Paul Ryan and John McCain, the party s standard bearer in 2008. More than 20 called for Trump to end his presidential bid. In an unusual move, his vice presidential running mate Mike Pence issued a critical statement of Trump s words, saying on Twitter that he cannot defend them. As a husband and father, I was offended by the words and actions described by Donald Trump, said Pence, who is governor of Indiana. Pence indicated he would continue to support Trump, despite calls from several Republicans for Trump to step aside and let Pence be the nominee. There is no precedent for a major party to replace its nominee this late in the campaign and it was unclear if there was an avenue to force him out. Voting has begun in several states, including swing states Virginia and North Carolina. A recorded apology by Trump early on Saturday did not stymie an avalanche of calls from members of his party to quit. Trump huddled on Saturday in Trump Tower with senior advisers, including New Jersey Governor Chris Christie and former New York City Mayor Rudy Giuliani. Despite previous scheduling, Giuliani will appear on five major Sunday morning news programs, a rare round robin reserved for major news events - replacing Republican Chairman Reince Priebus on CBS s Face the Nation and campaign manager Kellyanne Conway on Fox News Sunday, a last-minute switch. No reason was given for the bump of Conway. A CBS news release said the RNC asked to replace Priebus because Trump s operation wanted a campaign person to appear on the program. Trump left the building briefly to greet a small crowd of supporters, saying 100 percent he would remain in the race. Before returning to a bank of elevators, he told reporters, Tremendous support. He quickly moved to do damage control in Saturday s video in which he declared himself a changed man and attempted to shift the focus to his opponent Clinton and her husband, former President Bill Clinton. On Twitter, Trump posted critical statements from Juanita Broaddrick, a woman who has accused Bill Clinton of sexually assaulting her. Anyone who knows me knows these words don t reflect who I am. I said it, I was wrong, and I apologize, Trump said in his video statement, posted on his Facebook page. Trump has struggled to win over women voters, and the video was expected to further feed Democratic criticism about his past behavior toward women. Trump s support has suffered among suburban women and white, college-educated women, groups that Republicans have traditionally won. In the recording that triggered the firestorm, Trump said of one woman, I did try and fuck her. She was married. He went on to discuss his attraction to others. I just start kissing them, he said. And when you re a star they let you do it. Grab them by the pussy. You can do anything, Trump said. On Saturday afternoon, CNN published a separate report detailing remarks Trump made over the course of several years while appearing on Howard Stern s radio program. The remarks included discussing the size of his daughter s breasts and that he once had sex with three women at the same time. Trump was asked if he would have sex with a black woman and responded, It depends on what your definition of black is. The remarks were the last straw for some Republicans who have stuck with him through a series of controversial remarks, including calling Mexican immigrants rapists and criminals, calling for a ban on Muslim immigrants, attacking a judge of Mexican descent, attacking the Gold Star family of a Muslim soldier killed at war and saying Senator John McCain was not a war hero because he had been a prisoner of war. House Speaker Paul Ryan disinvited Trump to a scheduled appearance on Saturday in Wisconsin. Pence declined to speak in his place. The list of Republicans announcing they would not vote for Trump or calling on him to step aside grew on Saturday: Senators Kelly Ayotte, Lisa Murkowsi, Dan Sullivan, Mark Kirk, Jeff Flake, John Thune, Mike Crapo, Shelley Moore Capito and Mike Lee; House members Jason Chaffetz, Mia Love, Joe Heck, Bradley Byrne, Martha Roby and Barbara Comstock; and Governors John Kasich, Dennis Daugaard and Gary Herbert. Additionally, former presidential candidates Mitt Romney and Carly Fiorina and former Secretary of State Condoleezza Rice called on Trump to quit. Donald Trump s behavior this week, concluding with the disclosure of his demeaning comments about women and his boasts about sexual assaults, make it impossible to continue to offer even conditional support for his candidacy, McCain said in a statement. While Democrats largely remained silent, opting to let Republicans attack one of their own, Vice President Joe Biden wrote on Twitter, The words are demeaning. Such behavior is an abuse of power. It s not lewd. It s sexual assault. Some prominent Republicans indicated they would stick with Trump. Ralph Reed, head of the Faith and Freedom Coalition, and Tony Perkins, head of the conservative Family Research Council, said they would continue to support him. I think 10 years ago he was a different man, said Representative Jack Kingston, a Republican from Georgia. I am very glad that he quickly apologized.</th>\n",
              "      <th>(In this Dec. 13 story, corrects third paragraph to say Dourson is a former professor at the University of Cincinnati) WASHINGTON (Reuters) - A former chemical industry consultant nominated by the Trump administration to head the Environmental Protection Agency s chemical safety and pollution prevention office has withdrawn his nomination, Bloomberg reported on Wednesday. Michael Dourson notified the administration of his decision on Wednesday after Republican senators raised concerns about his past work and possible conflicts of interest, said Bloomberg, which cited an unnamed official for the report. Dourson, a former professor at the University of Cincinnati who has worked as a consultant for chemical companies, was one of several people whose nominations for top EPA positions were approved by the Senate environment panel in October in a 11-10 vote along party lines. Bloomberg said several Republican senators refused to support Dourson, including Richard Burr and Thom Tillis, both of North Carolina, who raised concerns about contaminated water at the Camp Lejeune military base in their state. The White House did not immediately respond to a Reuters request for comment. A spokeswoman for Burr said she could not confirm that Dourson had withdrawn. Tom Carper, the top Democrat on the Senate environment panel, said in a statement, Dourson, an individual who has spent most of his career promoting less protective chemical safety standards, had no business overseeing our nation s chemical safety laws. Environmental group Earthjustice hailed the news as a victory for all children, workers and communities who deserve the strongest protections from exposure to toxic chemicals and pesticides. Dourson, while a consultant, had assessed some chemicals, including PFOA, used to make Teflon non-stick surfaces, to be safe at levels far higher than considered acceptable by the EPA.</th>\n",
              "      <th>(In this Jan. 31 story, in 11th paragraph corrects to show two Iranian plaintiffs are a man and a woman, not two men) By Scott Malone and Dan Levine BOSTON/SAN FRANCISCO (Reuters) - Legal challenges to President Donald Trump s first moves on immigration spread on Tuesday, with three states suing over his executive order banning travel into the United States by citizens of seven majority-Muslim countries. Massachusetts, New York, Virginia and Washington state joined the legal battle against the travel ban, which the White House deems necessary to improve national security. The challenges contend the order violated the U.S. Constitution s guarantees of religious freedom. San Francisco became the first U.S. city to sue to challenge a Trump directive to withhold federal money from U.S. cities that have adopted sanctuary policies toward undocumented immigrants, which local officials argue help local police by making those immigrants more willing to report crimes. The legal maneuvers were the latest acts of defiance against executive orders signed by Trump last week that sparked a wave of protests in major U.S. cities, where thousands of people decried the new president s actions as discriminatory. Both policies are in line with campaign promises by Republican businessman-turned-politician Trump, who vowed to build a wall on the Mexican border to stop illegal immigration and to take hard-line steps to prevent terrorist attacks in the United States. The restrictions on the seven Muslim-majority countries and new limits on refugees have won the support of many Americans, with 49 percent of respondents to a Reuters poll conducted Monday and Tuesday saying they agreed with the order, while 41 percent disagreed. Massachusetts contended the restrictions run afoul of the establishment clause of the 1st Amendment of the U.S. Constitution, which prohibits religious preference. At bottom, what this is about is a violation of the Constitution, Massachusetts Attorney General Maura Healey said of the order halting travel by people with passports from Iran, Iraq, Libya, Somalia, Sudan, Syria and Yemen for 90 days. The order also barred resettlement of refugees for 120 days and indefinitely banned Syrian refugees. It discriminates against people because of their religion, it discriminates against people because of their country of origin, Healey said at a Boston press conference, flanked by leaders from the tech, healthcare and education sectors who said that the order could limit their ability to attract and retain highly educated workers. Massachusetts will be backing a lawsuit filed over the weekend in Boston federal court by two Iranian men who teach at the University of Massachusetts at Dartmouth. A federal judge blocked the government from expelling those men from the country and halted enforcement of the order for seven days, following similar but more limited moves in four other states. The attorneys general of New York and Virginia also said their states were joining similar lawsuits filed in their respective federal courts challenging the ban. As we speak, there are students at our colleges and universities who are unable to return to Virginia, Virginia Attorney General Mark Herring told reporters. This is not an action I take lightly, but it is one I take with confidence in our legal analysis. On Monday, liberal-leaning Washington state became the first U.S. state to have its attorney general initiate a lawsuit against Trump to challenge the travel ban. Multiple foreign nationals have also filed lawsuits challenging the ban. They included one filed in Colorado on Tuesday by a Libyan college student and two filed in Chicago, including one on behalf of an Iranian father of three children all living in Illinois. Protests against Trump s executive action continued on Tuesday in several cities. A crowd of several thousand demonstrators gathered at the federal courthouse in Minneapolis, chanting Hey, hey, ho, ho Muslim ban has got to go! Dozens of protesters chanted the same slogan at Los Angeles International Airport, and more than 400 demonstrators gathered in downtown Miami to protest both the travel ban and Trump s crackdown on sanctuary cities. San Francisco City Attorney Dennis Herrera filed suit over Trump s order threatening to cut funds to cities with sanctuary policies, a move that could stop the flow of billions of dollars to major U.S. population centers including New York, Los Angeles and Chicago. If allowed to be implemented, this executive order would make our communities less safe. It would make our residents less prosperous, and it would split families apart, Herrera said. Sanctuary cities adopt policies that limit cooperation, such as refusing to comply with U.S. Immigration and Customs Enforcement detainer requests. Advocates of the policies say that, beyond helping police with crime reporting, they make undocumented immigrants more willing to serve as witnesses if they do not fear that contact with law enforcement will lead to their deportation. Both the San Francisco and Massachusetts actions contend that Trump s orders in question violate the 10th Amendment of the U.S. Constitution, which states that powers not granted to the federal government should fall to the states. Michael Hethmon, senior counsel with the conservative Immigration Reform Law Institute in Washington, called the San Francisco lawsuit a silly political gesture, noting that prior federal court decisions make clear that the U.S. government can prohibit a policy that essentially impedes legitimate federal programs.</th>\n",
              "      <th>(King World News) From Jason Goepfert at SentimenTrader: \\nInvestors are starting to thaw Individuals in the AAII survey come roaring back to the bullish camp, a mixed blessing It takes a while for rapid changes in prices to be reflected in longer-term indicators, so some of the weekly series are just now reflecting the moves from the past 1-2 weeks. \\nAmong them, the weekly survey from the American Association of Individual Investors showed one of the largest two-week jumps in bullish opinion in the survey s history. \\nKing World News note: Although the overall bullish opinion is still muted, the public is definitely increasing their appetite for stocks as the indexes hit new all-time highs. Of course this is the opposite of what we saw at the bottom of the stock markets in 2009. \\nThe chart and commentary above are from SentimenTrader. To try a free 14-day trial of the internationally acclaimed work that Jason Goepfert produces at SentimenTrader simply CLICK HERE. \\nLook At These Markets Seeing Massive Waterfall Declines As Chaotic Global Trading Continues</th>\n",
              "      <th>(Reuters) - A Donald Trump presidency would be bad for corporate dealmaking, according to a global survey of people who advise companies on mergers and acquisitions, or M&amp;A. Nearly two-thirds of 1,500 respondents - including investment bankers, lawyers and people who work for private equity firms - said a Trump presidency would create uncertainty that would deter executives from launching bids. The survey was conducted in April by Intralinks Holdings Inc IL.N, which provides confidential meeting rooms used by companies when they allow would-be bidders to look through their accounts. The real story is that dealmakers crave less disruption, and Trump has been a polarizing figure on a global scale, Matt Porzio, vice president of strategy at Intralinks, said in a phone interview on Wednesday. Trump is the front-runner for the Republican nomination for the Nov. 8 election. His unpredictable style and fiery rhetoric have some investors worried that as president he could trigger trade wars, hurt the economy and add a lot of volatility to financial markets. The New York real estate developer prides himself on his ability to make good deals, and M&amp;A professionals in the United States were less concerned about his impact on business than their peers elsewhere. According to the survey, 46 percent of U.S. dealmakers said they believed Trump would have a negative impact on M&amp;A activity, compared with 83 percent of dealmakers in Latin America. Trump has sparked controversy with his call for building a wall along the Mexican border and for deporting 11 million illegal immigrants from the United States. Some 71 percent of dealmakers based in Europe and 75 percent in Asia thought Trump would be bad for business. Globally, only 45 percent of respondents thought that U.S. Senator Bernie Sanders of Vermont, a self-described socialist who is competing with Hillary Clinton for the Democratic nomination, would be bad for M&amp;A activity. But the same proportion - 45 percent - thought Clinton would have a positive impact on mergers and acquisitions, making her the candidate viewed to have the highest positive impact on corporate tie-ups.</th>\n",
              "      <th>(Reuters) - A Florida man pleaded guilty on Monday to working with another man to illegally funnel $80,000 in foreign contributions to U.S. President Barack Obama s joint fundraising committee in 2012 so that a foreign national could attend a campaign event. William Argeros, 57, pleaded guilty in federal court in Newark, New Jersey, to charges that he knowingly and willfully made foreign contributions and donations and made a false declaration to a federal grand jury, prosecutors said. U.S. law prohibits contributions from foreign nationals to candidates or fundraising committees in federal elections. A lawyer for Argeros did not respond to a request for comment. The Tampa, Florida, resident is scheduled to be sentenced on Nov. 9. The proceedings came a month after an earlier guilty plea in the case by Bilal Shehu, a New Jersey limousine driver to whom prosecutors said Argeros facilitated the transferring of $80,000 from a foreign source. Prosecutors said Shehu, a Paramus, New Jersey resident, then provided the money to Obama s joint fundraising committee so that a foreign national could attend a campaign event on Oct. 8, 2012, in San Francisco. In announcing both guilty pleas, prosecutors have not specifically identified the foreign source of the money or the foreign national. But the cases came after a Republican congressman in 2013 called for investigations into the purchases by Shehu s family of two $40,000 tickets for a San Francisco fundraiser, one of which was used by now-Albanian Prime Minister Edi Rama. At the October 2012 event, Rama, the Albanian Socialist Party leader, was photographed with Obama. U.S. Representative Dana Rohrabacher of California at the time contended the photo was then used for deceitful purposes by Rama to imply a relationship with Obama during Albania s own election, which brought him into leadership. Prosecutors have said that the foreign national in the case was denied entry to the campaign event but was allowed to be photographed with Obama. Prosecutors said no one on the joint election committee has been accused of any wrongdoing and that it had cooperated fully in the investigation.</th>\n",
              "      <th>...</th>\n",
              "      <th>posted by Eddie Ever wonder how cellphones went from being a point of wealth to household commodity? Well, there s reason to believe that the accessibility of cellphones isn t purely coincidental. The thought originated with metadata and the possibilities made possible through the documentation of information that cellphones provide, through both backdoor access and the location data each phone provides. FISA, the Foreign Intelligence Surveillance Court, is an incredibly secret court that answers to no one and, has autonomy in not only their proceeding and rulings, but, is also highly-classified. Through this system, President s George Bush and Barrack Obama have enabled their own domestic surveillance practices. Although, The NSA is heavily involved as well. In doing so, the government has created programs and jobs that are specific to collecting and translating meta-data. The government would have you believe that meta-data is not as invasive as specific data, but, let s consider it this way. Imagine your coordinates being reported by the second, from the time you wake in the morning, during your commute to work, and whichever plans you have afterwards. This data system gives insight into each particular location, phone call, and the duration of said phone calls to these data collectors. Imagine being able to see each and every step your better half or child has throughout the day, and you notice they stops at location that seem unusual or speak/communicate with numbers/people unfamiliar to you while having access to the duration of those calls. Although, this leaves an opportunity for misconception, but, it also brings us to an objective truth, how revealing metadata can be. Edward Snowden, a former NSA employer who specialized in technology in the cyber division, released classified documents involving both government programs that enacted policies, and, FISA court rulings on said programs. These revelations brought his need to flee for asylum in China, and then and currently, Russia. Snowden s attempt of transparency let Americans learn just how much census data has changed and the contracts deployed between the government and the major communications companies, such as AT&amp;T. These companies have made millions by granting backdoor access and data to the government. Yet, this isn t all bad. Local officials have occasionally solicited access, through communication companies, to find criminals and perpetrators of crime. For example, in 2013 California officials used the data and cellphone accessibility to find the murderer that slaughtered a man, his wife, and their two children. Until the solicitation, the local officials weren t close to right suspect. After collaboration, the local officials were able to find, through metadata collection, analysis, and cellphone GPS, the exact location of the murderer. So, you tell me, do you think your phone is as private as you think? Written by Anthony A Fabrikant. From Around the Web Founder of WorldTruth.Tv and WomansVibe.com Eddie ( 8889 Posts ) \\nEddie L. is the founder and owner of WorldTruth.TV. and Womansvibe.com. Both website are dedicated to educating and informing people with articles on powerful and concealed information from around the world. I have spent the last 36+ years researching Bible, History, Alternative Health, Secret Societies, Symbolism and many other topics that are not reported by mainstream media.</th>\n",
              "      <th>posted by Eddie I m the kind of person who notices every little thing on my face. Now, I may not act on everything little thing that pops up, so-to-speak, but I definitely notice! A stray eyebrow hair? Yeah, I see you there. A little pimple: how could I miss it? But none of these things compare to the feeling of finding a little patch of nasty blackheads popping up. I get them around my chin and nose. And, honestly, I really don t know how to effectively deal with them at home. So, I end up popping them. Anyone who has ever done this knows that nine times out of ten, popped blackhead will turn into something way worse! I got sick of the whole process. Get rid of a blackhead to get a pimple instead? No thanks. So that s why I got really excited to see a natural remedy I could try at home. If you re anything like me, you ll definitely want to check this out, too. When you try it, make sure to snap a pic and upload it in the comments so everyone can see how awesome this blackhead mask is in action! Here is how you transform your face for the better naturally! 1. Get the ingredients: milk and gelatin. \\nSince you ll be putting these things directly on your face, I highly recommend choosing high-quality options here. Also, make sure the gelatin is unflavored. 2. Measure, then mix. \\nPut the gelatin (1 Tablespoon) in a container first, then add the milk (1-2 Tablespoons). Mix. 3. Rinse your face while microwaving the mix for 15 seconds. \\nThe heat makes this mix so soft. You ll want to put it on straight away to ensure the desired smoothness. 4. Apply the warm mixture to your face. \\nYou can spread this mix all over or do some spot treatments  your choice. Just remember to use it quickly! 5. Let it soak in! \\nGrab your smartphone; you ve got about 15 minutes to spare here. Better yet, take note and make some funny faces in the mirror. 6. Start peeling away those nasties! \\nOnce it s dry, grab a corner and start slowing peeling. Get ready to be amazed! 7. Pull! Make sure to get them all! \\nThis is the most satisfying part  seeing all those disgusting blackheads meet their fate. \\nSource:</th>\n",
              "      <th>posted by Eddie You know the Dakota Access Pipeline protests are working when oil interests start resorting to underhanded tricks to paint water protectors in a negative light. As the fight against the pipeline grows in North Dakota and around the country, dirty tricks are being deployed in an apparent attempt to delegitimize the opposition. Dakota Access Employee Tries to Incite Violence, Sheriff s Department Makes False Report That He Was Shot by Protesters Mother Jones journalist Wes Enzinna, who was at the protests, says he witnessed a Dakota Access LLC employee try to infiltrate the Dakota Access Pipeline protests: An armed security agent employed by the company behind the controversial Dakota Access Pipeline was arrested Thursday after he was caught entering the camp of activists protesting near the Standing Rock Indian Reservation in southern North Dakota. After a car chase and a standoff during which he allegedly pointed his assault rifle at a local Sioux teenager, the man, whose ID indicated he was an employee of Dakota Access LLC, was arrested and handed over to the FBI. According to an official statement from the tribe, the man fired several shots from his gun before being peacefully apprehended by tribal police. Witnesses at the scene say he pointed his gun at several protesters. The man was clearly trying to provoke violence that could later be used to demonize protesters who have so far remained peaceful. The Morton County Sheriff s Department circulated a false report claiming the man was shot, presumably by protesters. As you can see in the images above, the man was not harmed. The Sheriff s Department has since retracted that report. Anti-Media s attempts to obtain clarifying comments from Morton County Sheriff s were ignored. \\nFake Internet Trolls Slam Dakota Access Pipeline Protests, Promote Pipeline on Twitter \\nWith very little organic support for the Dakota Access Pipeline remaining, groups allied with the pipeline builders now seem to be creating paid Internet trolls or bots to slam protesters while praising the pipeline. DESMOG , an environmental blog, conducted an investigation and found what it says are sock puppet accounts tied to an oil industry lobby operating on Twitter: A DeSmog investigation has revealed the possibility that a front group supporting the controversial Dakota Access Pipeline (DAPL)  the Midwest Alliance for Infrastructure Now (MAIN)  may have created fake Twitter profiles, known by some as sock puppets, to convey a pro-pipeline message over social media. And MAIN may be employing the PR services of the firm DCI Group, which has connections to the Republican Party, in order to do so. DeSmog tracked down at least 16 different questionable Twitter accounts which used the #NoDAPL hashtag employed by protesters, in order to claim that opposition to the pipeline kills jobs, that those protesting the pipeline at the Standing Rock Sioux Tribe s encampment use violence, and that the pipeline does not pose a risk to water sources or cross over tribal land. On September 13, people began to suspect these accounts were fake, calling them out on Twitter , and by September 14, most of the accounts no longer existed. \\nWith the Dakota Access Pipeline builders resorting to backhanded trickery, it s clear the tide is turning against the pipeline following law enforcement s overwhelming militarized crackdown of the protests. source:</th>\n",
              "      <th>shorty BY PETER LEE I ve written a couple pieces of the smoking hot issue in Pivotland, Philippine president Duterte s swerve toward a pro-PRC foreign policy, and what the U.S. and pro-American sector of the Manila elite are going to do about it. The first piece, Reports of death of US-Philippine alliance may be exaggerated, addresses the fact that Duterte s freedom of movement is constrained by the need to keep the Philippine military happy, and notes that ex-prez and retired general Fidel Ramos, who facilitated Duterte s entrance on the national political stage, is signaling dissatisfaction with Duterte. The second piece, Duterte Plays the Mamasapano Card, covers a Duterte counter-attack: a threat to relitigate the death of 44 Philippine National Police commandos at Mamasapano in Mindanao, a 2014 special ops fiasco conducted under the aegis of the United States which a) exposes ex-president Aquino to serious legal jeopardy b) posits that the US alliance is doing a better job of killing Filipinos than the PRC can ever hope to do. The US seems to be embedded in a colonial mindset when it comes to the Philippines, something along the lines of we ve been selflessly looking after the Philippines for a century, and that thug Duterte won t be allowed to screw that up during his brief (maybe curtailed) presidency. It takes a pretty superficial view of Philippine history, one that accepts the US self-definition as the Philippines security savior while ignoring the distortions and shortcomings of the colonial and neo-colonial relationship. For me this tunnel vision was typified by the US media crowing over the formal delivery of a refurbished C-130 transport to the Philippine government by outgoing ambo Philip Goldberg. Message: here s the US making provisions for Philippine defense at the same time Duterte s selling out the country to China. To me, the inadvertent message was 1) here s the US blindly stroking the pivot fetish while Duterte tries to solve the Mindanao insurgency that has cost at least 400,000 lives over the last century, win his drug war, and find a place for the Philippines in Asia that doesn t give primacy to the US preoccupation confronting the PRC and 2) the U.S., in my opinion, pretty much has a policy of keeping the Philippines flat on its behind as an independent military force by trickling out second-hand gear to the Philippine military while the sweet stuff is dangled in front of it during US joint military maneuvers and port calls. But the United States is trying to find political leverage wherever it can and the Western media will, I m sure, put its shoulder to the wheel to help out. Feelings of nationalism are pervasive in the US, but Americans have difficulty understanding why people in other nations may harbor animosity toward them on account of their colonialist and imperialist experiences. P hilip Goldberg sat down for a 45-minute exit interview with Rappler. As befitting Rappler s origins in the Soros/Omidyar network of pro-US globalization advocacy, the interview was a stream of softballs about what to do about Duterte s disregard of the awesomeness of the American relationship, an awesomeness that is acknowledged by virtually all Filipinos who inexplicably (and, if the US has anything to do about it, temporarily) at the same time give Duterte approval ratings of over 80%. It s worth watching if you have the patience. Goldberg is a smooth cat, and the Rappler tonguebath gives you no inkling of the fact that he intimately familiar with the wet work of end-arounding national governments to cultivate secessionist movements, you know, like what he did in Bolivia (declared persona non grata as a result) and Kosovo, and like that thing in Duterte s home province of Mindanao, which in my opinion probably the main reason why Duterte wanted him out of the Philippines. Goldberg also discretely plays the economic threat card, concern-trolling that anti-US attitudes will dismay foreign investors . It will be interesting to see how this plays out in subsequent weeks. As far as I can tell, the biggest U.S. factor in the domestic Philippine economy is the call-center industry. I doubt US corporations are interested in actually pulling their operations out and subjecting them to the English-language mercies of India, but certainly a call from the State Department or White House would convince them of the wisdom of at least making the threat. And I also wonder if expected President Hillary Clinton will find it necessary to drop the hammer on Duterte, in order to demonstrate to a rather dubious Asia that there is no alternative to loyalty to the pivot. I expect the next few months, in other words, to be very interesting. NOTE: ALL IMAGE CAPTIONS, PULL QUOTES AND COMMENTARY BY THE EDITORS, NOT THE AUTHORS</th>\n",
              "      <th>source Add To The Conversation Using Facebook Comments</th>\n",
              "      <th>usapoliticsnow admin 2016 Election , US News \\nBroward County is one of the largest swing counties in Florida. It would not take much voter fraud there to flip it. \\nThe voter fraud whistle-blower is a former Secretary of Elections Department employee and she has filled out a sworn affidavit: \\nYou can read the affidavit here. The affidavit by Chelsey Marie Smith accuses Broward County officials of filling out blank absentee ballots to officials who she saw filling the ballots out at the Supervisor of Elections headquarters. Smith said she was asked to deliver numerous ballots to a secret locked room where employees were filling out the absentee ballots. At first she was not clear as to what was happening. When she finally clearly saw what was up and reported it, she was terminated and told to never come back! \\nAfter being caught red-handed engaging in voter fraud, Broward Country FL Sec of Elections Brenda Snipes claimed staff were replicating damaged ballots in the locked secret room without official monitors present. Yeah, that was a good one Brenda! \\nAccording to the whistle-blower, the massive voter fraud went on day after day and included what had to be thousands of ballots. Brenda Snipes is already under lawsuit for deliberately misprinting absentee ballots! Why is she still around? \\nDonald Trump is currently preparing a lawsuit against Snipes and the FL State Attorney investigators are actively reviewing the voter fraud case. Secretary of Election employees in Broward County, FL caught filling out absentee ballots! #FloridaFraud pic.twitter.com/MqjmFtDXHX \\n Mike Cernovich ðºð¸ (@Cernovich) November 4, 2016 \\nRecently, numerous Florida voters have complained that they have not been receiving their absentee ballots. It seems we have found where some are going! How many other counties have a secret locked room!! \\nDemocrats live by an ends justify the means mentality. Cheating and stealing is of no issue to them as long as the outcome is the one that they want! Voter Fraud is entirely legitimate to them. \\nUPDATE: \\nFox News reported that the Florida GOP has also filed a voter fraud lawsuit for illegally opening absentee ballots! \\nThe state GOP alleges that officials in Broward County, which includes Fort Lauderdale, have been opening tens of thousands of vote-by-mail ballots prior to them being cleared for counting. \\nChairman Blaise Ingoglia told Shapiro that Florida law prescribes that when the supervisor of elections takes in all these ballots, they have to be approved by the canvassing board. \\nTherefore, the officials have no legal authority to open the ballot envelopes. \\nIngoglia said none of the ballots had been approved, so the party will be filing a lawsuit at 9 a.m. ET Thursday if county officials do not respond to his complaint by close-of-business on Wednesday. \\nSource: www.ihavethetruth.com</th>\n",
              "      <th> Phil Kerpen (@kerpen) October 31, 2016 \\nRemington Research's summary of the polling data asserted that the race has become \"increasingly competitive\": \\nLast week, we found a presidential race where Hillary Clinton held a clear advantage. This week, we find an increasingly competitive race with just eight days to go. Trump appears to be holding strong in his must-win states and Colorado remains within the margin of error. The data also show that Pennsylvania has moved into the margin of error category. \\nThe presidential race remains very competitive as we move into the final stretch. Hillary maintains an advantage leading in Colorado and Pennsylvania, but at this point anything can happen, said Titus Bond, Director of Remington Research Group \\nOther state polling data came out on Sunday that also showed a close-race between Trump and Clinton, although the polls were surveyed before FBI director James Comey's announcement that they were re-opening their investigation against Clinton . Via RealClearPolitics : Florida: New York Times/Siena: Trump 46 percent, Clinton 42 percent. NBC/Wall Street Journal/Marist: Clinton 45 percent, Trump 44 percent. Gravis: Clinton 48 percent, Trump 47 percent. Colorado: CBS News/YouGov: Clinton 42 percent, Trump 39 percent. Arizona: CBS/YouGov: Trump 44 percent, Clinton 42 percent. North Carolina: NBC/Wall Street Journal/Marist: Clinton 47 percent, Trump 41 percent. Gravis: Clinton 49 percent, Trump 47 percent. CBS News/YouGov: Clinton 48 percent, Trump 45 percent. Pennsylvania: CBS News/YouGov: Clinton 48 percent, Trump 40 percent. \\nThe fact that some of these polls were close even before the Comey announcement led to this observation from FiveThirtyEight's Nate Silver: Both things can be true: 1) Comey impact overblown  Nate Silver (@NateSilver538) October 31, 2016 \\nRadio host Steve Deace writes at Conservative Review that while early voting has been overwhelmingly in favor of Clinton, the renewed FBI investigation could \"have a potentially huge impact\" on Election Day: \\nTrump was on defense on the election map as he had to defend states like Arizona, Georgia, Utah, Indiana, and Alaska that rarely go blue on Election Day. It s quite conceivable that yet another reminder of the stench of corruption that has long surrounded the Clintons could sway the bulk of Republican-leaning undecideds Trump s way. But that s provided, of course, that he can withstand his compulsion to negatively influence a favorable news cycle as he s been prone to do. Then there s the matter of Trump s emerging Evan McMullin headache in Utah. \\nIf Trump can be disciplined this final week, his campaign may have the freedom to focus its efforts on Iowa, Nevada, Florida, Ohio, and North Carolina. Those five states would get him within striking distance to 265 Electoral College votes, and then you hope you can pull an upset in Colorado, Pennsylvania, or New Mexico where Trump is visiting during the campaign s final week. The hope is that there s enough voters in those states wearier of Clinton s corruption than worried about whether Trump s fit for office. \\nFiveThirtyEight currently has Trump's odds of winning the presidency at 23.6 percent in their polls-plus forecast. This week will be crucial for Trump in increasing those odds, and maybe the FBI's re-opened investigation into Clinton will help improve those odds as it becomes closer to Election Day. Tags</th>\n",
              "      <th>I today. I wrote in Arabic  The republic will never be down . \\nCOURTESY: RT s RUPTLY video agency, NO RE-UPLOAD, NO REUSE  FOR LICENSING, PLEASE, CONTACT http://ruptly.tv \\nRT LIVE http://rt.com/on-air \\nSubscribe to RT! http://www.youtube.com/subscription_center?add_user=RussiaToday \\nLike \\nShare the joy</th>\n",
              "      <th>¦ Is because he has a very powerful bullshit detector. We know this thanks to a fascinating and unwittingly revelatory article in the German newspaper Der Spiegel.[ The paper reveals how, in the days running up to President Trump s decision to quit the UN Paris accord, he received a series of deputations from EU leaders urging him to change his mind. For me it s easier to stay in than step out, Trump told them. This is perfectly true. Since his momentous Rose Garden speech announcing his plans to pull out of Paris, Trump has taken more flak than a raid over Berlin in 44. He has upset his daughter Ivanka, his Secretary of State Rex Tillerson, his financial advisor Gary Cohn. On top of that, he has given the entire liberal half of the planet, plus sundry conservative squishes, the perfect excuse they needed to dismiss him as a loon in thrall to Big Oil, Big Coal, Big Evil, etc ¦ If Trump pulls the US out of the #ParisAgreement he will be committing a traitorous act of war against the American people. My statement: pic. twitter.  Tom Steyer (@TomSteyer) May 29, 2017, USA to Earth: FUCK YOU,  Michael Moore (@MMFlint) June 1, 2017, Am departing presidential councils. Climate change is real. Leaving Paris is not good for America or the world.  Elon Musk (@elonmusk) June 1, 2017, So what was it that tipped Trump over the edge? Well sure, as he made clear in his brilliant White House speech, it was about American jobs. But while I ve no doubt that that fact provided the rational basis for his bold, principled decision, I think we can look elsewhere for the tipping point. And here it is, in black and white, in Der Spiegel s account of how the G7 leaders tried to badger Trump at the summit in Taormina, Sicily. Leaders of the world s seven most powerful economies were gathered around the table and the issues under discussion were the global economy and sustainable development. The newly elected French president, Emmanuel Macron, went first. It makes sense that the Frenchman would defend the international treaty that bears the name of France s capital: The Paris Agreement. Climate change is real and it affects the poorest countries, Macron said. Then, Canadian Prime Minister Justin Trudeau reminded the U. S. president how successful the fight against the ozone hole had been and how it had been possible to convince industry leaders to reduce emissions of the harmful gas. Finally, it was Merkel s turn. Renewable energies, said the chancellor, present significant economic opportunities. If the world s largest economic power were to pull out, the field would be left to the Chinese, she warned. Xi Jinping is clever, she added, and would take advantage of the vacuum it created. Even the Saudis were preparing for the era, she continued, and saving energy is also a worthwhile goal for the economy for many other reasons, not just because of climate change. At which point, Trump s bullshit detector must have been bleeping off the scale. Let s examine those arguments, one by one. First, Mummy s Boy Macron s line that Climate change is real and it affects the poorest countries. The first half is trivially true: climate has indeed been changing for the 4. 5 billion years of the planet s existence. But the notion that recent climate change is catastrophic, unprecedented and significantly is a shaky theory, not a proven fact. And in any case it is beside the point. Even supposing that climate change is all those things, it doesn t alter the fact that Paris is a pointless waste of money, especially for countries like the U. S. which are expected to bear the burden of the cost. As Bjorn Lomborg has calculated, using the alarmists own models and data, if every signatory nation sticks to Paris then the effect will be to reduce global warming by 0. 17 degrees C by 2100. At a cost in excess of $100 trillion. As for the affects the poorest countries part  even if this is true, there are better ways of helping poor countries than bombing the U. S. economy to the dark ages. Like, promoting a flourishing economy which yields more to spend on foreign aid. Next, Canadian Prime Minister Bieber on the Ozone Layer. As Matt Ridley shows in some detail here, the vanishing ozone layer is more or less an urban myth trotted out by environmentalists mainly to justify their insatiable advocacy of . For reasons I will explain, this news deserves to be taken with a large pinch of salt. You do not have to dig far to find evidence that the ozone hole was never nearly as dangerous as some people said, that it is not necessarily healing yet and that it might not have been caused mainly by CFCs anyway. The timing of the announcement was plainly political: it came on the 25th anniversary of the treaty, and just before a big United Nations climate conference in New York, the aim of which is to push for a climate treaty modelled on the ozone one. See how these memes get repeated, over and over again, as memes are? That piece was from 2014. You can lay money that it won t be the last time some environmentalist or politician brings it up to prove that concerted intergovernmental legislation works because it healed the ozone layer. Finally, the Mutti of all Globalists herself, Mrs Merkel. Renewable energies, said the chancellor, present significant economic opportunities. Yes, I suppose they do, if like Elon Musk you ve got your snout buried deep in the subsidies trough, or like Warren Buffett you like to profit off the tax credits or like wind and solar developers everywhere you just don t care about the bats and birds sliced and diced, the countryside spoiled and the people who have their sleep disturbed and their property values trashed. But strip away the subsidies and the green lies and renewables make no economic or environmental sense at all. As for the green Chinese. The green Chinese are laughing at us. As, by the way, are the Indians. And here s why ¦ Now do you see what I mean? President Trump pulled out of Paris for a lot of sensible reasons. But the one that tipped him over the edge was quite simply this: when you ve got your fellow leaders of the free world insulting you with arguments you know to be bullshit and treating you like you re some kind of an idiot, well suddenly it all becomes crystal clear what you ve gotta do ¦ You call those charlatans bluff and remember why it was that people voted you to be President of the U. S. A: because they wanted someone real doing the job, for a change, and not yet another of those charlatans ¦</th>\n",
              "      <th>¦In 5 cities 8 kings; they ruled for 241,200 years. Then the flood swept over ¦ that is written on the first part of the Sumerian King List. But how is it possible for eight kings to rule for a period of 241,200 years? \\n\\n\\nIf we take a look at the Sumerian King list, we will find fascinating details that contradict everything we have been told about our history. This ancient text describes a time on Earth when Gods ruled humankind for tens of thousands of years. It explicitly says that before the Great Flood swept across Earth, eight ancient kings lived on Earth and ruled for a total period of 241,200 years. Today, this historical fact is dismissed as mythology.\\n\\nMany of us will agree that the most puzzling detail about the Sumerian King list is that it describes EIGHT kings who ruled over planet Earth for a total period of 241,200 years after the ORIGINAL kingship descended from heaven lasting all the way until the Great Flood which swept over mankind and once more the kingship was lowered from heaven after the Flood.\\n\\nSo how is this possible? What exactly are we missing here? How could eight kings have ruled over five cities for hundreds of thousands of years? Where they immortal? Were they otherworldly beings? Or is it possible that we misinterpreted years for days? Or, as many others believe, did these ancient kings really live through such lengthy reigns?\\n\\n\\nAccording to this ancient text its crystal clear: the first part of the Sumerian King List reads : \\nAfter the kingship descended from heaven, the kingship was in Eridug. In Eridug, Alulim became king; he ruled for 28800 years. Alaljar ruled for 36000 years. 2 kings; they ruled for 64800 years. Then Eridug fell and the kingship was taken to Bad-tibira. In Bad-tibira, En-men-lu-ana ruled for 43200 years. En-men-gal-ana ruled for 28800 years. Dumuzid, the shepherd, ruled for 36000 years. 3 kings; they ruled for 108000 years. Then Bad-tibira fell (?) and the kingship was taken to Larag. In Larag, En-sipad-zid-ana ruled for 28800 years. 1 king; he ruled for 28800 years. Then Larag fell (?) and the kingship was taken to Zimbir. In Zimbir, En-men-dur-ana became king; he ruled for 21000 years. 1 king; he ruled for 21000 years. Then Zimbir fell (?) and the kingship was taken to Curuppag. In Curuppag, Ubara-Tutu became king; he ruled for 18600 years. 1 king; he ruled for 18600 years. In 5 cities 8 kings; they ruled for 241200 years. Then the flood swept over. \\nThere are more than a dozen of copies of Sumerian King Lists, found in Babylon, Susa, and Assyria, and the Royal Library of Nineveh from the VII century BC. All of these are believed to originate from one original list believed to have been written during the Third Dynasty of Ur or even earlier. The best-preserved specimen of the Sumerian King List is called the Weld-Blundell Prism, which is a clay, cuneiform inscribed vertical prism housed in the Ashmolean Museum.\\n\\nAncient-Code \\nSOURCE</th>\n",
              "    </tr>\n",
              "  </thead>\n",
              "  <tbody>\n",
              "    <tr>\n",
              "      <th>id</th>\n",
              "      <td>1</td>\n",
              "      <td>1</td>\n",
              "      <td>1</td>\n",
              "      <td>1</td>\n",
              "      <td>1</td>\n",
              "      <td>1</td>\n",
              "      <td>1</td>\n",
              "      <td>1</td>\n",
              "      <td>1</td>\n",
              "      <td>1</td>\n",
              "      <td>...</td>\n",
              "      <td>1</td>\n",
              "      <td>1</td>\n",
              "      <td>1</td>\n",
              "      <td>1</td>\n",
              "      <td>1</td>\n",
              "      <td>1</td>\n",
              "      <td>1</td>\n",
              "      <td>1</td>\n",
              "      <td>1</td>\n",
              "      <td>1</td>\n",
              "    </tr>\n",
              "    <tr>\n",
              "      <th>title</th>\n",
              "      <td>1</td>\n",
              "      <td>1</td>\n",
              "      <td>1</td>\n",
              "      <td>1</td>\n",
              "      <td>1</td>\n",
              "      <td>1</td>\n",
              "      <td>1</td>\n",
              "      <td>1</td>\n",
              "      <td>1</td>\n",
              "      <td>1</td>\n",
              "      <td>...</td>\n",
              "      <td>1</td>\n",
              "      <td>1</td>\n",
              "      <td>1</td>\n",
              "      <td>1</td>\n",
              "      <td>1</td>\n",
              "      <td>1</td>\n",
              "      <td>1</td>\n",
              "      <td>1</td>\n",
              "      <td>1</td>\n",
              "      <td>1</td>\n",
              "    </tr>\n",
              "    <tr>\n",
              "      <th>label</th>\n",
              "      <td>1</td>\n",
              "      <td>1</td>\n",
              "      <td>1</td>\n",
              "      <td>1</td>\n",
              "      <td>1</td>\n",
              "      <td>1</td>\n",
              "      <td>1</td>\n",
              "      <td>1</td>\n",
              "      <td>1</td>\n",
              "      <td>1</td>\n",
              "      <td>...</td>\n",
              "      <td>1</td>\n",
              "      <td>1</td>\n",
              "      <td>1</td>\n",
              "      <td>1</td>\n",
              "      <td>1</td>\n",
              "      <td>1</td>\n",
              "      <td>1</td>\n",
              "      <td>1</td>\n",
              "      <td>1</td>\n",
              "      <td>1</td>\n",
              "    </tr>\n",
              "    <tr>\n",
              "      <th>length</th>\n",
              "      <td>1</td>\n",
              "      <td>1</td>\n",
              "      <td>1</td>\n",
              "      <td>1</td>\n",
              "      <td>1</td>\n",
              "      <td>1</td>\n",
              "      <td>1</td>\n",
              "      <td>1</td>\n",
              "      <td>1</td>\n",
              "      <td>1</td>\n",
              "      <td>...</td>\n",
              "      <td>1</td>\n",
              "      <td>1</td>\n",
              "      <td>1</td>\n",
              "      <td>1</td>\n",
              "      <td>1</td>\n",
              "      <td>1</td>\n",
              "      <td>1</td>\n",
              "      <td>1</td>\n",
              "      <td>1</td>\n",
              "      <td>1</td>\n",
              "    </tr>\n",
              "  </tbody>\n",
              "</table>\n",
              "<p>4 rows × 1101 columns</p>\n",
              "</div>\n",
              "      <button class=\"colab-df-convert\" onclick=\"convertToInteractive('df-e04b514d-1172-449c-8f47-e0c8413b53ae')\"\n",
              "              title=\"Convert this dataframe to an interactive table.\"\n",
              "              style=\"display:none;\">\n",
              "        \n",
              "  <svg xmlns=\"http://www.w3.org/2000/svg\" height=\"24px\"viewBox=\"0 0 24 24\"\n",
              "       width=\"24px\">\n",
              "    <path d=\"M0 0h24v24H0V0z\" fill=\"none\"/>\n",
              "    <path d=\"M18.56 5.44l.94 2.06.94-2.06 2.06-.94-2.06-.94-.94-2.06-.94 2.06-2.06.94zm-11 1L8.5 8.5l.94-2.06 2.06-.94-2.06-.94L8.5 2.5l-.94 2.06-2.06.94zm10 10l.94 2.06.94-2.06 2.06-.94-2.06-.94-.94-2.06-.94 2.06-2.06.94z\"/><path d=\"M17.41 7.96l-1.37-1.37c-.4-.4-.92-.59-1.43-.59-.52 0-1.04.2-1.43.59L10.3 9.45l-7.72 7.72c-.78.78-.78 2.05 0 2.83L4 21.41c.39.39.9.59 1.41.59.51 0 1.02-.2 1.41-.59l7.78-7.78 2.81-2.81c.8-.78.8-2.07 0-2.86zM5.41 20L4 18.59l7.72-7.72 1.47 1.35L5.41 20z\"/>\n",
              "  </svg>\n",
              "      </button>\n",
              "      \n",
              "  <style>\n",
              "    .colab-df-container {\n",
              "      display:flex;\n",
              "      flex-wrap:wrap;\n",
              "      gap: 12px;\n",
              "    }\n",
              "\n",
              "    .colab-df-convert {\n",
              "      background-color: #E8F0FE;\n",
              "      border: none;\n",
              "      border-radius: 50%;\n",
              "      cursor: pointer;\n",
              "      display: none;\n",
              "      fill: #1967D2;\n",
              "      height: 32px;\n",
              "      padding: 0 0 0 0;\n",
              "      width: 32px;\n",
              "    }\n",
              "\n",
              "    .colab-df-convert:hover {\n",
              "      background-color: #E2EBFA;\n",
              "      box-shadow: 0px 1px 2px rgba(60, 64, 67, 0.3), 0px 1px 3px 1px rgba(60, 64, 67, 0.15);\n",
              "      fill: #174EA6;\n",
              "    }\n",
              "\n",
              "    [theme=dark] .colab-df-convert {\n",
              "      background-color: #3B4455;\n",
              "      fill: #D2E3FC;\n",
              "    }\n",
              "\n",
              "    [theme=dark] .colab-df-convert:hover {\n",
              "      background-color: #434B5C;\n",
              "      box-shadow: 0px 1px 3px 1px rgba(0, 0, 0, 0.15);\n",
              "      filter: drop-shadow(0px 1px 2px rgba(0, 0, 0, 0.3));\n",
              "      fill: #FFFFFF;\n",
              "    }\n",
              "  </style>\n",
              "\n",
              "      <script>\n",
              "        const buttonEl =\n",
              "          document.querySelector('#df-e04b514d-1172-449c-8f47-e0c8413b53ae button.colab-df-convert');\n",
              "        buttonEl.style.display =\n",
              "          google.colab.kernel.accessAllowed ? 'block' : 'none';\n",
              "\n",
              "        async function convertToInteractive(key) {\n",
              "          const element = document.querySelector('#df-e04b514d-1172-449c-8f47-e0c8413b53ae');\n",
              "          const dataTable =\n",
              "            await google.colab.kernel.invokeFunction('convertToInteractive',\n",
              "                                                     [key], {});\n",
              "          if (!dataTable) return;\n",
              "\n",
              "          const docLinkHtml = 'Like what you see? Visit the ' +\n",
              "            '<a target=\"_blank\" href=https://colab.research.google.com/notebooks/data_table.ipynb>data table notebook</a>'\n",
              "            + ' to learn more about interactive tables.';\n",
              "          element.innerHTML = '';\n",
              "          dataTable['output_type'] = 'display_data';\n",
              "          await google.colab.output.renderOutput(dataTable, element);\n",
              "          const docLink = document.createElement('div');\n",
              "          docLink.innerHTML = docLinkHtml;\n",
              "          element.appendChild(docLink);\n",
              "        }\n",
              "      </script>\n",
              "    </div>\n",
              "  </div>\n",
              "  "
            ]
          },
          "metadata": {},
          "execution_count": 22
        }
      ],
      "source": [
        "df.groupby('text').nunique().T"
      ]
    },
    {
      "cell_type": "markdown",
      "metadata": {
        "id": "N1xA_-8qBbJU"
      },
      "source": [
        "## Text Preprocessing :"
      ]
    },
    {
      "cell_type": "code",
      "execution_count": 28,
      "metadata": {
        "id": "lL6q0TspBbJU",
        "colab": {
          "base_uri": "https://localhost:8080/"
        },
        "outputId": "d20ba0b4-e22b-418b-d590-3779d9334481"
      },
      "outputs": [
        {
          "output_type": "stream",
          "name": "stderr",
          "text": [
            "[nltk_data] Downloading package stopwords to /root/nltk_data...\n",
            "[nltk_data]   Unzipping corpora/stopwords.zip.\n"
          ]
        },
        {
          "output_type": "execute_result",
          "data": {
            "text/plain": [
              "True"
            ]
          },
          "metadata": {},
          "execution_count": 28
        }
      ],
      "source": [
        "from nltk.corpus import stopwords\n",
        "import re\n",
        "from nltk.stem.porter import PorterStemmer\n",
        "import nltk\n",
        "nltk.download('stopwords')"
      ]
    },
    {
      "cell_type": "code",
      "execution_count": 29,
      "metadata": {
        "id": "CJrq8LN2BbJU"
      },
      "outputs": [],
      "source": [
        "cor=[]\n",
        "ps=PorterStemmer()"
      ]
    },
    {
      "cell_type": "code",
      "execution_count": 30,
      "metadata": {
        "id": "59MLeM72BbJU"
      },
      "outputs": [],
      "source": [
        "for i in range(0,len(messages)):\n",
        "    review=re.sub('[^a-zA-Z]',' ',messages['title'][i])\n",
        "    review=messages['title'][i]\n",
        "    review=review.lower()\n",
        "    review=review.split()\n",
        "    \n",
        "    \n",
        "    review=[ps.stem(word) for word in review if not word in stopwords.words('english')]\n",
        "    review=' '.join(review)\n",
        "    cor.append(review)"
      ]
    },
    {
      "cell_type": "code",
      "execution_count": 31,
      "metadata": {
        "id": "eaLHL8xeBbJU",
        "outputId": "9c084b91-4bf9-4253-aeff-80ec0b45ad38",
        "colab": {
          "base_uri": "https://localhost:8080/",
          "height": 36
        }
      },
      "outputs": [
        {
          "output_type": "execute_result",
          "data": {
            "text/plain": [
              "'russia resum particip ukrain grain export deal; ukraine\\x92 energi infrastructur \\x91serious damaged\\x92'"
            ],
            "application/vnd.google.colaboratory.intrinsic+json": {
              "type": "string"
            }
          },
          "metadata": {},
          "execution_count": 31
        }
      ],
      "source": [
        "cor[3]"
      ]
    },
    {
      "cell_type": "code",
      "execution_count": 32,
      "metadata": {
        "id": "SK9ViGt_BbJV",
        "outputId": "8457bcd1-158f-4592-c285-340beb6dcae6",
        "colab": {
          "base_uri": "https://localhost:8080/"
        }
      },
      "outputs": [
        {
          "output_type": "execute_result",
          "data": {
            "text/plain": [
              "['ancelotti: timna spanyol haru bawa ramo ke piala dunia',\n",
              " \"monkeypox 'veri contagious' four day symptom appear, new research shown.\",\n",
              " 'virtual real : meta quest pro review: i\\x92v secretli test mark zuckerberg\\x92 vr headset i\\x92m blown away',\n",
              " 'russia resum particip ukrain grain export deal; ukraine\\x92 energi infrastructur \\x91serious damaged\\x92',\n",
              " 'nikola cut product guidance, send stock despit strong earn report',\n",
              " 'zelenskyy hail un nuclear investig result; uk say russia like shoot retreat soldier',\n",
              " 'chelsea\\x92 rivalri arsen suddenli look differ',\n",
              " 'tv analog dimatikan, hari tano sebut mnc group terpaksa',\n",
              " \"halalan thayyiban dalam al-qur'an, seperti apa maknanya?\",\n",
              " 'presid fight everi vote pennsylvania, state could swing midterm',\n",
              " 'ukrain war: kyiv mayor klitschko warn evacu power lost',\n",
              " \"shyam saran negi: man dub 'india' first voter' die age 105\",\n",
              " 'sudhir suri: radic hindu leader shot dead amritsar',\n",
              " 'india vaccin maker destroy 100 million dose expir covid jab',\n",
              " \"north korea: kim jong-un want america' attent\",\n",
              " 'dead cell updat add terraria, hotlin miami, slay spire,',\n",
              " 'fortnit map sync creativ easi battl royal custom build',\n",
              " 'game berbahasa indonesia di steam sudah bisa dicari dengan mudah',\n",
              " 'god war ragnarok ps4 bakal bersuara kera seperti \\x91mesin jet\\x92',\n",
              " 'textil industri face layoff storm amid ail export',\n",
              " 'jokowi\\x92 nod ministers\\x92 elect bid might spell second-term curs',\n",
              " \"twitter suspend kathi griffin' account imperson elon musk\",\n",
              " 'facebook parent meta plan massiv layoff week: report',\n",
              " \"lil wayn declar packers' season over, say team trade aaron rodger\",\n",
              " 'sinopsi mangkujiwo 2, kisah kelam sekt pesugihan',\n",
              " 'indomi ajak kolaborasi 17 brand lokal, salah satunya warmindo',\n",
              " 'arak bali dan sate lilit jadi warisan budaya takbenda indonesia',\n",
              " 'mcdonald\\x92 jepang rili tiga varian burger nasi',\n",
              " 'burger king jepang buka gerai bertema spi x famili',\n",
              " \"mcdonald' jepang ganti alat makan plastik dengan kerta dan kayu\",\n",
              " 'baha tampilan bmw 220i coup sport, lebih kalem tapi sporti',\n",
              " 'unbelievable! obama attorney gener say charlott rioter peac protest ¦in home state north carolina [video]',\n",
              " 'bobbi jindal, rais hindu, use stori christian convers woo evangel potenti 2016 bid',\n",
              " 'satan 2: russia unv imag terrifi new \\x98supernuk \\x93 western world take notic',\n",
              " 'time! christian group sue amazon splc design hate group',\n",
              " 'dr ben carson target irs: never audit spoke nation prayer breakfast.',\n",
              " 'sport bar owner ban nfl game ¦will show \\x98true american sports: \\x98i like speak rural america [video]',\n",
              " 'latest pipelin leak underscor danger dakota access pipelin',\n",
              " 'gop senat smack punchabl alt-right nazi internet',\n",
              " 'may brexit offer would hurt, cost eu citizen - eu parliament',\n",
              " 'schumer call trump appoint offici overse puerto rico relief',\n",
              " 'watch: hilari ad call question health age clinton crime famili boss',\n",
              " 'chang expect espn polit agenda despit huge subscrib declin - breitbart',\n",
              " 'billionair odebrecht brazil scandal releas hous arrest',\n",
              " 'british woman lose virgin asylum seek rapist way church',\n",
              " 'u.n. seek humanitarian paus sanaa street \"battlegrounds\"',\n",
              " 'major liber rag reluctantli publish articl presid trump outstand accomplish ¦it explain success everyon laugh',\n",
              " \"second judg say clinton email setup may 'bad faith'\",\n",
              " 'america give grand piano hors',\n",
              " 'hillari crime family: end day u.s.a',\n",
              " 'sean spicer baffl reporters, claim trump respons hire flynn (video)',\n",
              " 'unholi alliance: hillari clinton saudi sponsor support terrorism, islamist extrem',\n",
              " 'even trump best friend joe scarborough handl \\x98disqualifi kkk support (video)',\n",
              " 'boom! danish govern consid seiz migrant valuabl pay benefit',\n",
              " 'suprem court hear appeal texa voter id case - new york time',\n",
              " 'islam state driven last stronghold northern iraq',\n",
              " 'senat propos give state option keep afford care act - new york time',\n",
              " 'belong extraterrestri lineage?',\n",
              " \"zimbabwe' mugab appear public first time sinc coup\",\n",
              " 'credit suiss boss face revolt banker strategi shift - new york time',\n",
              " 'rob innocence: 12 yr old student given cdc survey transgender, gay oral sex',\n",
              " 'schaeubl head german parliament, unblock coalit talk',\n",
              " 'u.s.-china summit, trump press xi trade, north korea; progress cite',\n",
              " 'clinton extend lead trump 7 points: reuters/ipso',\n",
              " 'joe biden shock announcement: hell, man? [video]',\n",
              " 'embolden nra threaten new york times: \\x98we come (video)',\n",
              " 'noam chomski goe donald trump: \\x98he clown! (video)',\n",
              " '5 way media respond butthurt donald trump victori',\n",
              " 'iran, russia turkey agre enforc syria cease-fire, explain - new york time',\n",
              " 'breaking: obama pois exact reveng putin unpreced cyber attack allegedli expos hillari email ¦while campaign hillari',\n",
              " \"trump say brexit 'a great thing', want quick trade deal uk\",\n",
              " 'sekulow: expect \\x98whine testimoni comey \\x98he need \\x98grow act like adult',\n",
              " 'mayday carolina queen - new york time',\n",
              " 'illinoi hous pass $5 billion tax package, spend plan',\n",
              " 'at&t, time warner death privaci',\n",
              " 'architect built career resuscit new york landmark - new york time',\n",
              " 'american dream, revisit',\n",
              " 'fear iranian gener left iraqi kurdish oil field desert',\n",
              " 'once-toler mosul, social unravel feel perman - new york time',\n",
              " 'u.s. patent review board becom conserv target',\n",
              " 'trump interview four fed chair job, decid two-thre week',\n",
              " 'delingpole: top physicist lead republican urg trump quit pari climat agreement',\n",
              " 'internationally-back libyan forc attack daesh posit sirt',\n",
              " 'obamacare: wheel slowli fall social healthcar train ¦billion wast',\n",
              " 'msnbc, dnc reach deal host democrat debat new hampshir',\n",
              " 'georgetown professor instruct student resist trump presid - breitbart',\n",
              " 'u.s. hous approv bill financi regul cost',\n",
              " 'ron paul: \\x98i support trump gop pick \\x98neocon love hillari',\n",
              " 'progress de blasio visit iowa: deni run presid ¦so want visit iowa?',\n",
              " 'elijah cum made sure gop well awar hypocrit a**hol regard flint',\n",
              " 'fbi director comey octob surpris derail hillari white hous bid?',\n",
              " 'man seem think help world war two',\n",
              " 'gop lawmak trump: stop act like \\x98fragil snowflak town hall protest',\n",
              " 'trump extol corpor profit seek corpor tax cut',\n",
              " 'michael moor owe $4.99',\n",
              " 'philippin ferri capsiz 251 board, four dead',\n",
              " 'hillari dnc speech: go follow money [video] ¦ georg soro make stun $25 million donat hillari dem',\n",
              " 'donald trump, indonesia, aleppo: wednesday even brief - new york time',\n",
              " \"death toll blast somalia' capit mogadishu top 200\",\n",
              " 'donald trump return bash fake media',\n",
              " 'idiot destroy trump hollywood star get exactli deserv',\n",
              " 'great flood 8 king rule earth 241,200 year',\n",
              " 'three arrest start massiv fire atlanta interst bridg',\n",
              " 'collapsing: \\x98russia hack witch hunt end well congress, america',\n",
              " 'white hous voic concern senat sept. 11 lawsuit bill',\n",
              " '\\x98arab spring washington-brussels-riyadh axi',\n",
              " \"women knit pink 'pussyhats' ralli trump inaugur\",\n",
              " 'unsilenced: whistleblow expos un cultur corrupt',\n",
              " 'cnn advertis job list full time fake news report',\n",
              " 'snapchat discov take hard line mislead explicit imag - new york time',\n",
              " 'face : obama launch new #refugeeswelcom twitter campaign twitter',\n",
              " 'u.s. alli show support strike syria',\n",
              " 'homophob lose damn mind request \\x98give elsa girlfriend hit twitter',\n",
              " \"obama troll trump 'mean tweet' late night tv\",\n",
              " 'anoth clinton casualty? sister woman allegedli photo prove affair bill clinton, question involv mysteri hous fire death',\n",
              " \"challeng trump' immigr order spread u.s. state\",\n",
              " 'labour leader uk lawmak could lose seat cost cut plan',\n",
              " 'corner everglades, way life ebb - new york time',\n",
              " \"trump adviser: tpp 'dead,' move quickli bilater trade deal\",\n",
              " 'trevor noah compar texan excit open carri law gay pride parad celebr (video)',\n",
              " 'lol! democrat poster child stupid tell msnbc host parti stand besid hate trump [video]',\n",
              " 'trump threaten comey via twitter autocrat move yet',\n",
              " 'lithuania get minor govern junior partner leav',\n",
              " 'boiler room ep #124 \\x93 weather warfar & cnn goblin pit',\n",
              " 'colleg republican presid attack antifa : like pack wolv',\n",
              " 'beyonc doubl ¦debut #lemonade, anoth race baiting, cop-hating, pro-obama song ¦with sweet michael brown mama serena william',\n",
              " 'one person shot portland anti-trump protest cross bridge: polic',\n",
              " 'help immigrants, chobani founder draw threat - new york time',\n",
              " 'lol! costco put hillari milk aisl book sign ¦custom shout hillari prison! ¦ask membership refund [video]',\n",
              " 'watch judg order punk wear polic lie t-shirt leav courtroom ¦or face contempt charg',\n",
              " 'world see diminish america',\n",
              " 'conserv messag dreamer scream president! hilarious!',\n",
              " 'comment facebook daughter day hoax sign time para kazanmak',\n",
              " 'hate angri obama tri bash trump front canadian parliament ¦real classi bo!',\n",
              " 'dod team survey us militari site potenti gitmo transfers, lawmak vow fight',\n",
              " 'way door, harri reid give big \\x98f*ck republican hand nevada hillari',\n",
              " 'bombshell: justic clarenc thoma accus sexual misconduct (video)',\n",
              " 'german polic kill assail ax attack aboard train - new york time',\n",
              " 'austria spearhead balkan frontier defenc project',\n",
              " 'cnn: one voter make differ vote repeatedli',\n",
              " 'comment 7 effect way balanc hormon natur eat way balanc hormones! - neilmd.com',\n",
              " 'nativ american tribe offer cash school stop use indian mascot ¦while 1 3 nativ american live poverti',\n",
              " 'poll show exactli much american detest trump',\n",
              " 'unhing nba coach: \\x98white peopl especi need made \\x98uncomfort [video]',\n",
              " \"new york citi budget boss state: we'r 'piggi bank'\",\n",
              " 'long vote line could long-term consequ - new york time',\n",
              " 'trump advisor tri pivot fishtail',\n",
              " 'hillari land prison, oval offic',\n",
              " \"zimbabwe' mugab resigns, end four decad rule\",\n",
              " 'nuclear option-th speech: trump render sullen democrat irrelev - breitbart',\n",
              " 'donald trump tax record show could avoid tax nearli two decades, time found - new york time',\n",
              " 'factbox: trump twitter (juli 25) - jeff sessions, obamacare, trade deal',\n",
              " 'five state depart rule hillari violat [video]',\n",
              " 'dalla ralli video: trump let rip lame stream media karl rove',\n",
              " 'california consid tighter lobbi rule 2016 elect near',\n",
              " '5-star mooch, taxpay fund mom meryl streep travel africa discuss gender inequ',\n",
              " 'homeschool educ altern rise',\n",
              " 'mexico presidenti race roil leftist front-runn embrac right wing parti',\n",
              " 'atlant vp: democrat news via internet left peopl overwhelm inform - breitbart',\n",
              " 'kentucki counti appeal feder rule strike right-to-work law',\n",
              " 'breaking: courag feder judg deni obama request lift stay execut amnesti',\n",
              " 'wikileak show georg soro control vote 16 state use smartmat vote machin',\n",
              " 'macron call french food chain chang help farmer',\n",
              " 'woodward clinton foundat corrupt',\n",
              " 'sharia law grant muslim man permiss marri 8 year old [video]',\n",
              " 'watch: fox news host call presid obama weak declar war isi',\n",
              " 'poll find voter parti unhappi candid - new york time',\n",
              " 'fox host goe \\x98soulless hillari clinton, chelsea respons priceless (tweet)',\n",
              " 'germani may need constitut chang allow strike back hacker',\n",
              " 'understand clinton moment, consid came 32 year ferraro - new york time',\n",
              " 'bolton threat trump middl east polici',\n",
              " 'life migrant center germany: rt talk volunteers, refuge hope & fear',\n",
              " '5 key takeaway presid trump speech - new york time',\n",
              " 'clinton beat trump 9 point pennsylvania \\x93 matter',\n",
              " 'guatemalan man die fall wast grinder meat plant ¦former worker claim hire 90% illeg alien ¦includ 10-12 yr old kid',\n",
              " '\\x98brexit, divorc first, trade talk later, e.u. tell u.k. - new york time',\n",
              " 'ingraham: trump-iest part obamacar reform miss new health care bill - breitbart',\n",
              " 'barack obama final arms-export total doubl bush administr',\n",
              " 'gloriou new pc nfl start next monday!',\n",
              " 'indian court acquit dentist coupl kill daughter',\n",
              " 'former cia agent say obama work muslim brotherhood: remov american power influence, includ militari forces, islam lands.',\n",
              " 'obama obliter gop threat kill suprem court hillari win',\n",
              " 'pennsylvania republican push ban privat gun sale - breitbart',\n",
              " 'free care \\x98bless victim orlando nightclub attack - new york time',\n",
              " 'boiler room ep #113 \\x93 \\x98cnn isi',\n",
              " 'factbox: trump twitter (decemb 7) - pearl harbor remembr day',\n",
              " 'trump unyield hispan judg uproar',\n",
              " 'chelsea handler hilari proposit donald trump \\x98larg hand (tweet)',\n",
              " 'tuesday even briefing: donald trump, golden state warriors, hillari clinton - new york time',\n",
              " \"exclusive: trump say 'major, major' conflict north korea possible, seek diplomaci\",\n",
              " 'elect whistleblower: doj cahoot dem ¦4 million dead voter roll ¦trump right! [video]',\n",
              " 'updat 9/11 memori ban trigger colleg snowflak',\n",
              " \"trump step attack 'bimbo' tweet fox news debat\",\n",
              " 'expert claim n. korea second missil test demonstr abil hit 3 major citi u.s. mainland',\n",
              " 'exclusive: cambodia say opposit parti could bar elect',\n",
              " 'johnson amendment, trump vow \\x98destroy, explain - new york time',\n",
              " 'daili show hasan minaj break charact admit scare famili (video)',\n",
              " 'lionel shriver address cultur appropri roil writer festiv - new york time',\n",
              " 'republican insid take aim trump, call penc drop',\n",
              " 'trump u.s. antitrust nomine say independ white hous',\n",
              " 'watch: thing get ugli canada self-proclaim feminist prime minist elbow woman conserv parti hous common floor',\n",
              " 'boati mcboatfac ii? p&o brave ask public name new ferri',\n",
              " 'lol! liber ohio activist goe jail 13 count feloni voter fraud ¦one year fals accus elect board voter fraud [video]',\n",
              " 'donald trump alma mater told go f*ck',\n",
              " 'nanobot caus overwhelm depression. far end now...',\n",
              " 'messag left immigration: disagre america first ¦who root for?',\n",
              " \"hillari clinton: suprem court abort rule 'a victori women'\",\n",
              " 'theresa may: nation threat level remain sever - terrorist attack highli like - breitbart',\n",
              " 'amerika: \\x98toler univers educ exil trump voter american campus',\n",
              " \"trump' daughter ivanka join call argentina' macri\",\n",
              " 'trump son forg ahead without father, expand navig conflict - new york time',\n",
              " 'saudi arabia face battl repatri asset corrupt crackdown',\n",
              " 'place put hand togeth - new york time',\n",
              " 'unit resum newark-delhi flight halt due poor air qualiti',\n",
              " 'galleri hope sell kany west \\x98famou sculptur $4 million - new york time',\n",
              " 'rudi giuliani slam hillari refus endors one group ¦thi make sick!',\n",
              " 'mistrial 2 ex-offic albuquerqu kill mental ill man - new york time',\n",
              " 'twitter destroy trump ironi scream \\x98c mark hillari email',\n",
              " 'russia warn close retali new u.s. sanction bill: ifax',\n",
              " '\\x98liber media scrub clip chuck todd say someth mean ted cruz (video)',\n",
              " 'one hilari tweet perfectli sum irrelev cnn becom',\n",
              " '100 dead philippin mudslides, flooding: offici',\n",
              " 'court order nigeria pay $288 million 1967 war victim',\n",
              " 'chri paul fast hand gruesom finger - new york time',\n",
              " 'japan discuss broad econ framework u.s., bilater fta: aso',\n",
              " '10 way america prepar world war 3',\n",
              " 'famili arm robberi suspect outrag pizza hut employe shot & kill son',\n",
              " 'anti-trump radic taunt trump support isi flag photo behead video',\n",
              " 'wow! atlanta gym owner ban cop ¦make \\x98no apolog polici sign (video)',\n",
              " 'turkish presid return istanbul sign militari coup falter - new york time',\n",
              " 'comment sjw outrag leonardo dicaprio \"white rumi\" role unfounded, iranian explain ztech',\n",
              " '(video) hillari clinton twist approv sanctuari citi illeg alien',\n",
              " 'breaking: florida elect employe caught fake 1,000 stolen absente ballot massiv voter fraud scheme - usapoliticsnow',\n",
              " 'billionair donald trump presidenti campaign flat broke',\n",
              " 'trump say strong europ import u.',\n",
              " 'report: peopl leav new york metro area u.s. - breitbart',\n",
              " 'obama rob fanni & freddi billions? dr. ben carson shock discoveri hud could clue! [video]',\n",
              " 'attorney gener session defend repli russia contact',\n",
              " 'syrian war report \\x93 octob 28, 2016: milit make do-or-di attempt break aleppo sieg',\n",
              " \"clinton' pantsuit inspir flashmob video\",\n",
              " 'tom ford move back us: trump made feel nationalist - breitbart',\n",
              " 'u.s. militari must accept transgend recruit jan. 1, judg rule',\n",
              " 'trump roger stone order court voter intimid tactic',\n",
              " 'putin say trump hamper deliv elector promis',\n",
              " 'trump hold seri meet assembl new administr',\n",
              " 'tv viewership fall n.f.l. premier league: blip, someth worse? - new york time',\n",
              " '3 remedi mediev europ heal common cold',\n",
              " 'california governor sign epinephrin bill, blast mylan',\n",
              " 'break news clinton inform gag order hillari shake pantsuit',\n",
              " 'trump flip-flop: complain obama deport mani peopl',\n",
              " 'russia claim may kill isi leader al-baghdadi',\n",
              " 'black femal math whiz space race - new york time',\n",
              " 'presid trump issu warn john mccain senat \\x98tough speech',\n",
              " 'appeal court judg explain donald trump immigr order legal - breitbart',\n",
              " 'trump endors romney niec ronna romney mcdaniel rnc chair',\n",
              " 'hey simpleton ¦we got great news! left go help identifi fake news [video]',\n",
              " \"istanbul' ataturk airport reopen jet crash, turkish airlin ceo say\",\n",
              " 'hous take action block obama releas everi last guantanamo terrorist leav white hous',\n",
              " 'anthoni weiner huma abedin separ latest sext scandal - new york time',\n",
              " 'hilarious! watch happen campu cop tri kick student trump campu build trump wall [video]',\n",
              " 'watch sarah palin trump endors speech (video)',\n",
              " 'break news: trump admin announc massiv tax cut busi massiv tax reform [video]',\n",
              " 're: nasty! like democrats, salli kohn prove littl think women tweet',\n",
              " 'love first leak! former baywatch star pamela anderson becom regular visitor wikileak founder julian assange: think quit sexi',\n",
              " 'donald trump win presid histor victori',\n",
              " 'north carolina hillari support brag facebook vote multipl time',\n",
              " 'world war 3 come',\n",
              " 'putin tell obama western media: either stop talk final show kind proof',\n",
              " 'watch: lewi black hilari burn trump mock inaugur daili show',\n",
              " 'promin russian journalist leav countri threat',\n",
              " 'video show whale swim may chang everyth know bp oil spill (video)',\n",
              " 'u.s.-l coalit say islam state syria convoy split two',\n",
              " 'iraq vote ban american respons trump immigr order - breitbart',\n",
              " 'texa teen fatal shoot 5 day nra-recommend gun safeti cours (video)',\n",
              " 'hillari go prison, oval offic [video]',\n",
              " 'comment defici magnesium, mani sign & sunshine: season sad magnesium | activ health',\n",
              " 'former prime minist elect presid struggl somalia - new york time',\n",
              " 'terribl week trump stick style substanc wisconsin',\n",
              " 'liber past: idiot',\n",
              " 'benefit paleo diet',\n",
              " 'calai \"jungle\" burns, refuge tri storm way back',\n",
              " 'obama immigr plan seem divid suprem court - new york time',\n",
              " 'jerri springer: bannon want america basic christian white - breitbart',\n",
              " 'watch: trump bi-racial, former girlfriend two year ¦ would never date racist',\n",
              " 'u.s. suprem court decid major case obama immigr plan',\n",
              " 'watch: chuck todd blister rnc chair trump tax return refus (video)',\n",
              " 'gao examin panel foreign invest u.s. strateg firm',\n",
              " 'angri inspired: democrat train new wave candid',\n",
              " 'mrs. weiner',\n",
              " \"india call rohingya refuge 'threat nation security'\",\n",
              " 'pope franci warn nation take refuge assimil',\n",
              " 'u.s. senat move jeff session toward confirm attorney gener',\n",
              " '$1 million donat wound warrior project sale american sniper dvd',\n",
              " 'former u.s. attorney: clear intel conspir frame trump (video)',\n",
              " 'turkey say gulen network behind u.s. case turkish trader',\n",
              " 'breaking: clinton chairman sister-in-law lobbi clinton state depart ¦earn six figur incom',\n",
              " \"iceland pm call snap elect coalit parti quit 'breach trust'\",\n",
              " \"battl bathroom loom larg north carolina governor' race\",\n",
              " 'must read: obama treason goe overdr',\n",
              " 'pro-clinton group launch devast nuclear war ad trump',\n",
              " 'saudi king say kingdom made progress tackl terror',\n",
              " 'trump take corpor tax rate could look much like obama - new york time',\n",
              " 'dispatch wolf countri \\x93sit cave, watch spider spin',\n",
              " 'turkey detain lawyer hunger-strik teacher ahead trial',\n",
              " 'taiwan presid visit u.s. territori guam despit chines ire',\n",
              " 'xi call concert effort resolv korean peninsula issue: xinhua',\n",
              " 'hillari pander black vote: bust awkard, fake laugh griev mom bring cheat bill [video]',\n",
              " 'list 65 mainstream media journalist never trust: wikileak bust media hack work hillari top advisor',\n",
              " 'rememb pam offic ? real-lif actress, jenna fischer, got call twitter use bad inform bash trump tax bill',\n",
              " 'maria sharapova suspend tenni two year - new york time',\n",
              " 'pinera win first round chile election, face runoff',\n",
              " 'california governor sign legisl limit assault weapon - new york time',\n",
              " 'campaign over, presid trump hold (what else?) campaign ralli - new york time',\n",
              " 'un slam aleppo rebel amid accus poison ga attack',\n",
              " 'music video: russian die, never surrend',\n",
              " 'build wall! hous vote fund trump wall partisan vote',\n",
              " 'artist peter doig win case involv paint attribut - new york time',\n",
              " 'hawaii renew bid narrow trump travel ban',\n",
              " 'protest target trump build massiv street ralli',\n",
              " 'trump pull romney first debate? say mention bill infidel unless hillari ¦ [video]',\n",
              " 'hurrican irma like drop categori 4 upon landfal florida: nhc',\n",
              " 'latino loath trump drive voter movement swing election?',\n",
              " 'white hous say congress reason wait nov elect take tpp',\n",
              " 'u.n. envoy urg secur council visit myanmar, bangladesh',\n",
              " 'trump nomin hassett chair council econom advis',\n",
              " 'obama list regret -- again: failur secur gun control still #1',\n",
              " 'sen. tim scott: run small busi make author abort (video)',\n",
              " 'trump execut order ethic commit ban lobbi execut branch employe',\n",
              " 'secur cellphon ??',\n",
              " 'pope urg trump show concern poor, guid ethic valu',\n",
              " 'sugar feed cancer cell may even creat',\n",
              " 'public bullish toward stock see one highest 2-week jump histori',\n",
              " 'state depart enough emails, records: spokesman',\n",
              " 'texa colleg student outraged: tradit 9/11 memori flag display move ¦could offend student',\n",
              " 'ny times: sanctuari citi enough',\n",
              " 'judg napolitano reckless hillari emails: could respons death cia fbi agent [video]',\n",
              " 'episod #208 \\x93 \\x98not network \\x93 sunday wire hesher, funk$oul patrick henningsen live iraq',\n",
              " 'busted! damag clinton foundat email yet: friend bill',\n",
              " 'tom hayden: thing come around mideast',\n",
              " 'watch: trump declar one best presid histori histor low approv rate',\n",
              " \"factbox: five fact mike pence, trump' run mate pick\",\n",
              " 'unit states, anxieti up, crime',\n",
              " \"holland trump agre 'clarify' key issu includ middl east: sourc\",\n",
              " 'watch: chomski explain gop \\x98most danger organ human histori',\n",
              " 'trump son-in-law obliter jewish famili defend trump anti-semit tweet',\n",
              " \"can't intersect time elitist exclusionari\",\n",
              " 'america take 37,027 refuge 5 months: take refuge place list?',\n",
              " 'kurdish leader barzani condemn iraqi parliament vote remov kirkuk governor: kurdish media',\n",
              " 'milo pamela geller protest sharia-advoc linda sarsour nyc - breitbart',\n",
              " 'trump target immigrants, u.s. farm sector look autom',\n",
              " '28 altern use life save mylar emerg blanket',\n",
              " 'chri matthew confus georgia elect loss: know h*ll sell [video]',\n",
              " 'futur belong ai whoever master first rule world',\n",
              " \"cnn talker famou say 'pu***' air lash newt say megyn' 'obsess sex'\",\n",
              " \"murdoch' uk paper arm admit comput hacking, fuell critic sky takeov\",\n",
              " 'boom! judg jeanin pirro: new deep divis creat obama [video]',\n",
              " 'german industri see fdp reviv boost digit transit',\n",
              " 'sweden: migrant cri racism woman hijab ask show train ticket attack passeng knife',\n",
              " 'american food kill us? author brandon turbevil talk food middl east',\n",
              " 'gay sharia march brand islamophob , picket lgbt activist',\n",
              " 'china see new ambigu donald trump taiwan call - new york time',\n",
              " 'wow! sterl hts, mi citi council cave mega-mosqu project middl christian neighborhood ¦council member caught video admit mosqu part religi war',\n",
              " 'go wikileaks?',\n",
              " 'whoa! feminist hack lawyer gloria allr refus say high school yearbook use evid roy moor forgeri',\n",
              " 'learn speak dead - new york time',\n",
              " 'ecuador vote latin america left sags, gener icon gone - new york time',\n",
              " 'gavel battle: boehner resign spark hous leadership scrambl',\n",
              " 'obama race set gitmo terrorist free ¦leav servicemen punish make heat-of-the-battl decis save live fort leavenworth',\n",
              " 'new poll ask trump voter vote ¦liber head explod see result',\n",
              " 'petit stop georg soro vote machin hit 100k',\n",
              " 'stephen colbert explain horrifi futur gop primari race (video)',\n",
              " 'watch racist dingbat tx rep sheila jackson-le blame leak email [video]',\n",
              " 'richest man world put trump place donat chariti',\n",
              " 'abc news: hillari swore oath accept $$$ foreign donor [video]',\n",
              " 'hariri say clarifi posit lebanes crisi return beirut',\n",
              " \"suppress free press 'how dictat get started': senat mccain\",\n",
              " 'ted cruz bust elon musk fli privat jet lectur trump global warm - breitbart',\n",
              " \"black femal rapper endors trump: black folk vote democrat last 70 year shit show ¦hillari treat us like \\x98pets'\",\n",
              " 'bannon allies: breitbart return imminent, gear war trump \\x98democrat white hous',\n",
              " 'republican senat arrest attack landscap shovel, \\x98other lawn equip (video)',\n",
              " \"credit trump' success, bannon quickli fell grace\",\n",
              " 'twelv trump transit team announc today ¦it family!',\n",
              " 'trump judici nomine withdraw consider',\n",
              " 'eu say need concret evid turkey deem gulen network terrorist',\n",
              " 'see sarah palin compar donald trump \\x93 make queasi (image)',\n",
              " 'berni sander releas scath statement rick snyder flint water crisi',\n",
              " 'leader struggl unit hous republican behind health bill - new york time',\n",
              " 'dakota access caught infiltr protest incit violence, fund troll onlin',\n",
              " '5 show see new york hour - new york time',\n",
              " 'watch: van jone say exactli need said tonight elect result video',\n",
              " 'pa restaur forc close ice sweep nab illeg worker ¦attorney illeg unbeliev respons',\n",
              " 'despair introspect u.s. coast trump win',\n",
              " 'trump say readi act alon north korea',\n",
              " 'u2 suddenli cancel huge st. loui concert tonight ¦whi bono decis cut run make look like ridicul hypocrit',\n",
              " 'hillari clinton real record lgbt right',\n",
              " 'watch joe scarborough frantic backtrack donald trump out support (video)',\n",
              " 'comment world heav sigh relief trump victori debbi menon',\n",
              " 'ice bust 39 ms-13 member new york oper',\n",
              " 'watch: donald trump throw hissi fit morn joe get hilari buri',\n",
              " 'trump voter fraud \\x98expert disprov voter fraud argument iron way possibl',\n",
              " 'trump urg senat republican move ahead healthcar reform',\n",
              " 'two defend champions, two outlooks, wimbledon - new york time',\n",
              " 'suprem court throw rule obamacar contracept mandat',\n",
              " 'appraisal: leonard cohen, master mean incantatori vers - new york time',\n",
              " 'yet anoth school bomb syria: 22 children 6 teacher kill',\n",
              " \"uk' johnson iran talk lobbi jail aid worker\",\n",
              " 'cnn lemon tri downplay horrif \\x98anti-trump tortur mental disabl man',\n",
              " 'watch lab mp claim govern hurtl toward chaotic breakfast',\n",
              " 'watch karma action: cnn get hit tear ga defend violent alt-left protest az trump ralli',\n",
              " 'sri lanka court jail top former senior offici graft',\n",
              " 'tim allen last man stand reviv passion conserv express outrag abc decis cancel show?',\n",
              " \"schiff: nune decis leav probe russia offer 'fresh start'\",\n",
              " 'u.s. blacklist 10 venezuelan corruption, undermin state vote',\n",
              " 'hillaryous! huckabe compar clinton famou mobsters.',\n",
              " 'trump trade offic take aggress view wto rules: document',\n",
              " 'clear heart blockag power lemon garlic mixtur',\n",
              " \"kuwait' ruler accept cabinet resignation: state news agenc\",\n",
              " \"zimbabwe' mugab sack vp seen top success candid\",\n",
              " 'tobi keith awesom respons crybabi attack trump inaugur perform [video]',\n",
              " 'franc rais prospect new sanction iran ballist program',\n",
              " 'veteran newsman ted koppel scorch reilly: spent 20 year make news dumber (video)',\n",
              " 'donald trump diet ¦lifelong liber tell leftist friend caus lose 7 pound defend donald trump [video]',\n",
              " '\\x98famili valu republican introduc bill would make sex lobbyist \\x98gift',\n",
              " 'brace yourself! happen 2 week bad & elit drop paramount elect secret',\n",
              " 'report: ivanka trump took kellyann conway woodsh peddl product line',\n",
              " 'kkk grand dragon endors hillari clinton ¦who racist now? [video]',\n",
              " 'baptist preacher: govern need kill \\x98sodomit (video)',\n",
              " 'us banana republic? - putin [valdai, part 1 1]',\n",
              " 'polit world trump win',\n",
              " 'trump suggest peopl sue abc news massiv stock market crash trigger #fakenew report michael flynn',\n",
              " 'heated! tucker carlson total shut radic liber fox news analyst run dnc chair [video]',\n",
              " \"god bless you', netanyahu tell guatemalan presid jerusalem embassi move\",\n",
              " \"us govern clinton female: come psychiatrist' couch\",\n",
              " \"kansai electr scrap two reactor latest blow japan' nuclear sector\",\n",
              " 'suburban g.o.p. voter sour party, rais republican fear 2018 - new york time',\n",
              " 'ex-cuomo aid charg feder corrupt inquiri - new york time',\n",
              " 'delay loretta lynch confirm bia',\n",
              " 'breaking: gun store owner claim report florida terrorist fbi week massacr',\n",
              " 'mooch chang tune, say report \\x98absolut record without permiss',\n",
              " 'new photo cast doubt china vow militar disput island - new york time',\n",
              " 'belgian prosecutor charg two foil attack high-spe train',\n",
              " 'fbi comey reveal disqualifi hillari clinton public office! [video]',\n",
              " 'state gari johnson jill stein spoil?',\n",
              " 'hot not? trump properti sell like hotcakes? [video]',\n",
              " 'read jewish zionist control unit states: interview franci boyle, jame petras, kim petersen',\n",
              " 'clinton move brink nomination, sander eye california upset',\n",
              " 'trump administr send conflict signal russia sanction',\n",
              " 'alt-left professor make outrag claim: flag-burn antifa \\x98preserv fabric america [video]',\n",
              " 'togo forc fire protesters, seven wound',\n",
              " 'man sentenc 12 year beat death transgend woman - new york time',\n",
              " 'fear gay russia',\n",
              " 'dnc head leak 2nd debat question hillari',\n",
              " 'john mccain granddaught shred donald trump, declar support hillari',\n",
              " 'comment obamacar architect gruber demand larger mandat penalti marlen',\n",
              " 'state fund progress indoctrination: colleg prof demand student adopt atheist belief leftist view ¦or fail',\n",
              " 'migrant strain border towns, pressur build mexico act - new york time',\n",
              " 'hillari abruptli stop rally, hide happen second later',\n",
              " 'bu plung river nepal, kill least 31',\n",
              " 'study: vitamin b mother diet reduc risk colon cancer offspr',\n",
              " 'u.n. freedom speech expert concern net neutral',\n",
              " \"turkey' erdogan call kill rohingya myanmar genocid\",\n",
              " \"loom nation secur law rais fresh fear hong kong' freedom\",\n",
              " 'austrian disgrace: jail muslim migrant dump babi middl road got drunk enrag',\n",
              " 'guilti hell paul manafort rick gate enter \\x98not guilti plea russian collus scandal (tweet/video)',\n",
              " '\\x98pharma bro face prison time offer pay peopl assault hillari clinton',\n",
              " 'scatter paedophil priest fine ash',\n",
              " \"trump say north korea' kim insult call 'old'\",\n",
              " 'arab state blacklist islamist groups, individu qatar boycott',\n",
              " 'in: flynn plead guilti lie fbi',\n",
              " 'evil know bounds: taliban execut 5 save children worker isi kidnap 120 schoolchildren train terrorist',\n",
              " 'best reason trump qualifi presidenti candid decad',\n",
              " \"brexit minist say agre eu negoti verhofstadt last week' deal\",\n",
              " 'popular theme park water ride malfunct ¦ end brutal death 4 patron',\n",
              " 'art deal: putin need one trump',\n",
              " 'must watch: islam school [video]',\n",
              " '500 nfl player plan tell trump f*** today best way possibl',\n",
              " \"reader enrag msm elect report - 'you misl readers, blind journalist bigotry'\",\n",
              " 'hilarious! liber stun republican guest play race-bait game msnbc host ¦cut interview [video]',\n",
              " 'wow! kellyann conway mistak forc leftist media expos realli happen bowl green ¦and truth iraqi refuge p.r. nightmar left [video]',\n",
              " 'name reveal top donor popular actress behind disgust leftist latino tv ad depict white man run minor kid truck',\n",
              " 'research accident find simpl way convert harm co2 ga green energi',\n",
              " 'breaking: melania trump immigr record made public, show trump ultim hypocrisi',\n",
              " 'papua new guinea court reject bid restor servic asylum-seek camp',\n",
              " 'u.s. attack kill nine civilians: syrian state news agenc',\n",
              " 'white hous defend fbi director comey integr',\n",
              " 'valentin day mean save travel - new york time',\n",
              " 'mass exodu democrat parti liber massachusett ¦trump effect?',\n",
              " 'state file lawsuit challeng trump decis dreamer',\n",
              " 'russia facebook ad target two states: senat intellig chair',\n",
              " 'merkel urg compromis coalit talk enter final stretch',\n",
              " 'gov. jerri brown endors hillari clinton ahead california primari - new york time',\n",
              " 'happened: person note young chicago cub fan',\n",
              " 'american public longer deal limitless corrupt govern',\n",
              " 'donald trump ridicul \\x98cowardli leaker jame comey',\n",
              " 'district columbia approv $15/hour minimum wage',\n",
              " 'eu eye self-reli trump victori',\n",
              " 'media show video trump tell matt lauer david duke bigot racist ¦ignor hillari tie former kkk leader, democrat senat robert byrd',\n",
              " 'u.s. navi carrier drill japanes navi amid north korean tension',\n",
              " \"may' brexit deal win peac home - least\",\n",
              " 'turkey urg iraqi kurd drop referendum, cite sanction',\n",
              " 'video : fbi sourc say indict like clinton \\x93 truthfe',\n",
              " 'trump order give deposit washington restaur suit',\n",
              " 'obama race war make way hometown chicago ¦where punk follow cop-hat lead',\n",
              " 'factbox: 6.1 million without power u.s. southeast irma: util',\n",
              " 'oops! absolut one show nyc debut beyonc cloth line ¦i radic super bowl perform blame?',\n",
              " 'russia warn iraq, kurd destabil middl east kurdish vote',\n",
              " 'jewish famili hanukkah destroy vandalism; trump support make wors (image)',\n",
              " 'take down! blm supporter, dem congressman hang cop-hating, race-bait art-work u.s. capitol build',\n",
              " \"may' conserv win vote bolster party' number committe\",\n",
              " \"trump administr outlin wind 'dreamer' program\",\n",
              " 'clinton lead trump 48-43 percent washington post-abc track poll',\n",
              " 'landfil economi',\n",
              " 'one biggest genius ever issu warn donald trump',\n",
              " 'graham 2020 tax law potu candid unconstitut',\n",
              " 'ap fake news',\n",
              " 'first, trump condemn rise anti-semitism, call \\x98horribl - new york time',\n",
              " 'lol! obama warn voter donald trump unvetted, unseri ¦ realiti show',\n",
              " \"brazil' largest ever corrupt probe near end, judg say\",\n",
              " 'cb report ask putin comey fire affect russia ¦hi answer priceless! [video]',\n",
              " 'ami adam eye deceiv - new york time',\n",
              " 'brazil judg suspend aspect j&f leniency, asset sale limbo',\n",
              " 'delingpole: reveal - real reason trump pull paris...',\n",
              " 'exclusive: russia fuel - north korean ship may undermin sanction',\n",
              " 'boycott backfires! ivanka trump cloth line report record sale',\n",
              " 'uk govern still undecid final brexit aims: hammond',\n",
              " 'comment actor jon voight plea save america aunti lulu',\n",
              " \"dem sue gop trump' 'rigged' complaint\",\n",
              " \"trump' march stir grow sens dread among u.s. republican\",\n",
              " \"outgo u.s. envoy say u.n. need 'push' iran arm embargo\",\n",
              " 'comment scientist find plant could treat diabet & kill cancer cell scientist find plant could treat diabet & kill cancer cell \\x93 collect evolut | sfo',\n",
              " \"zimbabwe' rule parti say never succumb armi threat\",\n",
              " 'media bust latest lie trump ¦here import [video]',\n",
              " 'russian offici apolog dope problem say athlet bar - new york time',\n",
              " 'kellogg cut 250 american workforc - breitbart',\n",
              " 'nanci need medic attention? watch nanci pelosi stumbl everyday word 3rd grader pronounc [video]',\n",
              " 'test tell indigo, crystal rainbow child!',\n",
              " 'fl pastor target neighbor nazi flag display boat law (image)',\n",
              " 'trump order syrian air strike dinner xi',\n",
              " 'trump hit back cowgirl congresswoman trash word said griev widow',\n",
              " \"uk' may need parliament back deal n.irish parti - campaign\",\n",
              " 'stockholm attack reject asylum seeker : british citizen among dead',\n",
              " 'actor mark ruffalo join activist nd protest dakota access pipelin',\n",
              " 'mexico express ire u.s. migrat policy, vow dialogu',\n",
              " 'zimbabw court grant bail u.s. citizen charg subvers',\n",
              " '2 remind ignor \"trump doomed\" poll',\n",
              " 'catalan choic delay, say former advis',\n",
              " 'turkish air strike kill 29 kurdish milit northern iraq: armi',\n",
              " 'busted: oh object abc news chief anchor, georg stephanopoul made huge donat clinton foundat',\n",
              " 'u.s. carri first strike islam state somalia',\n",
              " 'obama say chinese-l trade deal show need tpp: washington post',\n",
              " 'trump, clinton tension seep joke annual chariti dinner',\n",
              " \"u.s. school improv math educ - onion - america' finest news sourc\",\n",
              " 'nwo horror: dutert say want foreign troop phillipines!!!',\n",
              " 'debbi wasserman schultz: feder govern may ban passeng check gun baggag',\n",
              " 'comedian chri rock racist cool: beat white peopl anyth ¦nothing. knock em out. [video]',\n",
              " 'democrat fund-rais group congress candid confirm hack',\n",
              " 'strong job number hold risk clinton',\n",
              " 'offici close stand rock protest campsit - new york time',\n",
              " 'u.s. commando kill yemen trump first counterterror oper - new york time',\n",
              " 'turkey order arrest 110 peopl gulen links: media',\n",
              " 'wingsuit flyer vs. tree',\n",
              " 'former yemeni strongman saleh play last hand lost',\n",
              " 'breaking: close aid bill clinton: arrang $50 million payment bill clinton',\n",
              " 'on: dutert america',\n",
              " \"world' oldest person smoke 76 year\",\n",
              " 'kuwait arrest five video deem offens crown princ',\n",
              " 'ivanka trump tweet dead syrian children, twitter perfect respons (tweets)',\n",
              " 'kellyann conway shut abc news hack georg stephanopoulo tri convinc viewer trump legitim presid [video]',\n",
              " 'lawmak urg u.s. craft target sanction myanmar militari',\n",
              " 'syrian, iranian back forc advanc border area near israel',\n",
              " 'whoa! ebt card deni woman goe rampag store [video]',\n",
              " 'trump like face question travel ban meet ceo',\n",
              " 'hillari state depart block min wage hike haiti poorest citizen keep cost u.s. own factori',\n",
              " 'silent deadli - russia develop devast \\x98carrier killer torpedo - alexand vershinin',\n",
              " 'trump nomin retir gener matti pentagon',\n",
              " 'internet destroy imbecil want make rape legal, get meet-up cancel (tweets/video)',\n",
              " 'gop hate humili fact harri reid point scotu nomin',\n",
              " 'case trump worker contract rais conflict interest question',\n",
              " 'mom march demand end polic brutality, racial injustic',\n",
              " 'detail first putin-trump meet yet settled: kremlin',\n",
              " 'judg order search new clinton email releas septemb 13',\n",
              " 'rice aides, powel got classifi info person email account',\n",
              " 'obama scold senat republican suprem court threat',\n",
              " 'watch: singl woman vote trump see video',\n",
              " 'dog wait faith month owner left behind',\n",
              " 'respect! student brave pour rain take american flag',\n",
              " 'watch: trump threaten saturday night live today show appear',\n",
              " 'protest flood barcelona demand releas separatist leader',\n",
              " 'uk pm may say take alleg russian interfer serious',\n",
              " 'novemb 11: daili contrarian read',\n",
              " \"second prototyp china' c919 jet conduct test flight: state tv\",\n",
              " 'malaysia say decis yet new offer search miss mh370',\n",
              " 'trump say narrow potenti run mate pick five six: ap',\n",
              " 'u.s. border patrol chief morgan ask leav agenc',\n",
              " 'minnesota lieuten governor replac franken senat',\n",
              " 'swiss readi provid platform dialogu catalan row: swiss tv',\n",
              " 'watch: bill maher translat hitler speech show trump get crazi idea',\n",
              " 'obama unveil u.s. suprem court nomin soon: senat reid',\n",
              " 'obama cancel oil ga drill sacr blackfeet land',\n",
              " 'cloak order: realli behind \\x98new author cia drone strikes?',\n",
              " 'trump support disgustingli tell black peopl \\x98go back africa (video)',\n",
              " 'go home falluja, citi slip back turmoil - new york time',\n",
              " 'roll stone demand trump stop use music: imagin presid trump? ¦the worst nightmar',\n",
              " 'awesome! presid trump give fatherli advic \\x98the road life ucla basketbal player',\n",
              " 'trump white hous : inform',\n",
              " 'trump catch sick report snuck interview, priceless respons',\n",
              " 'trump: follow bush-obama foreign polici legaci',\n",
              " '\\x98peni seat caus doubl take mexico citi subway - new york time',\n",
              " 'illinoi get june 20 deadlin boost medicaid fund',\n",
              " 'major russian geopolit move go unnot wake us elect | vineyard saker',\n",
              " 'trump brexit respons disaster, hillari nail (video)',\n",
              " \"obama pass baton clinton, stir '3rd term' charg\",\n",
              " 'dead broke hillari buy million dollar mother/daught home chelsea ¦after bust give 5.7% clinton foundat money chariti',\n",
              " '(video) obama throw america bu ¦again',\n",
              " 'french elect nears, le pen target voter parti repel - new york time',\n",
              " 'south korea say delay militari drill aim ensur peac olymp',\n",
              " 'break dallas: dpd chief confirm 10 offic shot, 3 dead, two surgery, 3 critic condit ¦shot 2 sniper reportedli wear bodi armor dalla black live matter protest [videos] ¦shooter loos',\n",
              " 'catcal polit correct ¦',\n",
              " 'clinton, sander democrat debat draw 5.6 million viewers: cnn',\n",
              " 'monica lewinski wrote obituari roger ail brutal',\n",
              " 'gop candid least worst? bill maher drink bleach hilari decid (video)',\n",
              " 'berni sander open someth make conserv head explod',\n",
              " 'dealmak say trump presid would bad m&a',\n",
              " 'atlanta: pandemonium world largest airport goe dark ¦airport evacu ¦1,161 flight cancel [video]',\n",
              " 'need know new hampshir primari',\n",
              " 'trump urg congress pass short-term spend bill',\n",
              " 'republican debat draw 13.5 million viewer cbs: network',\n",
              " 'gerri adam step end era irish nation',\n",
              " 'think media racist, wait till meet grandfather, princ harri tell meghan markl',\n",
              " 'muslim refuge bust go back countri claim fled vacat [video]',\n",
              " 'iowa de moin regist endors clinton, rubio',\n",
              " 'muslim \\x98refuge lock wife bedroom, set hous fire, watch burn \\x93 media silenc',\n",
              " 'spacex: explos rock launchpad firm cape canaver facil florida',\n",
              " 'watch: conserv group brainlessli ran ad cheer trumpcar die',\n",
              " 'fitton: eric holder california-dc corrupt connect - breitbart',\n",
              " 'u.n. human right offic concern burundi youth militia rape song - breitbart',\n",
              " 'new batman comic featur batman save black man evil cop',\n",
              " 'wow! video captur angri st. loui protest turn media ¦tv report call unprovok attack: scariest moment career',\n",
              " 'donald trump long benefit trade practic scorn - new york time',\n",
              " 'trump vow tax plan boost economy; poll cite view wealthi',\n",
              " 'appl new macbook pro: fast light, everyon - new york time',\n",
              " 'kellyann conway call classless cnn anchor sexist move [video]',\n",
              " 'g.o.p. hurri slash oil ga rules, end industri 8-year wait - new york time',\n",
              " 'song bill de blasio sound sour note watchdog - new york time',\n",
              " 'uk say world stand togeth north korea missil launch',\n",
              " 'trump spi chief differ said call russia dossier',\n",
              " 'u.s. judg order unseal clinton email probe search warrant',\n",
              " 'trump say could make cabinet announc convention: fox news',\n",
              " 'new zealand held suspens kingmak weigh coalit option',\n",
              " 'word trench \\x93 octob 28, 2016',\n",
              " 'great indian novel reach american shore - new york time',\n",
              " 'watch: pentagon releas explos footag mother bomb drop afghanistan - breitbart',\n",
              " 'trump consid explos execut order unfair trade',\n",
              " \"trump prais chines effort north korea 'menace,' pyongyang warn strike\",\n",
              " 'u.s. court rule infring suit trader joe proceed pirat joe - new york time',\n",
              " 'democrat debacl \\x93 day',\n",
              " 'u.s. need 18 russian rocket engines: pentagon',\n",
              " 'austrian justic system give teen homemad nazi tattoo sentenc refuge convict anal rape 72 year old',\n",
              " 'christi accus paul, lee side \\x98crimin snowden nsa',\n",
              " 'week obama execut order catastroph space weather events, coron mass eject set hit elect day?',\n",
              " 'state depart miss deadlin manag email record electron',\n",
              " 'f.b.i. inquiri omar mateen, focu els could done - new york time',\n",
              " 'hollywood lib creat insan propaganda video obama: warn iran bomb us nuke congress block obama deal, like realli dark unpleas death toast',\n",
              " 'breakaway civilis',\n",
              " 'jenna bush hager michael keaton flub movi titl golden globe - new york time',\n",
              " 'nbc put viewer miseri ¦cancel disastr megyn kelli show',\n",
              " 'cuban dissid elector challeng castro era near end',\n",
              " 'senat intel panel seek testimoni trump jr.: senat sourc',\n",
              " 'white hous set palin straight \\x94 bad parent obama fault (video)',\n",
              " 'senior republican propos oversight foreign lobbi',\n",
              " 'obama invit david letterman, ferrel leftist celebr extravag nordic state dinner purpos send strong messag putin',\n",
              " 'peaceful, sincerely, grace: pari attack commemor float lantern',\n",
              " 'trump demand queen britain pick gold-plat carriage, organ parad visit',\n",
              " 'histori professor shut ted cruz lie suprem court histori fact',\n",
              " 'crack earth magnet shield detect',\n",
              " 'new york road runner extend dope test lower-ti race - new york time',\n",
              " 'big bank put rain forest peril - new york time',\n",
              " 'san juan mayor video disrespect constitut ¦but take money [video]',\n",
              " 'hillari final make statement sexual predat mega-democrat donor harvey weinstein ¦get destroy bill clinton rape accus',\n",
              " 'dark art polit intimid',\n",
              " 'kenya vote delay octob 28 four counties: commiss',\n",
              " 'project veritas: money beliz | opinion - conserv',\n",
              " 'white hous offici say north korea test u.s.-china relat',\n",
              " \"mexico say upcom u.s. execut nation 'illegal'\",\n",
              " \"khamenei say iran 'shred' nuclear deal u.s. quit\",\n",
              " \"myanmar say u.s. sanction gener base 'unreli accusations'\",\n",
              " 'pennsylvania attorney gener quit heel perjuri convict - new york time',\n",
              " 'grassley feinstein: pair lead gorsuch senat hear - new york time',\n",
              " 'condell: america moment truth',\n",
              " 'red pill masterpiec predat',\n",
              " 'nfl phoni patriotism: us defens depart paid nfl disgust $4.5 million on-field flag appear ¦welcom home tribut',\n",
              " 'highlight clinton campaign emails: deal sander biden - new york time',\n",
              " 'ladi gaga deliv subvers perform super bowl',\n",
              " 'kremlin: hope new u.s. envoy help repair u.s.-russia tie',\n",
              " 'fmr. dni jame clapper: trump russia scandal wors waterg (video)',\n",
              " 'breaking: detroit news report potenti new evid massiv vote tamper',\n",
              " \"morocco' 'mule' women scratch live spanish enclav border\",\n",
              " \"trump say hope cuban 'freedom' castro death\",\n",
              " 'cypru say plan help defus lebanes crisi',\n",
              " 'racist nypd cop threaten tase black children walk street (video)',\n",
              " 'breaking: secret servic take action white hous intrud got close comfort [video]',\n",
              " 'smother brother birth tv buzz - new york time',\n",
              " '\\x98respons gun owner blow leg turn lawnmow explod target',\n",
              " 'loudmouth celebr forc eat crow hurl vile insult ben carson immigr remark ¦wfb releas video obama say thing 2015',\n",
              " 'fiji spend soar battl climat risk',\n",
              " '40 year ago ronald reagan warn us obama speech [video]',\n",
              " 'watch: kellyann conway latest gush trump make america vomit',\n",
              " 'anti-trump protest tool oligarchi',\n",
              " 'devast 30 second commerci show scari truth target danger open door bathroom polici [video]',\n",
              " 'lasers, truli upon us.',\n",
              " 'nato chief say europ interest help afghanistan',\n",
              " 'post-obama america: liber thug get physic n. dakota gop rep town hall [video]',\n",
              " 'trump keep obama execut order protect lgbtq feder worker - breitbart',\n",
              " 'watch: senat john mccain tell tmz sport report okay nfl player disrespect flag',\n",
              " 'boiler room ep #109 \\x93 wonderful life',\n",
              " 'unbelievable! student succeed remov us border patrol agent career fair: concern make illeg student feel welcom',\n",
              " 'whoa! fox news host blame trump violenc domest terrorist support [video]',\n",
              " 'scorpio new moon medit',\n",
              " 'boom! custom agent ignor obama appoint judg court order ¦enforc trump travel ban',\n",
              " 'boom! kellyann conway shut cnn cuomo: care? [video]',\n",
              " 'trump: new step next week keep countri safe - breitbart',\n",
              " 'pressur mount merkel migrant polici futur coalit',\n",
              " 'austrian parent teacher sacrific young girl liber altar: teen refuge sexual abus school girl month',\n",
              " 'seth meyer take \\x98a closer look gop threat hillari terrifying! (video)',\n",
              " 'gop implod trump launch nasti public fight top republican (tweets)',\n",
              " 'karma come trump, congression committe want see comey \\x98tape (tweets)',\n",
              " 'trump definit \\x98fair media coverag (video)',\n",
              " 'etihad flight abu dhabi make emerg land australia',\n",
              " 'white hous chief staff welcom new member rank',\n",
              " 'lula simba, last surviv anim mosul zoo, rescu - new york time',\n",
              " 'fired! trump win big, clinton go jail',\n",
              " 'breaking: feder judg stop obamacar transgender, abort relat protect',\n",
              " 'woman stab black man face christma offer train seat',\n",
              " 'sexism compliment? german politician stoke debat',\n",
              " 'nation biotechnolog panel face new conflict interest question - new york time',\n",
              " 'watch live: #benshapiro speak #berkeley antifa protest [video]',\n",
              " 'eu give june deadlin deal refuge',\n",
              " 'pamela gellar group plan run muham cartoon ad dc buse [video]',\n",
              " 'turkey suspend non-immigr visa servic diplomat facil u.s.',\n",
              " 'trump lawyer aim delay fraud trial hear',\n",
              " 'elon musk bore machin bring excit lo angel - breitbart',\n",
              " 'kellogg pull advertis breitbart news punish conserv news slant ¦#boycottkellogg',\n",
              " 'command chief approv racism? u.s. militari make shock disciplinari decis 16 black west point cadet',\n",
              " 'florida man admit help funnel 2012 foreign polit contribut',\n",
              " 'femal report assur viewer germani carniv free rapefugees, men sexual assault live tv [video]',\n",
              " 'coke zero: went wrong marco rubio brand?',\n",
              " \"clinton' pledg curtail frack fall unconvinc ear\",\n",
              " 'senat seek block $1.15 billion u.s. arm sale saudi arabia',\n",
              " 'exclus - islam state support vow terror group retak mosul \\x98liber',\n",
              " 'oklahoma lawmaker, found boy motel, charg prostitut',\n",
              " 'chuck play chicken: would block new fbi director special prosecutor name - breitbart',\n",
              " \"expert recommend break crush defeat smaller, manag failur - onion - america' finest news sourc\",\n",
              " 'rino mitch mcconnel prais hillari day benghazi hear ¦say could work presid',\n",
              " 'syrian refuge receiv ridicul sentenc traffick 13 14-yr old girl bail rape 17-yr old',\n",
              " 'donald trump beg hillari clinton earli voter chang vote',\n",
              " 'lawyer mobil nation airport trump order - new york time',\n",
              " 'manuela carmena pide lo madril que guarden la lata de lo refresco la bolsa de la basura para hacer lo vestido de lo rey mago',\n",
              " 'peopl magazin cover prove hillari alway wildli unpopular women',\n",
              " 'hillari latest challeng progress one need taken serious (video)',\n",
              " 'govern put immigr citizens: swedish citizen place live, jobs, need carri gun everywher go',\n",
              " 'watch: muslim mayor rotterdam, holland muslim immigrants, accept freedom, f*ck',\n",
              " 'sessions: border open - breitbart',\n",
              " \"congo republ sign peac accord 'ninja' rebel\",\n",
              " 'hawaii attorney gener humili jeff session whine judg \\x98island pacif',\n",
              " 'republican propos hous bill forc suprem court justic employe join obamacar',\n",
              " 'food drug chief gottlieb skirt health secretari talk, say effect fda',\n",
              " \"britain say minister' remark offer basi action jail aid worker iran\",\n",
              " 'robert redford wapo: 45 year watergate, truth danger - breitbart',\n",
              " 'wnba player turkey worri rise terror - new york time',\n",
              " 'trump tri \\x98compliment democrat keith ellison. ellison respons us (tweets)',\n",
              " 'south sudan army, rebel clash hour ceasefir',\n",
              " 'u.s. govern predatory-lend program',\n",
              " \"trump say 'rev economy' pay budget proposals: fox\",\n",
              " 'view syrian war golan height',\n",
              " 'trump took feder money meant small busi affect 9/11 attack',\n",
              " 'clock, german parti haggl immigration, euro budget',\n",
              " 'toss first tinsel? two baltic capit disagre - new york time',\n",
              " 'real truth obama plant muslim refuge small town across america',\n",
              " 'social media firm summon u.s. congression hear russia',\n",
              " 'top tech execut attend trump summit wednesday: recod',\n",
              " 'sharpton shake pastor donat memori black youths: black pastor call sharpton pimp',\n",
              " 'ww3 nuclear war drill world war 3 start ukrain',\n",
              " 'north korea missil crisi seen push south korea gun',\n",
              " 'och-ziff pay $400 million briberi settlement - new york time',\n",
              " 'copycat muslim terrorist arrest assault weapons, knive drive busi shop area high speed [video]',\n",
              " 'factbox: trump twitter (juli 26) - u.s. military, transgend individu',\n",
              " 'reflect rio - new york time',\n",
              " 'yes! trump utah audienc chant \\x98four years! [video]',\n",
              " 'wow! anoth young man found dead serv dnc paper fraud suit behalf berni sander [video]',\n",
              " 'hillari clinton: \\x98israel first (and peac middl east)',\n",
              " \"paul ryan: he' fiscal polici illiter conggress\",\n",
              " 'watch: joy reid hammer republican wast taxpay money pay trump wall',\n",
              " 'russian economi minist arrest $2 million bribe rosneft deal - russia news',\n",
              " 'watch: video show baton roug cop repeatedli shoot black man point blank chest',\n",
              " 'immigr head washington ralli obama still - new york time',\n",
              " 'factbox - german coalit watch: want experi succeed - cdu',\n",
              " 'elizabeth warren found breathtak hypocrisi fbi treatment hillari email',\n",
              " 'itali quak sever - new york time',\n",
              " \"treasury' mnuchin: china may face new sanction north korea\",\n",
              " 'michael moor visit wikileak julian assang [video]',\n",
              " 'nonsens say',\n",
              " 'univers punish raped, effect silenc victim',\n",
              " 'u.s. see increas activ chines bomber aircraft: offici',\n",
              " 'afford clean water flint, israel demand $50 billion u.s. taxpay (video)',\n",
              " 'samantha bee rip tennesse republican new one call rape victim liar (video)',\n",
              " 'samantha bee mock trump, roast media white hous correspond dinner - breitbart',\n",
              " 'case regard cruz birthright citizenship reach suprem court',\n",
              " 'hillari clinton agre provid privat e-mail server fbi',\n",
              " 'power mexico former union boss grant hous arrest',\n",
              " 'bbc: nato send messag russia',\n",
              " 'comment link 11/4/16 openthepodbaydoorsh',\n",
              " 'liber hollywood implodes! rate trump-bash emmi ¦insignific celebr dealt major blow!',\n",
              " 'hillari blast anti-woman, anti-immigr republican gloriou #gopdeb live tweet',\n",
              " 'comment \\x98i stop fat move : morbidli obes model dream weigh 1000lb welcometoskaamoog',\n",
              " 'u.s. democrat parti say document leaked, blame russian',\n",
              " 'powerful! formerli oppress ex- muslim warn ignor american danger welcom peopl fled [video]',\n",
              " 'watch: hell freez fox news host call republican parti \\x98disgrac incap govern',\n",
              " \"factbox: republicans' obamacar plan would dump medicaid expansion, tax\",\n",
              " 'fox news tri cover harass lawsuit',\n",
              " 'minor youth mistrust police. brooklyn high school plan. - new york time',\n",
              " 'shock report: 50% babi 24 state born via medicaid ¦i state list?',\n",
              " \"britain' new 3 billion pound warship leak\",\n",
              " 'special counsel meet senat committe leader',\n",
              " 'nomine u.s. epa chemic safeti withdraws: bloomberg',\n",
              " 'obama say keep troop afghanistan plan - new york time',\n",
              " \"southeast congo face 'deadli disaster', half million peopl displaced: ngo\",\n",
              " 'despit eu caution, franc pursu tough line iran missil program',\n",
              " 'rockett requir danc trump inauguration, compani say - new york time',\n",
              " 'loretta lynch becom first african-american woman ag.',\n",
              " 'univers california worker sue lose job outsourc - breitbart',\n",
              " 'trump blast media lie bust mlk jr remov oval offic ¦bring one import bust back oval offic',\n",
              " 'senat warren endors clinton presid',\n",
              " 'u.s. give unit nation billion tax dollar what?',\n",
              " 'republican vote defund u.n. retali one singl issu',\n",
              " 'convoy roll damascu suburb aid 40,000: u.n.',\n",
              " 'liber rag like usa today work overtim destroy trump ¦here proof american listen',\n",
              " 'boom! bronco player messag fellow nfl player disrespect flag: live greatest countri earth ¦if like ¦ stay?',\n",
              " 'ukrain say hope continu support russia u.s. trump',\n",
              " 'donald rumseld humili view dingbat joy behar ¦call understand presid elect [video]',\n",
              " 'tick time bomb: young muslim west sympath terrorist',\n",
              " 'uber hire nasa engin vtol fli car project - breitbart',\n",
              " 'venezuela make interest payment foreign debt: minist',\n",
              " 'michael moor want spot hillari cabinet',\n",
              " '#bringbackobama hashtag blow twitter american share memori (tweets)',\n",
              " 'trump got eight-year-old american girl killed, along children women',\n",
              " 'republican threaten kill transgend student univers',\n",
              " 'high school forc chang mascot accus stallion sexist - breitbart',\n",
              " 'u.s. citizen run bust bali prison',\n",
              " 'jonah hill joke - new york time',\n",
              " 'school hospitals, turkey carv north syria role',\n",
              " 'russian hope thaw trump dent top secur advis quit',\n",
              " \"trump' heartland voter shrug global uproar immigr ban\",\n",
              " 'republican strike back new u.s. ban forc arbitr',\n",
              " 'powerful: rape survivor explain men never allow women bathroom locker room',\n",
              " 'dnc insid vote take berni win new hampshir away (images)',\n",
              " 'orlando gunman shot least 8 times, autopsi find - new york time',\n",
              " 'hacker dump intel nsa elit equat group',\n",
              " 'hama say secur chief wound gaza car bomb',\n",
              " 'melania trump rare one-on-on interview: watch destroy leftist msnbc hack immigr ¦ follow law!',\n",
              " 'week obama execut order catastroph space weather events, coron mass eject set hit elect day?',\n",
              " 'g7 fashion: first ladi melania trump outshin fellow nato spous blossom ensembl',\n",
              " \"white house: chang 'one china' polici trump call taiwan\",\n",
              " \"unexpect ingeni strategi obama' second term\",\n",
              " 'divers gone wild: us govern plan replac alexand hamilton $10 bill woman ¦',\n",
              " 'opinion: side abort debat need talk honestli',\n",
              " 'snl star michael che sorri call boston racist citi',\n",
              " 'mexico presidenti hope reject comparison venezuela',\n",
              " 'trump histori corrupt mind-boggling. clinton supposedli corrupt one',\n",
              " '\\x98classifi email hillari clinton huma abedin found anthoni weiner laptop',\n",
              " 'trump nat l prayer breakfast: let pray arnold schwarzenegg apprentic rate - breitbart',\n",
              " 'twitter work biggest f*ck trump go love (details)',\n",
              " 'congress vote avert shutdown, send trump stopgap spend bill',\n",
              " 'sunday screening: counter intellig \\x93 \\x98the strategi tension',\n",
              " \"exclusive: zimbabwe' grace mugab say model attack knife\",\n",
              " 'obama arrogance: watch admonish report ask content 4 american held iran jail [video]',\n",
              " '#blacklivesmatt terrorist use #blackrail twitter organ shut rail mn vike game',\n",
              " 'ivanka trump dress nice, one major problem (video)',\n",
              " 'numbskul ben carson manag p*ss everi decent parent america',\n",
              " 'date rape comment brooklyn polic captain condemn - new york time',\n",
              " 'iraqi armi discov us-mad missil isi militari base',\n",
              " 'trump say never ask comey stop investig flynn',\n",
              " 'former presid georg h.w. bush watch inaugur hospit room',\n",
              " 'destini world',\n",
              " 'minor new zealand parti focu hotli contest elect get tighter',\n",
              " 'kim kardashian queen selfi retir booti break internet',\n",
              " 'maci get boot loyal custom fire trump',\n",
              " 'factbox: trump fill top job administr',\n",
              " \"john mccain donald trump: 'don dare make peac russia!'\",\n",
              " 'trump reassur farmer immigr crackdown aim worker',\n",
              " 'violenc prompt u.s. congress discuss milit threat',\n",
              " \"germani watch trump' iran decis 'great concern'\",\n",
              " 'obama: republican risk diminish credibl suprem court',\n",
              " '500 migrant may die sink boat mediterranean, u.n. say - new york time',\n",
              " 'busted: hillari media cheerlead caught hide truth corrupt candid ever live interview [video]',\n",
              " 'ivanka trump end fine jewelri line favor mass-market one - new york time',\n",
              " 'awesome! conserv women speak like politician [video]',\n",
              " 'watch: ny town reject pledg allegi ¦ total wast time ¦could rais first amend issu',\n",
              " 'full ufo disclosur inevit',\n",
              " 'stevi wonder slam black live matter mn peac conference: cannot say \\x98black live matter kill [video]',\n",
              " '[video] bumbl us defens sec. answer question whether defend 60 syrian train fight isi',\n",
              " 'world trump: f*ck off, \\x98inherit mess obama (video)',\n",
              " 'state polls: trump gain dramat | daili wire',\n",
              " 'plan parenthood slam republican pretend shock trump abort stanc',\n",
              " 'busted: steel union furiou trump destroy american job',\n",
              " 'senil truth bomb? bill clinton crowd: sometim wish marri [video]',\n",
              " '400 u.s. troop leav syria: coalit',\n",
              " 'mark cuban: event donald wins, doubt market tank ¦so realli happen [video]',\n",
              " 'hispan gop comment slam trump racist comment fraudul univers',\n",
              " 'overnight la vega attack deadliest mass shoot american histori (details)',\n",
              " \"germany' fdp look fill schaeuble' big shoe\",\n",
              " 'french plan \\x98mega databas citizen person data trigger protest',\n",
              " 'oil busi seen strong posit trump tackl tax reform',\n",
              " 'hilari rare video show hillari prepar avoid trump hug',\n",
              " 'assange: clinton campaign tri hack wikileak',\n",
              " '\"hamilton\" actor refus apolog polit stunt',\n",
              " 'mani peopl pop vitamin d? - new york time',\n",
              " 'battl hollywood endors - cash - clinton rule',\n",
              " 'comey work for?',\n",
              " 'travel strand protest swell trump order - new york time',\n",
              " 'mislead mainstream media push fals narr trump elector could steal elect ¦whi gonna happen ¦and attack democraci realli bad idea',\n",
              " 'trump campaign manag charg misdemeanor batteri report',\n",
              " 'al sharpton half-broth regist thousand felon vote alabama controversi senat race? [video]',\n",
              " 'sheriff threaten arrest ceo appl protect privaci (video)',\n",
              " 'obama crook doj hide massiv hillari scandal: u.s. govern spent million dollars, went world bankrupt him, destroy life \\x94 protect hillari clinton crime',\n",
              " 'breitbart news daily: london - breitbart',\n",
              " 'trump intellig nomine support probe russian interfer',\n",
              " 'lighter side rick owen - new york time',\n",
              " 'isra minist miri regev: \\x98thank god obama leav offic',\n",
              " 'irrat georgetown professor month-long meltdown fellow muslim professor vote trump: f*ck you! [video]',\n",
              " 'donald trump look build trump tower moscow run presid',\n",
              " 'tokyo governor koik challeng japanes pm abe new parti',\n",
              " '2016: remain 61 dead migrant recov one texa counti',\n",
              " 'donald trump jr. blame scalis shoot \\x98caesar actor get wreck (tweets)',\n",
              " 'trump staffer admit boss idea daca',\n",
              " 'iraqi kurd prime minister: court void referendum without krg input',\n",
              " 'trump vow strong tie israel elect presid',\n",
              " 'donald trump post brutal video show much everyon hate ted cruz (video)',\n",
              " 'session visit u.s.-mexico border push migrant crackdown',\n",
              " 'climat change, ideolog partisan polar harden',\n",
              " '9 10 gang rapist sweden foreign origin',\n",
              " 'kenya lead african union?',\n",
              " 'russia attack energy, telecom media britain: govern offici',\n",
              " \"'bespoke' brexit, transit mean 'statu quo': barnier\",\n",
              " 'trump econom boom? fed may stand way - new york time',\n",
              " 'marin corp gener warn u.s. troops: war come',\n",
              " 'u.s. eas visa restrict gambia dec. 12',\n",
              " 'gop candid fight spotlight ahead milwauke debat',\n",
              " 'man fatal shot 2 offic hurt brooklyn hous complex - new york time',\n",
              " 'wikileak admit screw immens twitter poll hillari health',\n",
              " 'conserv texa lt. governor tweet vile bibl vers mass shoot lgbt club',\n",
              " 'comment mass fish deaths: million found dead world past month whackamol',\n",
              " 'trump never look incompetent; china advis liter found amazon (details)',\n",
              " 'alexandria polic chief say five peopl taken hospit shoot',\n",
              " 'comey broke: stack resign letter furiou fbi agent',\n",
              " 'watch: fox news side presid obama gun control- now, nra? (video)',\n",
              " \"trump' 'paterno' comment spark jeer social media\",\n",
              " 'kati hopkin leav lbc follow final solut tweet',\n",
              " 'glenn greenwald: dem \\x98suddenli love leaks, attack obama - breitbart',\n",
              " 'dalla attack add cleveland concern republican convent',\n",
              " 'iraqi govern ask foreign countri stop oil trade kurdistan',\n",
              " 'syria, travel ban, kabul: morn brief - new york time',\n",
              " 'black live matter organ refus meet obama race hustler ¦call meet white house: sham ¦photo-op ¦sound bite obama',\n",
              " 'traumat brain help heal broken heart - new york time',\n",
              " 'u.s. belatedli begin compli russia sanction law',\n",
              " 'iran give investor glimps $30 billion oil deal come',\n",
              " 'breaking: obama success whitewash american histori ¦ racist presid andrew jackson replac harriet tubman $20 bill',\n",
              " \"nasa' opportun rover came across strang area red planet\",\n",
              " 'christian pastor jail iran reveal stun truth trump',\n",
              " 'amazon.con \\x93 roflmao',\n",
              " 'wow! democrat denni kucunich warns: deep state tri take presid \\x93 need stop',\n",
              " 'triggered! black woman goe berserk spot confeder flag \\x98gener lee car event: racist car! [video]',\n",
              " 'bodybuild die celebr muay thai match ex-singapor idol contest',\n",
              " \"south korea' moon unveil new focu southeast asia\",\n",
              " 'fbi insider: clinton email link polit pedophil sex ring',\n",
              " 'mainstream media call real news fake narr collaps',\n",
              " 'new york, state challeng trump climat chang regul',\n",
              " 'trump vow stay race lewd remark surfac',\n",
              " \"white hous say can't law pay obamacar subsidi\",\n",
              " 'two high threat explos expert move gitmo african countri 90% muslim popul [video]',\n",
              " 'uk parliament expect vote brexit deal late 2018 earli 2019: davi',\n",
              " 'never guess conserv blowhard compar trump hitler (video)',\n",
              " 'isi support respond kill top isi operative: took abu sayyaf, take obama',\n",
              " 'u.s. top court take republican challeng maryland elector district',\n",
              " 'ukrain lawmak work trump associ face treason inquiri - new york time',\n",
              " 'boiler room \\x93 ep #48 \\x93 agenda 2030 beyond branko maliä\\x87, patrick henningsen & mike robinson',\n",
              " 'trump f.c.c. pick quickli target net neutral rule - new york time',\n",
              " 'let say obamacar repealed. then? - new york time',\n",
              " 'croatia want adopt euro within 7-8 years: prime minist',\n",
              " '\\x98take money!! : email show clinton campaign manag lobbyist donat',\n",
              " 'terror attack over, 147 dead kenya univers',\n",
              " \"trump, clinton meet 'humorous' al smith dinner\",\n",
              " 'khizr khan eviscer trump disrespect purpl heart comment (video)',\n",
              " 'climat scammer al gore utterli embarrass ¦can explain sea level rise',\n",
              " 'pm hariri urg lebanes put countri first',\n",
              " '7 step take make sure experie... | clickhol',\n",
              " 'woman use milk gelatin remov blackhead',\n",
              " 'facebook reportedli compli pakistan demand censor blasphemi call hang blasphem trend twitter - breitbart',\n",
              " 'indonesia foreign minist fli bangladesh myanmar visit rohingya',\n",
              " 'john mccain throw tantrum, decri trump \\x98let assad stay',\n",
              " 'trump old campaign chair knife man depos back \\x93 twist',\n",
              " ...]"
            ]
          },
          "metadata": {},
          "execution_count": 32
        }
      ],
      "source": [
        "cor"
      ]
    },
    {
      "cell_type": "markdown",
      "metadata": {
        "id": "srOHATBcBbJV"
      },
      "source": [
        "## Normal Algorithm Set Up :"
      ]
    },
    {
      "cell_type": "code",
      "execution_count": 33,
      "metadata": {
        "id": "wabud8_2BbJV"
      },
      "outputs": [],
      "source": [
        "from sklearn.feature_extraction.text import CountVectorizer,TfidfTransformer\n",
        "from sklearn.naive_bayes import MultinomialNB\n",
        "from sklearn.pipeline import Pipeline"
      ]
    },
    {
      "cell_type": "code",
      "execution_count": 34,
      "metadata": {
        "id": "25eQ8UM3BbJV"
      },
      "outputs": [],
      "source": [
        "cv=CountVectorizer()\n",
        "msg=cv.fit_transform(cor)"
      ]
    },
    {
      "cell_type": "code",
      "execution_count": 35,
      "metadata": {
        "id": "4PY_C0DXBbJV",
        "outputId": "90d7e5f6-1c63-4131-e270-fd5fc262fff8",
        "colab": {
          "base_uri": "https://localhost:8080/"
        }
      },
      "outputs": [
        {
          "output_type": "execute_result",
          "data": {
            "text/plain": [
              "<1134x3800 sparse matrix of type '<class 'numpy.int64'>'\n",
              "\twith 10304 stored elements in Compressed Sparse Row format>"
            ]
          },
          "metadata": {},
          "execution_count": 35
        }
      ],
      "source": [
        "msg"
      ]
    },
    {
      "cell_type": "code",
      "execution_count": 36,
      "metadata": {
        "id": "Vy70H0IcBbJV"
      },
      "outputs": [],
      "source": [
        "tar=messages['label']"
      ]
    },
    {
      "cell_type": "code",
      "execution_count": 37,
      "metadata": {
        "id": "Fqo_srHRBbJV",
        "outputId": "d42e9ddc-cf0f-46f2-f77c-d398056d6b5a",
        "colab": {
          "base_uri": "https://localhost:8080/"
        }
      },
      "outputs": [
        {
          "output_type": "execute_result",
          "data": {
            "text/plain": [
              "(1134, 3800)"
            ]
          },
          "metadata": {},
          "execution_count": 37
        }
      ],
      "source": [
        "msg.shape"
      ]
    },
    {
      "cell_type": "code",
      "execution_count": 38,
      "metadata": {
        "id": "2m1DqeZLBbJV",
        "outputId": "89217627-6f62-4ebd-8bbe-4f3fe4a58841",
        "colab": {
          "base_uri": "https://localhost:8080/"
        }
      },
      "outputs": [
        {
          "output_type": "execute_result",
          "data": {
            "text/plain": [
              "(1134,)"
            ]
          },
          "metadata": {},
          "execution_count": 38
        }
      ],
      "source": [
        "tar.shape"
      ]
    },
    {
      "cell_type": "code",
      "execution_count": 39,
      "metadata": {
        "id": "mvOGWjJABbJW"
      },
      "outputs": [],
      "source": [
        "tfidf=TfidfTransformer()"
      ]
    },
    {
      "cell_type": "code",
      "execution_count": 40,
      "metadata": {
        "id": "eyrYYNS_BbJW"
      },
      "outputs": [],
      "source": [
        "tf=tfidf.fit_transform(msg)"
      ]
    },
    {
      "cell_type": "code",
      "execution_count": 41,
      "metadata": {
        "id": "uYqtdmxFBbJW",
        "outputId": "2f2814fc-feba-47a6-9c06-060b7ea36b72",
        "colab": {
          "base_uri": "https://localhost:8080/"
        }
      },
      "outputs": [
        {
          "output_type": "execute_result",
          "data": {
            "text/plain": [
              "(1134, 3800)"
            ]
          },
          "metadata": {},
          "execution_count": 41
        }
      ],
      "source": [
        "tf.shape"
      ]
    },
    {
      "cell_type": "markdown",
      "metadata": {
        "id": "51-9ZgdmBbJW"
      },
      "source": [
        "## Train Test Split "
      ]
    },
    {
      "cell_type": "code",
      "execution_count": 42,
      "metadata": {
        "id": "Ah7Hl4KEBbJW"
      },
      "outputs": [],
      "source": [
        "from sklearn.model_selection import train_test_split"
      ]
    },
    {
      "cell_type": "code",
      "execution_count": 43,
      "metadata": {
        "id": "-Q5CEuAUBbJW"
      },
      "outputs": [],
      "source": [
        "msg_train,msg_test,tar_train,tar_test=train_test_split(tf,tar,test_size=0.3,random_state=0)"
      ]
    },
    {
      "cell_type": "code",
      "execution_count": 44,
      "metadata": {
        "id": "XF-07tJLBbJW"
      },
      "outputs": [],
      "source": [
        "classifier_mod=MultinomialNB()"
      ]
    },
    {
      "cell_type": "code",
      "execution_count": 45,
      "metadata": {
        "id": "ist464gMBbJW",
        "outputId": "22b5781b-3657-44ad-d45c-f352a84f7740",
        "colab": {
          "base_uri": "https://localhost:8080/"
        }
      },
      "outputs": [
        {
          "output_type": "execute_result",
          "data": {
            "text/plain": [
              "MultinomialNB()"
            ]
          },
          "metadata": {},
          "execution_count": 45
        }
      ],
      "source": [
        "classifier_mod.fit(msg_train,tar_train)"
      ]
    },
    {
      "cell_type": "code",
      "execution_count": 46,
      "metadata": {
        "id": "kV_weJ6ZBbJW",
        "outputId": "4e8de8b1-e3ba-4700-d36f-4cea8ee401b7",
        "colab": {
          "base_uri": "https://localhost:8080/"
        }
      },
      "outputs": [
        {
          "output_type": "execute_result",
          "data": {
            "text/plain": [
              "array([0, 1, 1, 1, 0, 1, 0, 0, 1, 1, 1, 0, 0, 1, 1, 1, 1, 1, 0, 1, 1, 0,\n",
              "       1, 0, 1, 1, 0, 1, 1, 1, 0, 1, 1, 0, 0, 1, 0, 1, 0, 1, 1, 1, 1, 1,\n",
              "       0, 1, 1, 1, 1, 1, 0, 0, 1, 0, 0, 0, 0, 0, 1, 1, 1, 0, 1, 1, 1, 1,\n",
              "       0, 1, 0, 1, 1, 1, 0, 1, 0, 0, 0, 0, 0, 1, 0, 1, 1, 0, 0, 1, 0, 0,\n",
              "       0, 1, 0, 1, 1, 0, 1, 0, 0, 1, 1, 1, 0, 1, 1, 1, 1, 1, 1, 1, 0, 0,\n",
              "       1, 1, 1, 1, 1, 0, 1, 1, 1, 0, 1, 1, 1, 1, 0, 1, 1, 1, 1, 1, 1, 1,\n",
              "       0, 1, 0, 1, 0, 1, 1, 1, 0, 0, 0, 1, 0, 0, 1, 1, 0, 1, 1, 0, 0, 0,\n",
              "       0, 1, 1, 1, 0, 0, 1, 1, 1, 0, 0, 1, 1, 1, 0, 0, 0, 1, 1, 1, 0, 0,\n",
              "       1, 1, 0, 1, 1, 1, 1, 1, 1, 1, 1, 0, 0, 1, 0, 0, 0, 1, 0, 0, 1, 0,\n",
              "       1, 1, 0, 0, 0, 0, 1, 0, 0, 0, 1, 1, 1, 1, 1, 0, 1, 0, 1, 1, 0, 1,\n",
              "       0, 0, 1, 1, 1, 0, 0, 1, 0, 1, 1, 0, 1, 1, 1, 1, 1, 0, 0, 1, 0, 1,\n",
              "       0, 1, 0, 1, 0, 1, 0, 0, 0, 1, 1, 1, 0, 1, 0, 0, 1, 1, 1, 0, 0, 1,\n",
              "       1, 1, 0, 0, 1, 0, 1, 1, 0, 1, 1, 0, 0, 1, 0, 0, 1, 0, 0, 1, 1, 1,\n",
              "       0, 1, 1, 1, 0, 0, 1, 0, 1, 1, 0, 1, 0, 0, 0, 1, 1, 0, 1, 0, 1, 1,\n",
              "       0, 1, 1, 0, 1, 0, 0, 1, 1, 1, 1, 0, 1, 1, 1, 0, 1, 1, 0, 0, 1, 0,\n",
              "       1, 0, 1, 1, 0, 1, 1, 1, 1, 1, 1])"
            ]
          },
          "metadata": {},
          "execution_count": 46
        }
      ],
      "source": [
        "classifier_mod.predict(msg_test)"
      ]
    },
    {
      "cell_type": "code",
      "execution_count": 47,
      "metadata": {
        "id": "HekK37oQBbJW"
      },
      "outputs": [],
      "source": [
        "cm_pred=classifier_mod.predict(msg_test)"
      ]
    },
    {
      "cell_type": "markdown",
      "metadata": {
        "id": "RKwOReVyBbJX"
      },
      "source": [
        "### Metrics Evaluation :"
      ]
    },
    {
      "cell_type": "code",
      "execution_count": 49,
      "metadata": {
        "id": "VHpdSQ-kBbJX"
      },
      "outputs": [],
      "source": [
        "from sklearn.metrics import confusion_matrix,classification_report,accuracy_score"
      ]
    },
    {
      "cell_type": "code",
      "execution_count": 50,
      "metadata": {
        "colab": {
          "base_uri": "https://localhost:8080/"
        },
        "id": "KWaO5wvwBbJX",
        "outputId": "d6e95541-4ad9-4e37-f319-30b261d85112"
      },
      "outputs": [
        {
          "output_type": "stream",
          "name": "stdout",
          "text": [
            "              precision    recall  f1-score   support\n",
            "\n",
            "           0       0.84      0.76      0.80       155\n",
            "           1       0.82      0.88      0.85       186\n",
            "\n",
            "    accuracy                           0.83       341\n",
            "   macro avg       0.83      0.82      0.82       341\n",
            "weighted avg       0.83      0.83      0.83       341\n",
            "\n"
          ]
        }
      ],
      "source": [
        "print(classification_report(tar_test,cm_pred))"
      ]
    },
    {
      "cell_type": "code",
      "execution_count": 51,
      "metadata": {
        "id": "zKw1IJKSBbJX",
        "colab": {
          "base_uri": "https://localhost:8080/"
        },
        "outputId": "c97aa7a5-f33e-4496-db31-b34ed06941f1"
      },
      "outputs": [
        {
          "output_type": "stream",
          "name": "stdout",
          "text": [
            "[[118  37]\n",
            " [ 22 164]]\n"
          ]
        }
      ],
      "source": [
        "print(confusion_matrix(tar_test,cm_pred))"
      ]
    },
    {
      "cell_type": "code",
      "execution_count": 52,
      "metadata": {
        "id": "0WMna2P8BbJX",
        "colab": {
          "base_uri": "https://localhost:8080/"
        },
        "outputId": "27ec5675-f92b-4382-98d1-4bd415bb8704"
      },
      "outputs": [
        {
          "output_type": "stream",
          "name": "stdout",
          "text": [
            "The Accuracy Score Is :  0.83\n"
          ]
        }
      ],
      "source": [
        "print('The Accuracy Score Is : ',round(accuracy_score(tar_test,cm_pred),2))"
      ]
    },
    {
      "cell_type": "markdown",
      "metadata": {
        "id": "PxfWU_6xBbJX"
      },
      "source": [
        "## Pipeline :"
      ]
    },
    {
      "cell_type": "markdown",
      "metadata": {
        "id": "ZJjx2x3UBbJX"
      },
      "source": [
        "### Train Test Split  For Pipeline :"
      ]
    },
    {
      "cell_type": "code",
      "execution_count": 60,
      "metadata": {
        "id": "jxG86Wz6BbJX"
      },
      "outputs": [],
      "source": [
        "X=messages['title']\n",
        "y=messages['label']"
      ]
    },
    {
      "cell_type": "code",
      "execution_count": 61,
      "metadata": {
        "colab": {
          "base_uri": "https://localhost:8080/"
        },
        "id": "HTilQdCdBbJX",
        "outputId": "ad89b314-5d5b-4476-ac63-297e7868e163"
      },
      "outputs": [
        {
          "output_type": "execute_result",
          "data": {
            "text/plain": [
              "(1134,)"
            ]
          },
          "metadata": {},
          "execution_count": 61
        }
      ],
      "source": [
        "X.shape"
      ]
    },
    {
      "cell_type": "code",
      "execution_count": 62,
      "metadata": {
        "id": "NBlj9-GVBbJX",
        "colab": {
          "base_uri": "https://localhost:8080/"
        },
        "outputId": "e1f5d710-1610-421c-9797-3f414523e54e"
      },
      "outputs": [
        {
          "output_type": "execute_result",
          "data": {
            "text/plain": [
              "(1134,)"
            ]
          },
          "metadata": {},
          "execution_count": 62
        }
      ],
      "source": [
        "y.shape"
      ]
    },
    {
      "cell_type": "code",
      "execution_count": 63,
      "metadata": {
        "id": "TmZL82dMBbJX"
      },
      "outputs": [],
      "source": [
        "from sklearn.model_selection import train_test_split"
      ]
    },
    {
      "cell_type": "code",
      "execution_count": 64,
      "metadata": {
        "id": "gPFnA3QlBbJX"
      },
      "outputs": [],
      "source": [
        " X_train, X_test, y_train, y_test = train_test_split(X, y, test_size=0.2)"
      ]
    },
    {
      "cell_type": "code",
      "execution_count": 65,
      "metadata": {
        "id": "eK8qyxSWBbJX",
        "colab": {
          "base_uri": "https://localhost:8080/"
        },
        "outputId": "3c4b89a7-9294-40a9-be23-6b3da3f88702"
      },
      "outputs": [
        {
          "output_type": "execute_result",
          "data": {
            "text/plain": [
              "(907,)"
            ]
          },
          "metadata": {},
          "execution_count": 65
        }
      ],
      "source": [
        "X_train.shape"
      ]
    },
    {
      "cell_type": "code",
      "execution_count": 66,
      "metadata": {
        "id": "Q3Cpg9rkBbJY",
        "colab": {
          "base_uri": "https://localhost:8080/"
        },
        "outputId": "93cbcab1-43a5-4441-e404-0208be3d2b96"
      },
      "outputs": [
        {
          "output_type": "execute_result",
          "data": {
            "text/plain": [
              "(907,)"
            ]
          },
          "metadata": {},
          "execution_count": 66
        }
      ],
      "source": [
        "y_train.shape"
      ]
    },
    {
      "cell_type": "markdown",
      "metadata": {
        "id": "fIGabwS-BbJY"
      },
      "source": [
        "## Pipeline:"
      ]
    },
    {
      "cell_type": "code",
      "execution_count": 67,
      "metadata": {
        "id": "9gM8xXXZBbJY"
      },
      "outputs": [],
      "source": [
        "from sklearn.feature_extraction.text import CountVectorizer,TfidfTransformer\n",
        "from sklearn.naive_bayes import MultinomialNB\n",
        "from sklearn.pipeline import Pipeline"
      ]
    },
    {
      "cell_type": "code",
      "execution_count": 68,
      "metadata": {
        "id": "5H7ghz04BbJY"
      },
      "outputs": [],
      "source": [
        "pipeline=Pipeline([\n",
        "   ('bow',CountVectorizer()),\n",
        "    ('tfidf',TfidfTransformer()),\n",
        "    ('classifier',MultinomialNB()),\n",
        "])"
      ]
    },
    {
      "cell_type": "code",
      "execution_count": 69,
      "metadata": {
        "id": "nC6q7KkSBbJY",
        "outputId": "495e1735-10e3-4817-86b2-efd8eee3028f",
        "colab": {
          "base_uri": "https://localhost:8080/"
        }
      },
      "outputs": [
        {
          "output_type": "execute_result",
          "data": {
            "text/plain": [
              "Pipeline(steps=[('bow', CountVectorizer()), ('tfidf', TfidfTransformer()),\n",
              "                ('classifier', MultinomialNB())])"
            ]
          },
          "metadata": {},
          "execution_count": 69
        }
      ],
      "source": [
        "pipeline.fit(X_train,y_train)"
      ]
    },
    {
      "cell_type": "code",
      "execution_count": 70,
      "metadata": {
        "id": "NYC1eO46BbJY",
        "outputId": "0b58290c-a9f5-460e-a0ac-2367e3d8f06b",
        "colab": {
          "base_uri": "https://localhost:8080/"
        }
      },
      "outputs": [
        {
          "output_type": "execute_result",
          "data": {
            "text/plain": [
              "array([1, 1, 0, 0, 0, 1, 1, 1, 0, 1, 1, 1, 1, 0, 1, 0, 1, 0, 1, 1, 0, 1,\n",
              "       1, 0, 0, 0, 1, 1, 0, 1, 0, 0, 0, 1, 0, 1, 1, 1, 0, 1, 1, 1, 1, 1,\n",
              "       0, 0, 1, 0, 1, 0, 0, 0, 1, 1, 1, 0, 1, 1, 1, 1, 1, 1, 1, 1, 1, 1,\n",
              "       0, 0, 0, 0, 1, 1, 1, 0, 0, 1, 1, 0, 0, 0, 0, 1, 1, 0, 1, 0, 1, 0,\n",
              "       1, 1, 1, 0, 0, 1, 1, 0, 1, 1, 1, 0, 0, 1, 1, 0, 1, 1, 1, 1, 1, 0,\n",
              "       1, 1, 0, 1, 1, 1, 0, 0, 1, 1, 1, 1, 1, 1, 1, 1, 1, 1, 0, 1, 1, 1,\n",
              "       0, 1, 0, 1, 1, 1, 1, 0, 1, 0, 0, 0, 1, 0, 1, 1, 1, 1, 1, 1, 1, 0,\n",
              "       0, 1, 1, 0, 0, 1, 1, 1, 0, 1, 1, 1, 1, 0, 1, 1, 1, 1, 0, 1, 0, 1,\n",
              "       0, 1, 1, 1, 0, 0, 0, 0, 1, 1, 0, 0, 1, 0, 1, 1, 0, 0, 1, 1, 1, 1,\n",
              "       1, 0, 1, 0, 1, 1, 0, 0, 0, 1, 1, 1, 1, 1, 1, 0, 1, 1, 1, 1, 1, 0,\n",
              "       0, 0, 1, 0, 0, 1, 0])"
            ]
          },
          "metadata": {},
          "execution_count": 70
        }
      ],
      "source": [
        "pipeline.predict(X_test)"
      ]
    },
    {
      "cell_type": "code",
      "execution_count": 71,
      "metadata": {
        "id": "WHWi-jofBbJY"
      },
      "outputs": [],
      "source": [
        "pred=pipeline.predict(X_test)"
      ]
    },
    {
      "cell_type": "code",
      "execution_count": 72,
      "metadata": {
        "id": "tfsLwKkIBbJY",
        "outputId": "3d70f308-3d78-4879-fa58-7f09821781d4",
        "colab": {
          "base_uri": "https://localhost:8080/",
          "height": 363
        }
      },
      "outputs": [
        {
          "output_type": "execute_result",
          "data": {
            "text/plain": [
              "     Actual  Predicted\n",
              "260       1          1\n",
              "801       1          1\n",
              "731       1          0\n",
              "697       0          0\n",
              "222       0          0\n",
              "980       1          1\n",
              "705       1          1\n",
              "767       0          1\n",
              "537       0          0\n",
              "621       1          1"
            ],
            "text/html": [
              "\n",
              "  <div id=\"df-bec2f219-ff15-4504-9beb-93cc663b09c1\">\n",
              "    <div class=\"colab-df-container\">\n",
              "      <div>\n",
              "<style scoped>\n",
              "    .dataframe tbody tr th:only-of-type {\n",
              "        vertical-align: middle;\n",
              "    }\n",
              "\n",
              "    .dataframe tbody tr th {\n",
              "        vertical-align: top;\n",
              "    }\n",
              "\n",
              "    .dataframe thead th {\n",
              "        text-align: right;\n",
              "    }\n",
              "</style>\n",
              "<table border=\"1\" class=\"dataframe\">\n",
              "  <thead>\n",
              "    <tr style=\"text-align: right;\">\n",
              "      <th></th>\n",
              "      <th>Actual</th>\n",
              "      <th>Predicted</th>\n",
              "    </tr>\n",
              "  </thead>\n",
              "  <tbody>\n",
              "    <tr>\n",
              "      <th>260</th>\n",
              "      <td>1</td>\n",
              "      <td>1</td>\n",
              "    </tr>\n",
              "    <tr>\n",
              "      <th>801</th>\n",
              "      <td>1</td>\n",
              "      <td>1</td>\n",
              "    </tr>\n",
              "    <tr>\n",
              "      <th>731</th>\n",
              "      <td>1</td>\n",
              "      <td>0</td>\n",
              "    </tr>\n",
              "    <tr>\n",
              "      <th>697</th>\n",
              "      <td>0</td>\n",
              "      <td>0</td>\n",
              "    </tr>\n",
              "    <tr>\n",
              "      <th>222</th>\n",
              "      <td>0</td>\n",
              "      <td>0</td>\n",
              "    </tr>\n",
              "    <tr>\n",
              "      <th>980</th>\n",
              "      <td>1</td>\n",
              "      <td>1</td>\n",
              "    </tr>\n",
              "    <tr>\n",
              "      <th>705</th>\n",
              "      <td>1</td>\n",
              "      <td>1</td>\n",
              "    </tr>\n",
              "    <tr>\n",
              "      <th>767</th>\n",
              "      <td>0</td>\n",
              "      <td>1</td>\n",
              "    </tr>\n",
              "    <tr>\n",
              "      <th>537</th>\n",
              "      <td>0</td>\n",
              "      <td>0</td>\n",
              "    </tr>\n",
              "    <tr>\n",
              "      <th>621</th>\n",
              "      <td>1</td>\n",
              "      <td>1</td>\n",
              "    </tr>\n",
              "  </tbody>\n",
              "</table>\n",
              "</div>\n",
              "      <button class=\"colab-df-convert\" onclick=\"convertToInteractive('df-bec2f219-ff15-4504-9beb-93cc663b09c1')\"\n",
              "              title=\"Convert this dataframe to an interactive table.\"\n",
              "              style=\"display:none;\">\n",
              "        \n",
              "  <svg xmlns=\"http://www.w3.org/2000/svg\" height=\"24px\"viewBox=\"0 0 24 24\"\n",
              "       width=\"24px\">\n",
              "    <path d=\"M0 0h24v24H0V0z\" fill=\"none\"/>\n",
              "    <path d=\"M18.56 5.44l.94 2.06.94-2.06 2.06-.94-2.06-.94-.94-2.06-.94 2.06-2.06.94zm-11 1L8.5 8.5l.94-2.06 2.06-.94-2.06-.94L8.5 2.5l-.94 2.06-2.06.94zm10 10l.94 2.06.94-2.06 2.06-.94-2.06-.94-.94-2.06-.94 2.06-2.06.94z\"/><path d=\"M17.41 7.96l-1.37-1.37c-.4-.4-.92-.59-1.43-.59-.52 0-1.04.2-1.43.59L10.3 9.45l-7.72 7.72c-.78.78-.78 2.05 0 2.83L4 21.41c.39.39.9.59 1.41.59.51 0 1.02-.2 1.41-.59l7.78-7.78 2.81-2.81c.8-.78.8-2.07 0-2.86zM5.41 20L4 18.59l7.72-7.72 1.47 1.35L5.41 20z\"/>\n",
              "  </svg>\n",
              "      </button>\n",
              "      \n",
              "  <style>\n",
              "    .colab-df-container {\n",
              "      display:flex;\n",
              "      flex-wrap:wrap;\n",
              "      gap: 12px;\n",
              "    }\n",
              "\n",
              "    .colab-df-convert {\n",
              "      background-color: #E8F0FE;\n",
              "      border: none;\n",
              "      border-radius: 50%;\n",
              "      cursor: pointer;\n",
              "      display: none;\n",
              "      fill: #1967D2;\n",
              "      height: 32px;\n",
              "      padding: 0 0 0 0;\n",
              "      width: 32px;\n",
              "    }\n",
              "\n",
              "    .colab-df-convert:hover {\n",
              "      background-color: #E2EBFA;\n",
              "      box-shadow: 0px 1px 2px rgba(60, 64, 67, 0.3), 0px 1px 3px 1px rgba(60, 64, 67, 0.15);\n",
              "      fill: #174EA6;\n",
              "    }\n",
              "\n",
              "    [theme=dark] .colab-df-convert {\n",
              "      background-color: #3B4455;\n",
              "      fill: #D2E3FC;\n",
              "    }\n",
              "\n",
              "    [theme=dark] .colab-df-convert:hover {\n",
              "      background-color: #434B5C;\n",
              "      box-shadow: 0px 1px 3px 1px rgba(0, 0, 0, 0.15);\n",
              "      filter: drop-shadow(0px 1px 2px rgba(0, 0, 0, 0.3));\n",
              "      fill: #FFFFFF;\n",
              "    }\n",
              "  </style>\n",
              "\n",
              "      <script>\n",
              "        const buttonEl =\n",
              "          document.querySelector('#df-bec2f219-ff15-4504-9beb-93cc663b09c1 button.colab-df-convert');\n",
              "        buttonEl.style.display =\n",
              "          google.colab.kernel.accessAllowed ? 'block' : 'none';\n",
              "\n",
              "        async function convertToInteractive(key) {\n",
              "          const element = document.querySelector('#df-bec2f219-ff15-4504-9beb-93cc663b09c1');\n",
              "          const dataTable =\n",
              "            await google.colab.kernel.invokeFunction('convertToInteractive',\n",
              "                                                     [key], {});\n",
              "          if (!dataTable) return;\n",
              "\n",
              "          const docLinkHtml = 'Like what you see? Visit the ' +\n",
              "            '<a target=\"_blank\" href=https://colab.research.google.com/notebooks/data_table.ipynb>data table notebook</a>'\n",
              "            + ' to learn more about interactive tables.';\n",
              "          element.innerHTML = '';\n",
              "          dataTable['output_type'] = 'display_data';\n",
              "          await google.colab.output.renderOutput(dataTable, element);\n",
              "          const docLink = document.createElement('div');\n",
              "          docLink.innerHTML = docLinkHtml;\n",
              "          element.appendChild(docLink);\n",
              "        }\n",
              "      </script>\n",
              "    </div>\n",
              "  </div>\n",
              "  "
            ]
          },
          "metadata": {},
          "execution_count": 72
        }
      ],
      "source": [
        "df33=pd.DataFrame({'Actual':y_test,'Predicted':pred})\n",
        "df33.head(10)"
      ]
    },
    {
      "cell_type": "code",
      "execution_count": 73,
      "metadata": {
        "id": "EAUX28AuBbJY"
      },
      "outputs": [],
      "source": [
        "from sklearn.metrics import confusion_matrix,classification_report,accuracy_score"
      ]
    },
    {
      "cell_type": "code",
      "execution_count": 74,
      "metadata": {
        "id": "cml0UnEDBbJY",
        "outputId": "4c1ebd90-077c-4237-c742-1163a935ac27",
        "colab": {
          "base_uri": "https://localhost:8080/"
        }
      },
      "outputs": [
        {
          "output_type": "stream",
          "name": "stdout",
          "text": [
            "              precision    recall  f1-score   support\n",
            "\n",
            "           0       0.81      0.76      0.78        91\n",
            "           1       0.85      0.88      0.86       136\n",
            "\n",
            "    accuracy                           0.83       227\n",
            "   macro avg       0.83      0.82      0.82       227\n",
            "weighted avg       0.83      0.83      0.83       227\n",
            "\n"
          ]
        }
      ],
      "source": [
        "print(classification_report(y_test,pred))"
      ]
    },
    {
      "cell_type": "code",
      "execution_count": 75,
      "metadata": {
        "id": "CNat8NUbBbJZ",
        "outputId": "774539e2-0126-486f-b194-a8f3769242ab",
        "colab": {
          "base_uri": "https://localhost:8080/"
        }
      },
      "outputs": [
        {
          "output_type": "stream",
          "name": "stdout",
          "text": [
            "The Accuracy Score Is : 0.83\n"
          ]
        }
      ],
      "source": [
        "print('The Accuracy Score Is :',round(accuracy_score(y_test,pred),2))"
      ]
    },
    {
      "cell_type": "markdown",
      "metadata": {
        "id": "iGxuFieKBbJZ"
      },
      "source": [
        "## As You can see , pipeline proved with better accuracy score and results.."
      ]
    }
  ]
}